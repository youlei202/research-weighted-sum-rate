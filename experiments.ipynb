{
 "cells": [
  {
   "cell_type": "code",
   "execution_count": 18,
   "metadata": {},
   "outputs": [
    {
     "data": {
      "application/vnd.jupyter.widget-view+json": {
       "model_id": "e3097f0aa5d94edd998502981fb47da9",
       "version_major": 2,
       "version_minor": 0
      },
      "text/plain": [
       "VBox(children=(Output(),))"
      ]
     },
     "metadata": {},
     "output_type": "display_data"
    }
   ],
   "source": [
    "%matplotlib inline\n",
    "\n",
    "# To prevent automatic figure display when execution of the cell ends\n",
    "%config InlineBackend.close_figures=False \n",
    "\n",
    "import matplotlib.pyplot as plt\n",
    "from ipywidgets import widgets\n",
    "from IPython.display import display,clear_output\n",
    "\n",
    "import numpy as np\n",
    "import pandas as pd\n",
    "\n",
    "import warnings\n",
    "warnings.filterwarnings(\"ignore\")\n",
    "\n",
    "\n",
    "from src.network_sim import NetworkSimulator\n",
    "from src.algorithm import stochastic_wmmse\n",
    "from src.experiment import ExperimentInterferenceModelComparison\n",
    "\n",
    "%reload_ext autoreload\n",
    "%autoreload 2\n",
    "%aimport src\n",
    "\n",
    "def plot_convergence(data, ax):\n",
    "\n",
    "    data_grouped = data.groupby('iteration').agg(['mean', 'std', 'count'])\n",
    "    column_names = data_grouped.droplevel(axis=1, level=1).columns.unique().tolist()\n",
    "    for col in column_names:\n",
    "        data_grouped[col, 'ci'] = 1.64*data_grouped[col, 'std'] / np.sqrt(data_grouped[col, 'count'])\n",
    "        data_grouped[col, 'ci_lower'] = data_grouped[col, 'mean'] - data_grouped[col, 'ci']\n",
    "        data_grouped[col, 'ci_upper'] = data_grouped[col, 'mean'] + data_grouped[col, 'ci']\n",
    "\n",
    "    for col in column_names:\n",
    "        x = data_grouped[col].index\n",
    "        y = data_grouped[col, 'mean']\n",
    "        ax.plot(x, y, label=col);\n",
    "        ax.fill_between(\n",
    "            x, data_grouped[col, 'ci_lower'], data_grouped[col, 'ci_upper'], alpha=.15\n",
    "        );\n",
    "        ax.legend();\n",
    "    return ax\n",
    "\n",
    "plt.ioff()\n",
    "ax=plt.gca();\n",
    "\n",
    "out=widgets.Output()\n",
    "vbox=widgets.VBox([out])\n",
    "display(vbox);\n",
    "\n",
    "data_list = []\n",
    "max_round = 50\n",
    "for t in range(max_round):\n",
    "    simulator = NetworkSimulator(Tx_radius=200, Rx_radius=25, num_Tx_netA=5, num_Rx_per_Tx_netA=8, num_Tx_netB=5, num_Rx_per_Tx_netB=8)\n",
    "\n",
    "    max_power = 200\n",
    "    netB_power_training_mode = 'dependent' # ['dependent', 'zero', 'random']\n",
    "    netB_power_testing_mode = 'dependent' # ['dependent', 'zero', 'random', 'uniform']\n",
    "\n",
    "    max_iterations = 500\n",
    "\n",
    "    model_comparison = ExperimentInterferenceModelComparison(simulator=simulator)\n",
    "    model_comparison.data_generation(num_samples=1000, max_power=max_power, netB_power_mode=netB_power_training_mode)\n",
    "    model_comparison.modeling(synthetic_constrained=True)\n",
    "    starting_powers_mW = [1e-5 for i in range(simulator.num_Rx)]\n",
    "    # Rx_weights = np.random.uniform(0.1, 1, simulator.num_Rx)\n",
    "    Rx_weights = np.ones(simulator.num_Rx)\n",
    "\n",
    "    rates_original_method = stochastic_wmmse(\n",
    "        simulator=simulator,\n",
    "        Rx_powers_mW=starting_powers_mW,\n",
    "        Rx_max_powers_mW=max_power,\n",
    "        Rx_weights=Rx_weights,\n",
    "        interference_mode='original',\n",
    "        interference_models=[],\n",
    "        netB_power_mode = netB_power_testing_mode,\n",
    "        power_corr_mat=model_comparison.power_corr_mat,\n",
    "        max_iter=max_iterations,\n",
    "    );\n",
    "\n",
    "    rates_local_method = stochastic_wmmse(\n",
    "        simulator=simulator,\n",
    "        Rx_powers_mW=starting_powers_mW,\n",
    "        Rx_max_powers_mW=max_power,\n",
    "        Rx_weights=Rx_weights,\n",
    "        interference_mode='local',\n",
    "        interference_models=[],\n",
    "        netB_power_mode = netB_power_testing_mode,\n",
    "        power_corr_mat=model_comparison.power_corr_mat,\n",
    "        max_iter=max_iterations,\n",
    "    );\n",
    "\n",
    "    rates_sc_method = stochastic_wmmse(\n",
    "        simulator=simulator,\n",
    "        Rx_powers_mW=starting_powers_mW,\n",
    "        Rx_max_powers_mW=max_power,\n",
    "        Rx_weights=Rx_weights,\n",
    "        interference_mode='sc_estimate',\n",
    "        interference_models=model_comparison.sc_models,\n",
    "        netB_power_mode = netB_power_testing_mode,\n",
    "        power_corr_mat=model_comparison.power_corr_mat,\n",
    "        max_iter=max_iterations,\n",
    "    );\n",
    "    data_slice = pd.DataFrame({\n",
    "        'iteration': range(len(rates_original_method)), \n",
    "        'wmmse': rates_original_method,\n",
    "        'wmmse_local': rates_local_method,\n",
    "        'wmmse_sc': rates_sc_method,\n",
    "    })\n",
    "    data_list.append(data_slice)\n",
    "    data = pd.concat(data_list).reset_index(drop=True)\n",
    "\n",
    "    ax.clear();\n",
    "    ax = plot_convergence(data, ax);\n",
    "    with out:\n",
    "        clear_output(wait=True);\n",
    "        print(f'Round:{t}')\n",
    "        display(ax.figure);"
   ]
  },
  {
   "cell_type": "code",
   "execution_count": 20,
   "metadata": {},
   "outputs": [],
   "source": [
    "data.to_csv(\n",
    "    f'data/{netB_power_training_mode}_{netB_power_testing_mode}_iter{max_round}_txA{simulator.num_Tx_netA}_txB{simulator.num_Tx_netB}_rx{simulator.num_Rx_per_Tx_netB}.csv',\n",
    "    index=False\n",
    ")"
   ]
  },
  {
   "cell_type": "code",
   "execution_count": 19,
   "metadata": {},
   "outputs": [
    {
     "data": {
      "text/plain": [
       "('data/dependent_dependent_iter50_txA5_txB5_rx8.csv',)"
      ]
     },
     "execution_count": 19,
     "metadata": {},
     "output_type": "execute_result"
    }
   ],
   "source": [
    "f'data/{netB_power_training_mode}_{netB_power_testing_mode}_iter{max_round}_txA{simulator.num_Tx_netA}_txB{simulator.num_Tx_netB}_rx{simulator.num_Rx_per_Tx_netB}.csv',\n"
   ]
  },
  {
   "cell_type": "code",
   "execution_count": null,
   "metadata": {},
   "outputs": [],
   "source": []
  }
 ],
 "metadata": {
  "kernelspec": {
   "display_name": "Python 3.9.7",
   "language": "python",
   "name": "python3"
  },
  "language_info": {
   "codemirror_mode": {
    "name": "ipython",
    "version": 3
   },
   "file_extension": ".py",
   "mimetype": "text/x-python",
   "name": "python",
   "nbconvert_exporter": "python",
   "pygments_lexer": "ipython3",
   "version": "3.9.7"
  },
  "orig_nbformat": 4,
  "vscode": {
   "interpreter": {
    "hash": "92c6059857cd90f886057b6540f3fbd9cbe057fa31156affeeed8e9dc40e6663"
   }
  }
 },
 "nbformat": 4,
 "nbformat_minor": 2
}
