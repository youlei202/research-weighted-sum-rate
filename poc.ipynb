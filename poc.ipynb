{
 "cells": [
  {
   "cell_type": "code",
   "execution_count": 79,
   "metadata": {},
   "outputs": [],
   "source": [
    "import numpy as np\n",
    "import pandas as pd\n",
    "import math\n",
    "import seaborn as sns\n",
    "import matplotlib.pyplot as plt\n",
    "\n",
    "import warnings\n",
    "warnings.filterwarnings(\"ignore\")\n",
    "\n",
    "\n",
    "from src.path_loss import PathLossInHIndoorOffice, PathLossInHShoppingMalls\n",
    "from src.network_sim import NetworkSimulator\n",
    "from src.algorithm import wmmse, stochastic_wmmse\n",
    "from src.sc import SyntheticControl\n",
    "from src.experiment import ExperimentInterferenceModelComparison\n",
    "\n",
    "%reload_ext autoreload\n",
    "%autoreload 2\n",
    "%aimport src"
   ]
  },
  {
   "cell_type": "code",
   "execution_count": 80,
   "metadata": {},
   "outputs": [],
   "source": [
    "frequency_Hz= 50 * 1e9 # Hz\n",
    "distance_m = 50\n",
    "sample_size = 10"
   ]
  },
  {
   "cell_type": "code",
   "execution_count": 81,
   "metadata": {},
   "outputs": [
    {
     "data": {
      "text/html": [
       "<div>\n",
       "<style scoped>\n",
       "    .dataframe tbody tr th:only-of-type {\n",
       "        vertical-align: middle;\n",
       "    }\n",
       "\n",
       "    .dataframe tbody tr th {\n",
       "        vertical-align: top;\n",
       "    }\n",
       "\n",
       "    .dataframe thead th {\n",
       "        text-align: right;\n",
       "    }\n",
       "</style>\n",
       "<table border=\"1\" class=\"dataframe\">\n",
       "  <thead>\n",
       "    <tr style=\"text-align: right;\">\n",
       "      <th></th>\n",
       "      <th>PathLossInHIndoorOffice</th>\n",
       "      <th>PathLossInHShoppingMalls</th>\n",
       "    </tr>\n",
       "  </thead>\n",
       "  <tbody>\n",
       "    <tr>\n",
       "      <th>0</th>\n",
       "      <td>-138.924926</td>\n",
       "      <td>-114.778236</td>\n",
       "    </tr>\n",
       "    <tr>\n",
       "      <th>1</th>\n",
       "      <td>-92.521022</td>\n",
       "      <td>-110.410510</td>\n",
       "    </tr>\n",
       "    <tr>\n",
       "      <th>2</th>\n",
       "      <td>-135.620269</td>\n",
       "      <td>-102.108148</td>\n",
       "    </tr>\n",
       "    <tr>\n",
       "      <th>3</th>\n",
       "      <td>-92.997929</td>\n",
       "      <td>-99.652684</td>\n",
       "    </tr>\n",
       "    <tr>\n",
       "      <th>4</th>\n",
       "      <td>-114.973565</td>\n",
       "      <td>-102.858764</td>\n",
       "    </tr>\n",
       "    <tr>\n",
       "      <th>5</th>\n",
       "      <td>-142.746350</td>\n",
       "      <td>-94.969171</td>\n",
       "    </tr>\n",
       "    <tr>\n",
       "      <th>6</th>\n",
       "      <td>-134.411008</td>\n",
       "      <td>-100.722949</td>\n",
       "    </tr>\n",
       "    <tr>\n",
       "      <th>7</th>\n",
       "      <td>-94.385146</td>\n",
       "      <td>-114.269186</td>\n",
       "    </tr>\n",
       "    <tr>\n",
       "      <th>8</th>\n",
       "      <td>-118.736892</td>\n",
       "      <td>-103.312729</td>\n",
       "    </tr>\n",
       "    <tr>\n",
       "      <th>9</th>\n",
       "      <td>-122.768294</td>\n",
       "      <td>-100.367548</td>\n",
       "    </tr>\n",
       "  </tbody>\n",
       "</table>\n",
       "</div>"
      ],
      "text/plain": [
       "   PathLossInHIndoorOffice  PathLossInHShoppingMalls\n",
       "0              -138.924926               -114.778236\n",
       "1               -92.521022               -110.410510\n",
       "2              -135.620269               -102.108148\n",
       "3               -92.997929                -99.652684\n",
       "4              -114.973565               -102.858764\n",
       "5              -142.746350                -94.969171\n",
       "6              -134.411008               -100.722949\n",
       "7               -94.385146               -114.269186\n",
       "8              -118.736892               -103.312729\n",
       "9              -122.768294               -100.367548"
      ]
     },
     "execution_count": 81,
     "metadata": {},
     "output_type": "execute_result"
    }
   ],
   "source": [
    "pd.DataFrame({\n",
    "    'PathLossInHIndoorOffice':[PathLossInHIndoorOffice().in_dBm(frequency_Hz=frequency_Hz, distance_m=distance_m) for i in range(sample_size)],\n",
    "    'PathLossInHShoppingMalls': [PathLossInHShoppingMalls().in_dBm(frequency_Hz=frequency_Hz, distance_m=distance_m) for i in range(sample_size)],\n",
    "})"
   ]
  },
  {
   "cell_type": "code",
   "execution_count": 82,
   "metadata": {},
   "outputs": [],
   "source": [
    "simulator = NetworkSimulator(Tx_radius=200, Rx_radius=100, num_Tx_netA=3, num_Rx_per_Tx_netA=5, num_Tx_netB=2, num_Rx_per_Tx_netB=5)"
   ]
  },
  {
   "cell_type": "code",
   "execution_count": 83,
   "metadata": {},
   "outputs": [
    {
     "data": {
      "image/png": "[encoded data removed]",
      "text/plain": [
       "<Figure size 504x504 with 1 Axes>"
      ]
     },
     "metadata": {},
     "output_type": "display_data"
    }
   ],
   "source": [
    "simulator.plot_network()"
   ]
  },
  {
   "cell_type": "code",
   "execution_count": 84,
   "metadata": {},
   "outputs": [
    {
     "data": {
      "text/html": [
       "<div>\n",
       "<style scoped>\n",
       "    .dataframe tbody tr th:only-of-type {\n",
       "        vertical-align: middle;\n",
       "    }\n",
       "\n",
       "    .dataframe tbody tr th {\n",
       "        vertical-align: top;\n",
       "    }\n",
       "\n",
       "    .dataframe thead th {\n",
       "        text-align: right;\n",
       "    }\n",
       "</style>\n",
       "<table border=\"1\" class=\"dataframe\">\n",
       "  <thead>\n",
       "    <tr style=\"text-align: right;\">\n",
       "      <th></th>\n",
       "      <th>0</th>\n",
       "      <th>1</th>\n",
       "      <th>2</th>\n",
       "      <th>3</th>\n",
       "      <th>4</th>\n",
       "      <th>5</th>\n",
       "      <th>6</th>\n",
       "      <th>7</th>\n",
       "      <th>8</th>\n",
       "      <th>9</th>\n",
       "      <th>...</th>\n",
       "      <th>15</th>\n",
       "      <th>16</th>\n",
       "      <th>17</th>\n",
       "      <th>18</th>\n",
       "      <th>19</th>\n",
       "      <th>20</th>\n",
       "      <th>21</th>\n",
       "      <th>22</th>\n",
       "      <th>23</th>\n",
       "      <th>24</th>\n",
       "    </tr>\n",
       "  </thead>\n",
       "  <tbody>\n",
       "    <tr>\n",
       "      <th>0</th>\n",
       "      <td>-121.045228</td>\n",
       "      <td>-99.654267</td>\n",
       "      <td>-109.486528</td>\n",
       "      <td>-95.249286</td>\n",
       "      <td>-105.359327</td>\n",
       "      <td>-166.416437</td>\n",
       "      <td>-137.689090</td>\n",
       "      <td>-163.287940</td>\n",
       "      <td>-165.393698</td>\n",
       "      <td>-169.412239</td>\n",
       "      <td>...</td>\n",
       "      <td>-133.876909</td>\n",
       "      <td>-147.809453</td>\n",
       "      <td>-117.667376</td>\n",
       "      <td>-150.436276</td>\n",
       "      <td>-136.250314</td>\n",
       "      <td>-155.833298</td>\n",
       "      <td>-146.398587</td>\n",
       "      <td>-146.237918</td>\n",
       "      <td>-173.228124</td>\n",
       "      <td>-136.487453</td>\n",
       "    </tr>\n",
       "    <tr>\n",
       "      <th>1</th>\n",
       "      <td>-170.971300</td>\n",
       "      <td>-160.056750</td>\n",
       "      <td>-150.011306</td>\n",
       "      <td>-147.890030</td>\n",
       "      <td>-164.152095</td>\n",
       "      <td>-122.256108</td>\n",
       "      <td>-114.445707</td>\n",
       "      <td>-98.725911</td>\n",
       "      <td>-124.644563</td>\n",
       "      <td>-119.727584</td>\n",
       "      <td>...</td>\n",
       "      <td>-127.948495</td>\n",
       "      <td>-117.152769</td>\n",
       "      <td>-149.773371</td>\n",
       "      <td>-115.708170</td>\n",
       "      <td>-137.148463</td>\n",
       "      <td>-163.354274</td>\n",
       "      <td>-164.138795</td>\n",
       "      <td>-143.380710</td>\n",
       "      <td>-157.050182</td>\n",
       "      <td>-155.394093</td>\n",
       "    </tr>\n",
       "    <tr>\n",
       "      <th>2</th>\n",
       "      <td>-165.441175</td>\n",
       "      <td>-177.302524</td>\n",
       "      <td>-165.982848</td>\n",
       "      <td>-168.580277</td>\n",
       "      <td>-162.796427</td>\n",
       "      <td>-139.268578</td>\n",
       "      <td>-142.481808</td>\n",
       "      <td>-143.601501</td>\n",
       "      <td>-146.369583</td>\n",
       "      <td>-137.694405</td>\n",
       "      <td>...</td>\n",
       "      <td>-142.686127</td>\n",
       "      <td>-137.024278</td>\n",
       "      <td>-162.806020</td>\n",
       "      <td>-133.150684</td>\n",
       "      <td>-162.449270</td>\n",
       "      <td>-117.867773</td>\n",
       "      <td>-113.809305</td>\n",
       "      <td>-113.420289</td>\n",
       "      <td>-131.906855</td>\n",
       "      <td>-132.956655</td>\n",
       "    </tr>\n",
       "    <tr>\n",
       "      <th>3</th>\n",
       "      <td>-148.438085</td>\n",
       "      <td>-134.468867</td>\n",
       "      <td>-121.041437</td>\n",
       "      <td>-133.805911</td>\n",
       "      <td>-147.623090</td>\n",
       "      <td>-135.094245</td>\n",
       "      <td>-101.063651</td>\n",
       "      <td>-116.053414</td>\n",
       "      <td>-146.055992</td>\n",
       "      <td>-140.621169</td>\n",
       "      <td>...</td>\n",
       "      <td>-118.249739</td>\n",
       "      <td>-119.912215</td>\n",
       "      <td>-108.039542</td>\n",
       "      <td>-113.515975</td>\n",
       "      <td>-114.007601</td>\n",
       "      <td>-144.410207</td>\n",
       "      <td>-149.922435</td>\n",
       "      <td>-145.189176</td>\n",
       "      <td>-154.591862</td>\n",
       "      <td>-126.044706</td>\n",
       "    </tr>\n",
       "    <tr>\n",
       "      <th>4</th>\n",
       "      <td>-167.495606</td>\n",
       "      <td>-159.744860</td>\n",
       "      <td>-154.231497</td>\n",
       "      <td>-157.374575</td>\n",
       "      <td>-162.452033</td>\n",
       "      <td>-159.626404</td>\n",
       "      <td>-132.884683</td>\n",
       "      <td>-151.640577</td>\n",
       "      <td>-165.494100</td>\n",
       "      <td>-153.318416</td>\n",
       "      <td>...</td>\n",
       "      <td>-152.545002</td>\n",
       "      <td>-144.752635</td>\n",
       "      <td>-158.508273</td>\n",
       "      <td>-130.933522</td>\n",
       "      <td>-152.338862</td>\n",
       "      <td>-109.729283</td>\n",
       "      <td>-111.951991</td>\n",
       "      <td>-106.259343</td>\n",
       "      <td>-120.005857</td>\n",
       "      <td>-131.485802</td>\n",
       "    </tr>\n",
       "  </tbody>\n",
       "</table>\n",
       "<p>5 rows × 25 columns</p>\n",
       "</div>"
      ],
      "text/plain": [
       "           0           1           2           3           4           5   \\\n",
       "0 -121.045228  -99.654267 -109.486528  -95.249286 -105.359327 -166.416437   \n",
       "1 -170.971300 -160.056750 -150.011306 -147.890030 -164.152095 -122.256108   \n",
       "2 -165.441175 -177.302524 -165.982848 -168.580277 -162.796427 -139.268578   \n",
       "3 -148.438085 -134.468867 -121.041437 -133.805911 -147.623090 -135.094245   \n",
       "4 -167.495606 -159.744860 -154.231497 -157.374575 -162.452033 -159.626404   \n",
       "\n",
       "           6           7           8           9   ...          15  \\\n",
       "0 -137.689090 -163.287940 -165.393698 -169.412239  ... -133.876909   \n",
       "1 -114.445707  -98.725911 -124.644563 -119.727584  ... -127.948495   \n",
       "2 -142.481808 -143.601501 -146.369583 -137.694405  ... -142.686127   \n",
       "3 -101.063651 -116.053414 -146.055992 -140.621169  ... -118.249739   \n",
       "4 -132.884683 -151.640577 -165.494100 -153.318416  ... -152.545002   \n",
       "\n",
       "           16          17          18          19          20          21  \\\n",
       "0 -147.809453 -117.667376 -150.436276 -136.250314 -155.833298 -146.398587   \n",
       "1 -117.152769 -149.773371 -115.708170 -137.148463 -163.354274 -164.138795   \n",
       "2 -137.024278 -162.806020 -133.150684 -162.449270 -117.867773 -113.809305   \n",
       "3 -119.912215 -108.039542 -113.515975 -114.007601 -144.410207 -149.922435   \n",
       "4 -144.752635 -158.508273 -130.933522 -152.338862 -109.729283 -111.951991   \n",
       "\n",
       "           22          23          24  \n",
       "0 -146.237918 -173.228124 -136.487453  \n",
       "1 -143.380710 -157.050182 -155.394093  \n",
       "2 -113.420289 -131.906855 -132.956655  \n",
       "3 -145.189176 -154.591862 -126.044706  \n",
       "4 -106.259343 -120.005857 -131.485802  \n",
       "\n",
       "[5 rows x 25 columns]"
      ]
     },
     "execution_count": 84,
     "metadata": {},
     "output_type": "execute_result"
    }
   ],
   "source": [
    "pd.DataFrame(simulator.gain_mat_dBm)"
   ]
  },
  {
   "cell_type": "code",
   "execution_count": 85,
   "metadata": {},
   "outputs": [
    {
     "data": {
      "image/png": "[encoded data removed]",
      "text/plain": [
       "<Figure size 1152x230.4 with 2 Axes>"
      ]
     },
     "metadata": {
      "needs_background": "light"
     },
     "output_type": "display_data"
    }
   ],
   "source": [
    "simulator.plot_gain_mat()"
   ]
  },
  {
   "cell_type": "markdown",
   "metadata": {},
   "source": [
    "## Model Comparisons"
   ]
  },
  {
   "cell_type": "code",
   "execution_count": 86,
   "metadata": {},
   "outputs": [
    {
     "data": {
      "text/plain": [
       "183.39234665974948"
      ]
     },
     "execution_count": 86,
     "metadata": {},
     "output_type": "execute_result"
    }
   ],
   "source": [
    "simulator.weighted_sum_rate_Gnats([200 for i in range(simulator.num_Rx)], Rx_weights=np.ones(simulator.num_Rx))"
   ]
  },
  {
   "cell_type": "code",
   "execution_count": 87,
   "metadata": {},
   "outputs": [],
   "source": [
    "# model_comparison = ExperimentInterferenceModelComparison(simulator=simulator)\n",
    "# model_comparison.data_generation(num_samples=100, max_power=500, netB_power_mode='zero')\n",
    "# model_comparison.modeling()"
   ]
  },
  {
   "cell_type": "code",
   "execution_count": 88,
   "metadata": {},
   "outputs": [],
   "source": [
    "# model_comparison.run(num_rounds=100, netA_power_mode='wmmse', netB_power_mode='zero')"
   ]
  },
  {
   "cell_type": "code",
   "execution_count": 89,
   "metadata": {},
   "outputs": [],
   "source": [
    "# model_comparison.run(num_rounds=100, netA_power_mode='wmmse', netB_power_mode='dependent')"
   ]
  },
  {
   "cell_type": "code",
   "execution_count": 90,
   "metadata": {},
   "outputs": [],
   "source": [
    "# model_comparison.run(num_rounds=100, netA_power_mode='wmmse', netB_power_mode='uniform')"
   ]
  },
  {
   "cell_type": "markdown",
   "metadata": {},
   "source": [
    "## Algorithm Comparisons"
   ]
  },
  {
   "cell_type": "code",
   "execution_count": 97,
   "metadata": {},
   "outputs": [],
   "source": [
    "max_power = 200\n",
    "netB_power_training_mode = 'dependent' # ['dependent', 'zero', 'random']\n",
    "netB_power_testing_mode = 'zero' # ['dependent', 'zero', 'random', 'uniform']\n",
    "\n",
    "max_iterations = 300\n",
    "\n",
    "model_comparison = ExperimentInterferenceModelComparison(simulator=simulator)\n",
    "model_comparison.data_generation(num_samples=1000, max_power=max_power, netB_power_mode=netB_power_training_mode)\n",
    "model_comparison.modeling(synthetic_constrained=True)\n",
    "starting_powers_mW = [1e-5 for i in range(simulator.num_Rx)]\n",
    "# Rx_weights = np.random.uniform(0.1, 1, simulator.num_Rx)\n",
    "Rx_weights = np.ones(simulator.num_Rx)"
   ]
  },
  {
   "cell_type": "code",
   "execution_count": 98,
   "metadata": {},
   "outputs": [
    {
     "name": "stdout",
     "output_type": "stream",
     "text": [
      "Denominator: 6.621266672764581e-09\n",
      "Weighted Sum Rate: 197.20214274714877\n",
      "Power: [  0.          44.00982747   0.           0.           0.\n",
      "   0.           0.         200.           0.           0.\n",
      "   0.           0.           0.          56.10882021   0.        ], [1e-05, 1e-05, 1e-05, 1e-05, 1e-05, 1e-05, 1e-05, 1e-05, 1e-05, 1e-05]\n",
      "Convergence Error at Round 300 0.00890965352348477\n"
     ]
    }
   ],
   "source": [
    "rates_original_method = stochastic_wmmse(\n",
    "    simulator=simulator,\n",
    "    Rx_powers_mW=starting_powers_mW,\n",
    "    Rx_max_powers_mW=max_power,\n",
    "    Rx_weights=Rx_weights,\n",
    "    interference_mode='original',\n",
    "    interference_models=[],\n",
    "    netB_power_mode = netB_power_testing_mode,\n",
    "    power_corr_mat=model_comparison.power_corr_mat,\n",
    "    max_iter=max_iterations,\n",
    ");"
   ]
  },
  {
   "cell_type": "code",
   "execution_count": 99,
   "metadata": {},
   "outputs": [],
   "source": [
    "# rates_local_method = stochastic_wmmse(\n",
    "#     simulator=simulator,\n",
    "#     Rx_powers_mW=starting_powers_mW,\n",
    "#     Rx_max_powers_mW=max_power,\n",
    "#     Rx_weights=Rx_weights,\n",
    "#     interference_mode='local',\n",
    "#     interference_models=[],\n",
    "#     netB_power_mode = netB_power_testing_mode,\n",
    "#     power_corr_mat=model_comparison.power_corr_mat,\n",
    "#     max_iter=max_iterations,\n",
    "# );"
   ]
  },
  {
   "cell_type": "code",
   "execution_count": 100,
   "metadata": {},
   "outputs": [
    {
     "name": "stdout",
     "output_type": "stream",
     "text": [
      "Denominator: 7.826190698750932e-13\n",
      "Weighted Sum Rate: 113.46088035366265\n",
      "Power: [0.        0.5559047 0.        0.        0.        0.        0.\n",
      " 0.        0.        0.        0.        0.        0.        0.\n",
      " 0.       ], [1e-05, 1e-05, 1e-05, 1e-05, 1e-05, 1e-05, 1e-05, 1e-05, 1e-05, 1e-05]\n",
      "Convergence Error at Round 300 0.5528777326928602\n"
     ]
    }
   ],
   "source": [
    "rates_sc_method = stochastic_wmmse(\n",
    "    simulator=simulator,\n",
    "    Rx_powers_mW=starting_powers_mW,\n",
    "    Rx_max_powers_mW=max_power,\n",
    "    Rx_weights=Rx_weights,\n",
    "    interference_mode='sc_estimate',\n",
    "    interference_models=model_comparison.sc_models,\n",
    "    netB_power_mode = netB_power_testing_mode,\n",
    "    power_corr_mat=model_comparison.power_corr_mat,\n",
    "    max_iter=max_iterations,\n",
    ");"
   ]
  },
  {
   "cell_type": "code",
   "execution_count": 101,
   "metadata": {},
   "outputs": [],
   "source": [
    "# rates_lr_method = stochastic_wmmse(\n",
    "#     simulator=simulator,\n",
    "#     Rx_powers_mW=starting_powers_mW,\n",
    "#     Rx_max_powers_mW=max_power,\n",
    "#     Rx_weights=Rx_weights,\n",
    "#     interference_mode='lr_estimate',\n",
    "#     interference_models=model_comparison.lr_models,\n",
    "#     netB_power_mode = netB_power_testing_mode,\n",
    "#     power_corr_mat=model_comparison.power_corr_mat,\n",
    "#     max_iter=max_iterations,\n",
    "# );"
   ]
  },
  {
   "cell_type": "code",
   "execution_count": 102,
   "metadata": {},
   "outputs": [
    {
     "data": {
      "image/png": "[encoded data removed]",
      "text/plain": [
       "<Figure size 432x288 with 1 Axes>"
      ]
     },
     "metadata": {
      "needs_background": "light"
     },
     "output_type": "display_data"
    }
   ],
   "source": [
    "data = pd.DataFrame({\n",
    "    'wmmse': rates_original_method,\n",
    "    # 'wmmse_local': rates_local_method,\n",
    "    'wmmse_sc': rates_sc_method,\n",
    "    # 'wmmse_lr': rates_lr_method,\n",
    "})\n",
    "data.plot();"
   ]
  },
  {
   "cell_type": "code",
   "execution_count": null,
   "metadata": {},
   "outputs": [],
   "source": []
  },
  {
   "cell_type": "code",
   "execution_count": null,
   "metadata": {},
   "outputs": [],
   "source": []
  }
 ],
 "metadata": {
  "kernelspec": {
   "display_name": "Python 3.9.7",
   "language": "python",
   "name": "python3"
  },
  "language_info": {
   "codemirror_mode": {
    "name": "ipython",
    "version": 3
   },
   "file_extension": ".py",
   "mimetype": "text/x-python",
   "name": "python",
   "nbconvert_exporter": "python",
   "pygments_lexer": "ipython3",
   "version": "3.9.7"
  },
  "orig_nbformat": 4,
  "vscode": {
   "interpreter": {
    "hash": "92c6059857cd90f886057b6540f3fbd9cbe057fa31156affeeed8e9dc40e6663"
   }
  }
 },
 "nbformat": 4,
 "nbformat_minor": 2
}
