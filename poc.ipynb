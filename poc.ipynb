{
 "cells": [
  {
   "cell_type": "code",
   "execution_count": 67,
   "metadata": {},
   "outputs": [],
   "source": [
    "import numpy as np\n",
    "import pandas as pd\n",
    "import math\n",
    "import seaborn as sns\n",
    "import matplotlib.pyplot as plt\n",
    "\n",
    "import warnings\n",
    "warnings.filterwarnings(\"ignore\")\n",
    "\n",
    "from src.path_loss import PathLossInHIndoorOffice, PathLossInHShoppingMalls\n",
    "\n",
    "from src.network_sim import NetworkSimulator\n",
    "\n",
    "\n",
    "%reload_ext autoreload\n",
    "%autoreload 2\n",
    "%aimport src"
   ]
  },
  {
   "cell_type": "code",
   "execution_count": 68,
   "metadata": {},
   "outputs": [],
   "source": [
    "frequency_Hz= 50 * 1e9 # Hz\n",
    "distance_m = 50\n",
    "sample_size = 10"
   ]
  },
  {
   "cell_type": "code",
   "execution_count": 69,
   "metadata": {},
   "outputs": [
    {
     "data": {
      "text/html": [
       "<div>\n",
       "<style scoped>\n",
       "    .dataframe tbody tr th:only-of-type {\n",
       "        vertical-align: middle;\n",
       "    }\n",
       "\n",
       "    .dataframe tbody tr th {\n",
       "        vertical-align: top;\n",
       "    }\n",
       "\n",
       "    .dataframe thead th {\n",
       "        text-align: right;\n",
       "    }\n",
       "</style>\n",
       "<table border=\"1\" class=\"dataframe\">\n",
       "  <thead>\n",
       "    <tr style=\"text-align: right;\">\n",
       "      <th></th>\n",
       "      <th>PathLossInHIndoorOffice</th>\n",
       "      <th>PathLossInHShoppingMalls</th>\n",
       "    </tr>\n",
       "  </thead>\n",
       "  <tbody>\n",
       "    <tr>\n",
       "      <th>0</th>\n",
       "      <td>-133.897807</td>\n",
       "      <td>-103.739513</td>\n",
       "    </tr>\n",
       "    <tr>\n",
       "      <th>1</th>\n",
       "      <td>-131.871112</td>\n",
       "      <td>-107.080335</td>\n",
       "    </tr>\n",
       "    <tr>\n",
       "      <th>2</th>\n",
       "      <td>-144.595920</td>\n",
       "      <td>-113.625351</td>\n",
       "    </tr>\n",
       "    <tr>\n",
       "      <th>3</th>\n",
       "      <td>-128.402439</td>\n",
       "      <td>-100.170267</td>\n",
       "    </tr>\n",
       "    <tr>\n",
       "      <th>4</th>\n",
       "      <td>-137.993922</td>\n",
       "      <td>-94.908223</td>\n",
       "    </tr>\n",
       "    <tr>\n",
       "      <th>5</th>\n",
       "      <td>-119.372512</td>\n",
       "      <td>-97.146992</td>\n",
       "    </tr>\n",
       "    <tr>\n",
       "      <th>6</th>\n",
       "      <td>-123.062663</td>\n",
       "      <td>-111.377403</td>\n",
       "    </tr>\n",
       "    <tr>\n",
       "      <th>7</th>\n",
       "      <td>-132.201249</td>\n",
       "      <td>-98.279399</td>\n",
       "    </tr>\n",
       "    <tr>\n",
       "      <th>8</th>\n",
       "      <td>-134.445890</td>\n",
       "      <td>-105.931246</td>\n",
       "    </tr>\n",
       "    <tr>\n",
       "      <th>9</th>\n",
       "      <td>-130.975092</td>\n",
       "      <td>-102.910524</td>\n",
       "    </tr>\n",
       "  </tbody>\n",
       "</table>\n",
       "</div>"
      ],
      "text/plain": [
       "   PathLossInHIndoorOffice  PathLossInHShoppingMalls\n",
       "0              -133.897807               -103.739513\n",
       "1              -131.871112               -107.080335\n",
       "2              -144.595920               -113.625351\n",
       "3              -128.402439               -100.170267\n",
       "4              -137.993922                -94.908223\n",
       "5              -119.372512                -97.146992\n",
       "6              -123.062663               -111.377403\n",
       "7              -132.201249                -98.279399\n",
       "8              -134.445890               -105.931246\n",
       "9              -130.975092               -102.910524"
      ]
     },
     "execution_count": 69,
     "metadata": {},
     "output_type": "execute_result"
    }
   ],
   "source": [
    "pd.DataFrame({\n",
    "    'PathLossInHIndoorOffice':[PathLossInHIndoorOffice().in_dBm(frequency_Hz=frequency_Hz, distance_m=distance_m) for i in range(sample_size)],\n",
    "    'PathLossInHShoppingMalls': [PathLossInHShoppingMalls().in_dBm(frequency_Hz=frequency_Hz, distance_m=distance_m) for i in range(sample_size)],\n",
    "})"
   ]
  },
  {
   "cell_type": "code",
   "execution_count": 80,
   "metadata": {},
   "outputs": [],
   "source": [
    "simulator = NetworkSimulator(Tx_radius=100, Rx_radius=25, num_Tx_known=3, num_Rx_per_Tx_known=5, num_Tx_unknown=2, num_Rx_per_Tx_unknown=3)"
   ]
  },
  {
   "cell_type": "code",
   "execution_count": 81,
   "metadata": {},
   "outputs": [
    {
     "data": {
      "image/png": "[encoded data removed]",
      "text/plain": [
       "<Figure size 504x504 with 1 Axes>"
      ]
     },
     "metadata": {},
     "output_type": "display_data"
    }
   ],
   "source": [
    "simulator.plot_network()"
   ]
  },
  {
   "cell_type": "code",
   "execution_count": 82,
   "metadata": {},
   "outputs": [
    {
     "data": {
      "text/html": [
       "<div>\n",
       "<style scoped>\n",
       "    .dataframe tbody tr th:only-of-type {\n",
       "        vertical-align: middle;\n",
       "    }\n",
       "\n",
       "    .dataframe tbody tr th {\n",
       "        vertical-align: top;\n",
       "    }\n",
       "\n",
       "    .dataframe thead th {\n",
       "        text-align: right;\n",
       "    }\n",
       "</style>\n",
       "<table border=\"1\" class=\"dataframe\">\n",
       "  <thead>\n",
       "    <tr style=\"text-align: right;\">\n",
       "      <th></th>\n",
       "      <th>0</th>\n",
       "      <th>1</th>\n",
       "      <th>2</th>\n",
       "      <th>3</th>\n",
       "      <th>4</th>\n",
       "      <th>5</th>\n",
       "      <th>6</th>\n",
       "      <th>7</th>\n",
       "      <th>8</th>\n",
       "      <th>9</th>\n",
       "      <th>...</th>\n",
       "      <th>11</th>\n",
       "      <th>12</th>\n",
       "      <th>13</th>\n",
       "      <th>14</th>\n",
       "      <th>15</th>\n",
       "      <th>16</th>\n",
       "      <th>17</th>\n",
       "      <th>18</th>\n",
       "      <th>19</th>\n",
       "      <th>20</th>\n",
       "    </tr>\n",
       "  </thead>\n",
       "  <tbody>\n",
       "    <tr>\n",
       "      <th>0</th>\n",
       "      <td>-96.741560</td>\n",
       "      <td>-106.295654</td>\n",
       "      <td>-110.716042</td>\n",
       "      <td>-87.149514</td>\n",
       "      <td>-107.100478</td>\n",
       "      <td>-88.813074</td>\n",
       "      <td>-92.215206</td>\n",
       "      <td>-88.101184</td>\n",
       "      <td>-106.754880</td>\n",
       "      <td>-105.423921</td>\n",
       "      <td>...</td>\n",
       "      <td>-95.074260</td>\n",
       "      <td>-89.477883</td>\n",
       "      <td>-97.552084</td>\n",
       "      <td>-101.535362</td>\n",
       "      <td>-122.775197</td>\n",
       "      <td>-111.164740</td>\n",
       "      <td>-125.030542</td>\n",
       "      <td>-114.875441</td>\n",
       "      <td>-123.876278</td>\n",
       "      <td>-110.752568</td>\n",
       "    </tr>\n",
       "    <tr>\n",
       "      <th>1</th>\n",
       "      <td>-104.816259</td>\n",
       "      <td>-110.456938</td>\n",
       "      <td>-91.575549</td>\n",
       "      <td>-104.609687</td>\n",
       "      <td>-86.663320</td>\n",
       "      <td>-87.412025</td>\n",
       "      <td>-108.583920</td>\n",
       "      <td>-82.541045</td>\n",
       "      <td>-113.746372</td>\n",
       "      <td>-100.237289</td>\n",
       "      <td>...</td>\n",
       "      <td>-89.209957</td>\n",
       "      <td>-100.709807</td>\n",
       "      <td>-101.792627</td>\n",
       "      <td>-99.046567</td>\n",
       "      <td>-115.270342</td>\n",
       "      <td>-114.919171</td>\n",
       "      <td>-113.639687</td>\n",
       "      <td>-109.397810</td>\n",
       "      <td>-116.133175</td>\n",
       "      <td>-118.148003</td>\n",
       "    </tr>\n",
       "    <tr>\n",
       "      <th>2</th>\n",
       "      <td>-95.736502</td>\n",
       "      <td>-100.937092</td>\n",
       "      <td>-95.270121</td>\n",
       "      <td>-100.025136</td>\n",
       "      <td>-102.157031</td>\n",
       "      <td>-92.929473</td>\n",
       "      <td>-102.024267</td>\n",
       "      <td>-102.665276</td>\n",
       "      <td>-88.637443</td>\n",
       "      <td>-105.894122</td>\n",
       "      <td>...</td>\n",
       "      <td>-92.799353</td>\n",
       "      <td>-100.774130</td>\n",
       "      <td>-100.443882</td>\n",
       "      <td>-95.849513</td>\n",
       "      <td>-120.262694</td>\n",
       "      <td>-112.902488</td>\n",
       "      <td>-116.863406</td>\n",
       "      <td>-124.195920</td>\n",
       "      <td>-110.257186</td>\n",
       "      <td>-135.572575</td>\n",
       "    </tr>\n",
       "    <tr>\n",
       "      <th>3</th>\n",
       "      <td>-132.652541</td>\n",
       "      <td>-129.253446</td>\n",
       "      <td>-118.347883</td>\n",
       "      <td>-135.278070</td>\n",
       "      <td>-127.842192</td>\n",
       "      <td>-133.907956</td>\n",
       "      <td>-110.368131</td>\n",
       "      <td>-123.699246</td>\n",
       "      <td>-112.259249</td>\n",
       "      <td>-111.924193</td>\n",
       "      <td>...</td>\n",
       "      <td>-115.953426</td>\n",
       "      <td>-116.311645</td>\n",
       "      <td>-118.281821</td>\n",
       "      <td>-122.283485</td>\n",
       "      <td>-89.616093</td>\n",
       "      <td>-91.894091</td>\n",
       "      <td>-94.186492</td>\n",
       "      <td>-135.477426</td>\n",
       "      <td>-133.094117</td>\n",
       "      <td>-146.125676</td>\n",
       "    </tr>\n",
       "    <tr>\n",
       "      <th>4</th>\n",
       "      <td>-120.845980</td>\n",
       "      <td>-100.839740</td>\n",
       "      <td>-106.726664</td>\n",
       "      <td>-119.150099</td>\n",
       "      <td>-117.745440</td>\n",
       "      <td>-114.515591</td>\n",
       "      <td>-114.314486</td>\n",
       "      <td>-116.164754</td>\n",
       "      <td>-117.974021</td>\n",
       "      <td>-117.266604</td>\n",
       "      <td>...</td>\n",
       "      <td>-117.990844</td>\n",
       "      <td>-113.362903</td>\n",
       "      <td>-133.007786</td>\n",
       "      <td>-113.236908</td>\n",
       "      <td>-132.232384</td>\n",
       "      <td>-128.246728</td>\n",
       "      <td>-133.353397</td>\n",
       "      <td>-82.930201</td>\n",
       "      <td>-106.415818</td>\n",
       "      <td>-98.770797</td>\n",
       "    </tr>\n",
       "  </tbody>\n",
       "</table>\n",
       "<p>5 rows × 21 columns</p>\n",
       "</div>"
      ],
      "text/plain": [
       "           0           1           2           3           4           5   \\\n",
       "0  -96.741560 -106.295654 -110.716042  -87.149514 -107.100478  -88.813074   \n",
       "1 -104.816259 -110.456938  -91.575549 -104.609687  -86.663320  -87.412025   \n",
       "2  -95.736502 -100.937092  -95.270121 -100.025136 -102.157031  -92.929473   \n",
       "3 -132.652541 -129.253446 -118.347883 -135.278070 -127.842192 -133.907956   \n",
       "4 -120.845980 -100.839740 -106.726664 -119.150099 -117.745440 -114.515591   \n",
       "\n",
       "           6           7           8           9   ...          11  \\\n",
       "0  -92.215206  -88.101184 -106.754880 -105.423921  ...  -95.074260   \n",
       "1 -108.583920  -82.541045 -113.746372 -100.237289  ...  -89.209957   \n",
       "2 -102.024267 -102.665276  -88.637443 -105.894122  ...  -92.799353   \n",
       "3 -110.368131 -123.699246 -112.259249 -111.924193  ... -115.953426   \n",
       "4 -114.314486 -116.164754 -117.974021 -117.266604  ... -117.990844   \n",
       "\n",
       "           12          13          14          15          16          17  \\\n",
       "0  -89.477883  -97.552084 -101.535362 -122.775197 -111.164740 -125.030542   \n",
       "1 -100.709807 -101.792627  -99.046567 -115.270342 -114.919171 -113.639687   \n",
       "2 -100.774130 -100.443882  -95.849513 -120.262694 -112.902488 -116.863406   \n",
       "3 -116.311645 -118.281821 -122.283485  -89.616093  -91.894091  -94.186492   \n",
       "4 -113.362903 -133.007786 -113.236908 -132.232384 -128.246728 -133.353397   \n",
       "\n",
       "           18          19          20  \n",
       "0 -114.875441 -123.876278 -110.752568  \n",
       "1 -109.397810 -116.133175 -118.148003  \n",
       "2 -124.195920 -110.257186 -135.572575  \n",
       "3 -135.477426 -133.094117 -146.125676  \n",
       "4  -82.930201 -106.415818  -98.770797  \n",
       "\n",
       "[5 rows x 21 columns]"
      ]
     },
     "execution_count": 82,
     "metadata": {},
     "output_type": "execute_result"
    }
   ],
   "source": [
    "pd.DataFrame(simulator.gain_mat_dBm)"
   ]
  },
  {
   "cell_type": "code",
   "execution_count": 83,
   "metadata": {},
   "outputs": [
    {
     "data": {
      "image/png": "[encoded data removed]",
      "text/plain": [
       "<Figure size 1152x274.286 with 2 Axes>"
      ]
     },
     "metadata": {
      "needs_background": "light"
     },
     "output_type": "display_data"
    }
   ],
   "source": [
    "simulator.plot_gain_mat()"
   ]
  },
  {
   "cell_type": "code",
   "execution_count": 84,
   "metadata": {},
   "outputs": [
    {
     "data": {
      "text/plain": [
       "69.92735293468556"
      ]
     },
     "execution_count": 84,
     "metadata": {},
     "output_type": "execute_result"
    }
   ],
   "source": [
    "simulator.weighted_sum_rate_Gbps(Tx_powers=[500,350,500,600,255], Rx_weights=np.ones(len(simulator.x_Rx)))"
   ]
  }
 ],
 "metadata": {
  "kernelspec": {
   "display_name": "Python 3.9.7",
   "language": "python",
   "name": "python3"
  },
  "language_info": {
   "codemirror_mode": {
    "name": "ipython",
    "version": 3
   },
   "file_extension": ".py",
   "mimetype": "text/x-python",
   "name": "python",
   "nbconvert_exporter": "python",
   "pygments_lexer": "ipython3",
   "version": "3.9.7"
  },
  "orig_nbformat": 4,
  "vscode": {
   "interpreter": {
    "hash": "92c6059857cd90f886057b6540f3fbd9cbe057fa31156affeeed8e9dc40e6663"
   }
  }
 },
 "nbformat": 4,
 "nbformat_minor": 2
}
