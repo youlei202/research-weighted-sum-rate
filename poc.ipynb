{
 "cells": [
  {
   "cell_type": "code",
   "execution_count": 67,
   "metadata": {},
   "outputs": [],
   "source": [
    "import numpy as np\n",
    "import pandas as pd\n",
    "import math\n",
    "import seaborn as sns\n",
    "import matplotlib.pyplot as plt\n",
    "\n",
    "import warnings\n",
    "warnings.filterwarnings(\"ignore\")\n",
    "\n",
    "from src.path_loss import PathLossInHIndoorOffice, PathLossInHShoppingMalls\n",
    "\n",
    "from src.network_sim import NetworkSimulator\n",
    "\n",
    "\n",
    "%reload_ext autoreload\n",
    "%autoreload 2\n",
    "%aimport src"
   ]
  },
  {
   "cell_type": "code",
   "execution_count": 68,
   "metadata": {},
   "outputs": [],
   "source": [
    "frequency_Hz= 50 * 1e9 # Hz\n",
    "distance_m = 50\n",
    "sample_size = 10"
   ]
  },
  {
   "cell_type": "code",
   "execution_count": 69,
   "metadata": {},
   "outputs": [
    {
     "data": {
      "text/html": [
       "<div>\n",
       "<style scoped>\n",
       "    .dataframe tbody tr th:only-of-type {\n",
       "        vertical-align: middle;\n",
       "    }\n",
       "\n",
       "    .dataframe tbody tr th {\n",
       "        vertical-align: top;\n",
       "    }\n",
       "\n",
       "    .dataframe thead th {\n",
       "        text-align: right;\n",
       "    }\n",
       "</style>\n",
       "<table border=\"1\" class=\"dataframe\">\n",
       "  <thead>\n",
       "    <tr style=\"text-align: right;\">\n",
       "      <th></th>\n",
       "      <th>PathLossInHIndoorOffice</th>\n",
       "      <th>PathLossInHShoppingMalls</th>\n",
       "    </tr>\n",
       "  </thead>\n",
       "  <tbody>\n",
       "    <tr>\n",
       "      <th>0</th>\n",
       "      <td>-133.897807</td>\n",
       "      <td>-103.739513</td>\n",
       "    </tr>\n",
       "    <tr>\n",
       "      <th>1</th>\n",
       "      <td>-131.871112</td>\n",
       "      <td>-107.080335</td>\n",
       "    </tr>\n",
       "    <tr>\n",
       "      <th>2</th>\n",
       "      <td>-144.595920</td>\n",
       "      <td>-113.625351</td>\n",
       "    </tr>\n",
       "    <tr>\n",
       "      <th>3</th>\n",
       "      <td>-128.402439</td>\n",
       "      <td>-100.170267</td>\n",
       "    </tr>\n",
       "    <tr>\n",
       "      <th>4</th>\n",
       "      <td>-137.993922</td>\n",
       "      <td>-94.908223</td>\n",
       "    </tr>\n",
       "    <tr>\n",
       "      <th>5</th>\n",
       "      <td>-119.372512</td>\n",
       "      <td>-97.146992</td>\n",
       "    </tr>\n",
       "    <tr>\n",
       "      <th>6</th>\n",
       "      <td>-123.062663</td>\n",
       "      <td>-111.377403</td>\n",
       "    </tr>\n",
       "    <tr>\n",
       "      <th>7</th>\n",
       "      <td>-132.201249</td>\n",
       "      <td>-98.279399</td>\n",
       "    </tr>\n",
       "    <tr>\n",
       "      <th>8</th>\n",
       "      <td>-134.445890</td>\n",
       "      <td>-105.931246</td>\n",
       "    </tr>\n",
       "    <tr>\n",
       "      <th>9</th>\n",
       "      <td>-130.975092</td>\n",
       "      <td>-102.910524</td>\n",
       "    </tr>\n",
       "  </tbody>\n",
       "</table>\n",
       "</div>"
      ],
      "text/plain": [
       "   PathLossInHIndoorOffice  PathLossInHShoppingMalls\n",
       "0              -133.897807               -103.739513\n",
       "1              -131.871112               -107.080335\n",
       "2              -144.595920               -113.625351\n",
       "3              -128.402439               -100.170267\n",
       "4              -137.993922                -94.908223\n",
       "5              -119.372512                -97.146992\n",
       "6              -123.062663               -111.377403\n",
       "7              -132.201249                -98.279399\n",
       "8              -134.445890               -105.931246\n",
       "9              -130.975092               -102.910524"
      ]
     },
     "execution_count": 69,
     "metadata": {},
     "output_type": "execute_result"
    }
   ],
   "source": [
    "pd.DataFrame({\n",
    "    'PathLossInHIndoorOffice':[PathLossInHIndoorOffice().in_dBm(frequency_Hz=frequency_Hz, distance_m=distance_m) for i in range(sample_size)],\n",
    "    'PathLossInHShoppingMalls': [PathLossInHShoppingMalls().in_dBm(frequency_Hz=frequency_Hz, distance_m=distance_m) for i in range(sample_size)],\n",
    "})"
   ]
  },
  {
   "cell_type": "code",
   "execution_count": 92,
   "metadata": {},
   "outputs": [],
   "source": [
    "simulator = NetworkSimulator(Tx_radius=100, Rx_radius=25, num_Tx_known=3, num_Rx_per_Tx_known=5, num_Tx_unknown=2, num_Rx_per_Tx_unknown=3)"
   ]
  },
  {
   "cell_type": "code",
   "execution_count": 93,
   "metadata": {},
   "outputs": [
    {
     "data": {
      "image/png": "[encoded data removed]",
      "text/plain": [
       "<Figure size 504x504 with 1 Axes>"
      ]
     },
     "metadata": {},
     "output_type": "display_data"
    }
   ],
   "source": [
    "simulator.plot_network()"
   ]
  },
  {
   "cell_type": "code",
   "execution_count": 94,
   "metadata": {},
   "outputs": [
    {
     "data": {
      "text/html": [
       "<div>\n",
       "<style scoped>\n",
       "    .dataframe tbody tr th:only-of-type {\n",
       "        vertical-align: middle;\n",
       "    }\n",
       "\n",
       "    .dataframe tbody tr th {\n",
       "        vertical-align: top;\n",
       "    }\n",
       "\n",
       "    .dataframe thead th {\n",
       "        text-align: right;\n",
       "    }\n",
       "</style>\n",
       "<table border=\"1\" class=\"dataframe\">\n",
       "  <thead>\n",
       "    <tr style=\"text-align: right;\">\n",
       "      <th></th>\n",
       "      <th>0</th>\n",
       "      <th>1</th>\n",
       "      <th>2</th>\n",
       "      <th>3</th>\n",
       "      <th>4</th>\n",
       "      <th>5</th>\n",
       "      <th>6</th>\n",
       "      <th>7</th>\n",
       "      <th>8</th>\n",
       "      <th>9</th>\n",
       "      <th>...</th>\n",
       "      <th>11</th>\n",
       "      <th>12</th>\n",
       "      <th>13</th>\n",
       "      <th>14</th>\n",
       "      <th>15</th>\n",
       "      <th>16</th>\n",
       "      <th>17</th>\n",
       "      <th>18</th>\n",
       "      <th>19</th>\n",
       "      <th>20</th>\n",
       "    </tr>\n",
       "  </thead>\n",
       "  <tbody>\n",
       "    <tr>\n",
       "      <th>0</th>\n",
       "      <td>-94.283906</td>\n",
       "      <td>-91.693349</td>\n",
       "      <td>-105.646243</td>\n",
       "      <td>-89.102806</td>\n",
       "      <td>-90.102062</td>\n",
       "      <td>-134.872594</td>\n",
       "      <td>-126.837485</td>\n",
       "      <td>-120.244612</td>\n",
       "      <td>-142.661671</td>\n",
       "      <td>-129.279244</td>\n",
       "      <td>...</td>\n",
       "      <td>-147.508217</td>\n",
       "      <td>-132.096159</td>\n",
       "      <td>-131.262752</td>\n",
       "      <td>-137.763430</td>\n",
       "      <td>-116.387003</td>\n",
       "      <td>-120.227998</td>\n",
       "      <td>-124.148205</td>\n",
       "      <td>-124.501970</td>\n",
       "      <td>-117.920530</td>\n",
       "      <td>-120.645177</td>\n",
       "    </tr>\n",
       "    <tr>\n",
       "      <th>1</th>\n",
       "      <td>-121.265692</td>\n",
       "      <td>-119.530344</td>\n",
       "      <td>-133.669146</td>\n",
       "      <td>-127.507096</td>\n",
       "      <td>-131.781458</td>\n",
       "      <td>-98.774043</td>\n",
       "      <td>-85.478836</td>\n",
       "      <td>-89.533625</td>\n",
       "      <td>-107.822278</td>\n",
       "      <td>-91.315305</td>\n",
       "      <td>...</td>\n",
       "      <td>-113.765722</td>\n",
       "      <td>-110.571765</td>\n",
       "      <td>-106.042665</td>\n",
       "      <td>-110.524637</td>\n",
       "      <td>-121.386889</td>\n",
       "      <td>-96.762896</td>\n",
       "      <td>-101.300297</td>\n",
       "      <td>-104.866059</td>\n",
       "      <td>-120.928847</td>\n",
       "      <td>-115.552121</td>\n",
       "    </tr>\n",
       "    <tr>\n",
       "      <th>2</th>\n",
       "      <td>-143.637733</td>\n",
       "      <td>-147.170462</td>\n",
       "      <td>-134.173465</td>\n",
       "      <td>-133.052833</td>\n",
       "      <td>-138.915862</td>\n",
       "      <td>-100.606844</td>\n",
       "      <td>-99.447867</td>\n",
       "      <td>-107.641246</td>\n",
       "      <td>-115.035538</td>\n",
       "      <td>-111.756073</td>\n",
       "      <td>...</td>\n",
       "      <td>-86.420371</td>\n",
       "      <td>-103.362503</td>\n",
       "      <td>-95.295060</td>\n",
       "      <td>-91.598819</td>\n",
       "      <td>-104.986662</td>\n",
       "      <td>-107.472174</td>\n",
       "      <td>-101.282563</td>\n",
       "      <td>-114.351312</td>\n",
       "      <td>-115.948239</td>\n",
       "      <td>-126.018467</td>\n",
       "    </tr>\n",
       "    <tr>\n",
       "      <th>3</th>\n",
       "      <td>-113.853672</td>\n",
       "      <td>-125.553010</td>\n",
       "      <td>-122.070579</td>\n",
       "      <td>-120.011005</td>\n",
       "      <td>-120.878620</td>\n",
       "      <td>-110.423337</td>\n",
       "      <td>-103.491016</td>\n",
       "      <td>-105.249173</td>\n",
       "      <td>-105.528550</td>\n",
       "      <td>-107.056377</td>\n",
       "      <td>...</td>\n",
       "      <td>-117.781197</td>\n",
       "      <td>-106.884038</td>\n",
       "      <td>-109.312248</td>\n",
       "      <td>-116.948876</td>\n",
       "      <td>-97.454316</td>\n",
       "      <td>-91.973376</td>\n",
       "      <td>-88.156316</td>\n",
       "      <td>-117.012863</td>\n",
       "      <td>-94.841632</td>\n",
       "      <td>-121.314650</td>\n",
       "    </tr>\n",
       "    <tr>\n",
       "      <th>4</th>\n",
       "      <td>-115.686536</td>\n",
       "      <td>-108.792723</td>\n",
       "      <td>-121.033410</td>\n",
       "      <td>-118.108573</td>\n",
       "      <td>-114.943166</td>\n",
       "      <td>-119.625033</td>\n",
       "      <td>-117.797495</td>\n",
       "      <td>-122.533106</td>\n",
       "      <td>-120.563239</td>\n",
       "      <td>-124.007435</td>\n",
       "      <td>...</td>\n",
       "      <td>-122.993862</td>\n",
       "      <td>-116.911895</td>\n",
       "      <td>-120.544193</td>\n",
       "      <td>-121.066735</td>\n",
       "      <td>-105.736706</td>\n",
       "      <td>-111.442953</td>\n",
       "      <td>-115.468553</td>\n",
       "      <td>-96.818309</td>\n",
       "      <td>-88.319312</td>\n",
       "      <td>-92.798758</td>\n",
       "    </tr>\n",
       "  </tbody>\n",
       "</table>\n",
       "<p>5 rows × 21 columns</p>\n",
       "</div>"
      ],
      "text/plain": [
       "           0           1           2           3           4           5   \\\n",
       "0  -94.283906  -91.693349 -105.646243  -89.102806  -90.102062 -134.872594   \n",
       "1 -121.265692 -119.530344 -133.669146 -127.507096 -131.781458  -98.774043   \n",
       "2 -143.637733 -147.170462 -134.173465 -133.052833 -138.915862 -100.606844   \n",
       "3 -113.853672 -125.553010 -122.070579 -120.011005 -120.878620 -110.423337   \n",
       "4 -115.686536 -108.792723 -121.033410 -118.108573 -114.943166 -119.625033   \n",
       "\n",
       "           6           7           8           9   ...          11  \\\n",
       "0 -126.837485 -120.244612 -142.661671 -129.279244  ... -147.508217   \n",
       "1  -85.478836  -89.533625 -107.822278  -91.315305  ... -113.765722   \n",
       "2  -99.447867 -107.641246 -115.035538 -111.756073  ...  -86.420371   \n",
       "3 -103.491016 -105.249173 -105.528550 -107.056377  ... -117.781197   \n",
       "4 -117.797495 -122.533106 -120.563239 -124.007435  ... -122.993862   \n",
       "\n",
       "           12          13          14          15          16          17  \\\n",
       "0 -132.096159 -131.262752 -137.763430 -116.387003 -120.227998 -124.148205   \n",
       "1 -110.571765 -106.042665 -110.524637 -121.386889  -96.762896 -101.300297   \n",
       "2 -103.362503  -95.295060  -91.598819 -104.986662 -107.472174 -101.282563   \n",
       "3 -106.884038 -109.312248 -116.948876  -97.454316  -91.973376  -88.156316   \n",
       "4 -116.911895 -120.544193 -121.066735 -105.736706 -111.442953 -115.468553   \n",
       "\n",
       "           18          19          20  \n",
       "0 -124.501970 -117.920530 -120.645177  \n",
       "1 -104.866059 -120.928847 -115.552121  \n",
       "2 -114.351312 -115.948239 -126.018467  \n",
       "3 -117.012863  -94.841632 -121.314650  \n",
       "4  -96.818309  -88.319312  -92.798758  \n",
       "\n",
       "[5 rows x 21 columns]"
      ]
     },
     "execution_count": 94,
     "metadata": {},
     "output_type": "execute_result"
    }
   ],
   "source": [
    "pd.DataFrame(simulator.gain_mat_dBm)"
   ]
  },
  {
   "cell_type": "code",
   "execution_count": 104,
   "metadata": {},
   "outputs": [
    {
     "data": {
      "image/png": "[encoded data removed]",
      "text/plain": [
       "<Figure size 1152x274.286 with 2 Axes>"
      ]
     },
     "metadata": {
      "needs_background": "light"
     },
     "output_type": "display_data"
    }
   ],
   "source": [
    "simulator.plot_gain_mat()"
   ]
  },
  {
   "cell_type": "code",
   "execution_count": 105,
   "metadata": {},
   "outputs": [
    {
     "data": {
      "text/plain": [
       "147.957185083355"
      ]
     },
     "execution_count": 105,
     "metadata": {},
     "output_type": "execute_result"
    }
   ],
   "source": [
    "simulator.weighted_sum_rate_Gbps(Tx_powers=[500,350,500,600,255], Rx_weights=np.ones(len(simulator.x_Rx)))"
   ]
  },
  {
   "cell_type": "code",
   "execution_count": 106,
   "metadata": {},
   "outputs": [
    {
     "data": {
      "text/html": [
       "<div>\n",
       "<style scoped>\n",
       "    .dataframe tbody tr th:only-of-type {\n",
       "        vertical-align: middle;\n",
       "    }\n",
       "\n",
       "    .dataframe tbody tr th {\n",
       "        vertical-align: top;\n",
       "    }\n",
       "\n",
       "    .dataframe thead th {\n",
       "        text-align: right;\n",
       "    }\n",
       "</style>\n",
       "<table border=\"1\" class=\"dataframe\">\n",
       "  <thead>\n",
       "    <tr style=\"text-align: right;\">\n",
       "      <th></th>\n",
       "      <th>0</th>\n",
       "      <th>1</th>\n",
       "      <th>2</th>\n",
       "      <th>3</th>\n",
       "      <th>4</th>\n",
       "      <th>5</th>\n",
       "    </tr>\n",
       "  </thead>\n",
       "  <tbody>\n",
       "    <tr>\n",
       "      <th>0</th>\n",
       "      <td>-97.454316</td>\n",
       "      <td>-91.973376</td>\n",
       "      <td>-88.156316</td>\n",
       "      <td>-117.012863</td>\n",
       "      <td>-94.841632</td>\n",
       "      <td>-121.314650</td>\n",
       "    </tr>\n",
       "    <tr>\n",
       "      <th>1</th>\n",
       "      <td>-105.736706</td>\n",
       "      <td>-111.442953</td>\n",
       "      <td>-115.468553</td>\n",
       "      <td>-96.818309</td>\n",
       "      <td>-88.319312</td>\n",
       "      <td>-92.798758</td>\n",
       "    </tr>\n",
       "  </tbody>\n",
       "</table>\n",
       "</div>"
      ],
      "text/plain": [
       "            0           1           2           3          4           5\n",
       "0  -97.454316  -91.973376  -88.156316 -117.012863 -94.841632 -121.314650\n",
       "1 -105.736706 -111.442953 -115.468553  -96.818309 -88.319312  -92.798758"
      ]
     },
     "execution_count": 106,
     "metadata": {},
     "output_type": "execute_result"
    }
   ],
   "source": [
    "pd.DataFrame(simulator.get_gain_mat(unit='dBm', part='unknown'))"
   ]
  },
  {
   "cell_type": "code",
   "execution_count": null,
   "metadata": {},
   "outputs": [],
   "source": []
  }
 ],
 "metadata": {
  "kernelspec": {
   "display_name": "Python 3.9.7",
   "language": "python",
   "name": "python3"
  },
  "language_info": {
   "codemirror_mode": {
    "name": "ipython",
    "version": 3
   },
   "file_extension": ".py",
   "mimetype": "text/x-python",
   "name": "python",
   "nbconvert_exporter": "python",
   "pygments_lexer": "ipython3",
   "version": "3.9.7"
  },
  "orig_nbformat": 4,
  "vscode": {
   "interpreter": {
    "hash": "92c6059857cd90f886057b6540f3fbd9cbe057fa31156affeeed8e9dc40e6663"
   }
  }
 },
 "nbformat": 4,
 "nbformat_minor": 2
}
