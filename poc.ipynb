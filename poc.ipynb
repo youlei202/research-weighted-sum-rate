{
 "cells": [
  {
   "cell_type": "code",
   "execution_count": 2,
   "metadata": {},
   "outputs": [],
   "source": [
    "import numpy as np\n",
    "import pandas as pd\n",
    "import math\n",
    "import seaborn as sns\n",
    "import matplotlib.pyplot as plt\n",
    "\n",
    "import warnings\n",
    "warnings.filterwarnings(\"ignore\")\n",
    "\n",
    "from src.path_loss import PathLossInHIndoorOffice, PathLossInHShoppingMalls\n",
    "from src.network_sim import NetworkSimulator\n",
    "from src.algorithm import wmmse\n",
    "from src.sc import SyntheticControl\n",
    "\n",
    "%reload_ext autoreload\n",
    "%autoreload 2\n",
    "%aimport src"
   ]
  },
  {
   "cell_type": "code",
   "execution_count": 3,
   "metadata": {},
   "outputs": [],
   "source": [
    "frequency_Hz= 50 * 1e9 # Hz\n",
    "distance_m = 50\n",
    "sample_size = 10"
   ]
  },
  {
   "cell_type": "code",
   "execution_count": 4,
   "metadata": {},
   "outputs": [
    {
     "data": {
      "text/html": [
       "<div>\n",
       "<style scoped>\n",
       "    .dataframe tbody tr th:only-of-type {\n",
       "        vertical-align: middle;\n",
       "    }\n",
       "\n",
       "    .dataframe tbody tr th {\n",
       "        vertical-align: top;\n",
       "    }\n",
       "\n",
       "    .dataframe thead th {\n",
       "        text-align: right;\n",
       "    }\n",
       "</style>\n",
       "<table border=\"1\" class=\"dataframe\">\n",
       "  <thead>\n",
       "    <tr style=\"text-align: right;\">\n",
       "      <th></th>\n",
       "      <th>PathLossInHIndoorOffice</th>\n",
       "      <th>PathLossInHShoppingMalls</th>\n",
       "    </tr>\n",
       "  </thead>\n",
       "  <tbody>\n",
       "    <tr>\n",
       "      <th>0</th>\n",
       "      <td>-125.549711</td>\n",
       "      <td>-102.680151</td>\n",
       "    </tr>\n",
       "    <tr>\n",
       "      <th>1</th>\n",
       "      <td>-135.884556</td>\n",
       "      <td>-113.660575</td>\n",
       "    </tr>\n",
       "    <tr>\n",
       "      <th>2</th>\n",
       "      <td>-119.117274</td>\n",
       "      <td>-102.456709</td>\n",
       "    </tr>\n",
       "    <tr>\n",
       "      <th>3</th>\n",
       "      <td>-133.794549</td>\n",
       "      <td>-117.690479</td>\n",
       "    </tr>\n",
       "    <tr>\n",
       "      <th>4</th>\n",
       "      <td>-129.868340</td>\n",
       "      <td>-110.447279</td>\n",
       "    </tr>\n",
       "    <tr>\n",
       "      <th>5</th>\n",
       "      <td>-114.536864</td>\n",
       "      <td>-95.923689</td>\n",
       "    </tr>\n",
       "    <tr>\n",
       "      <th>6</th>\n",
       "      <td>-126.399550</td>\n",
       "      <td>-108.244133</td>\n",
       "    </tr>\n",
       "    <tr>\n",
       "      <th>7</th>\n",
       "      <td>-125.855869</td>\n",
       "      <td>-100.564212</td>\n",
       "    </tr>\n",
       "    <tr>\n",
       "      <th>8</th>\n",
       "      <td>-124.537846</td>\n",
       "      <td>-102.473276</td>\n",
       "    </tr>\n",
       "    <tr>\n",
       "      <th>9</th>\n",
       "      <td>-116.856493</td>\n",
       "      <td>-102.112441</td>\n",
       "    </tr>\n",
       "  </tbody>\n",
       "</table>\n",
       "</div>"
      ],
      "text/plain": [
       "   PathLossInHIndoorOffice  PathLossInHShoppingMalls\n",
       "0              -125.549711               -102.680151\n",
       "1              -135.884556               -113.660575\n",
       "2              -119.117274               -102.456709\n",
       "3              -133.794549               -117.690479\n",
       "4              -129.868340               -110.447279\n",
       "5              -114.536864                -95.923689\n",
       "6              -126.399550               -108.244133\n",
       "7              -125.855869               -100.564212\n",
       "8              -124.537846               -102.473276\n",
       "9              -116.856493               -102.112441"
      ]
     },
     "execution_count": 4,
     "metadata": {},
     "output_type": "execute_result"
    }
   ],
   "source": [
    "pd.DataFrame({\n",
    "    'PathLossInHIndoorOffice':[PathLossInHIndoorOffice().in_dBm(frequency_Hz=frequency_Hz, distance_m=distance_m) for i in range(sample_size)],\n",
    "    'PathLossInHShoppingMalls': [PathLossInHShoppingMalls().in_dBm(frequency_Hz=frequency_Hz, distance_m=distance_m) for i in range(sample_size)],\n",
    "})"
   ]
  },
  {
   "cell_type": "code",
   "execution_count": 493,
   "metadata": {},
   "outputs": [],
   "source": [
    "simulator = NetworkSimulator(Tx_radius=100, Rx_radius=25, num_Tx_known=2, num_Rx_per_Tx_known=5, num_Tx_unknown=1, num_Rx_per_Tx_unknown=5)"
   ]
  },
  {
   "cell_type": "code",
   "execution_count": 494,
   "metadata": {},
   "outputs": [
    {
     "data": {
      "image/png": "[encoded data removed]",
      "text/plain": [
       "<Figure size 504x504 with 1 Axes>"
      ]
     },
     "metadata": {},
     "output_type": "display_data"
    }
   ],
   "source": [
    "simulator.plot_network()"
   ]
  },
  {
   "cell_type": "code",
   "execution_count": 495,
   "metadata": {},
   "outputs": [
    {
     "data": {
      "text/html": [
       "<div>\n",
       "<style scoped>\n",
       "    .dataframe tbody tr th:only-of-type {\n",
       "        vertical-align: middle;\n",
       "    }\n",
       "\n",
       "    .dataframe tbody tr th {\n",
       "        vertical-align: top;\n",
       "    }\n",
       "\n",
       "    .dataframe thead th {\n",
       "        text-align: right;\n",
       "    }\n",
       "</style>\n",
       "<table border=\"1\" class=\"dataframe\">\n",
       "  <thead>\n",
       "    <tr style=\"text-align: right;\">\n",
       "      <th></th>\n",
       "      <th>0</th>\n",
       "      <th>1</th>\n",
       "      <th>2</th>\n",
       "      <th>3</th>\n",
       "      <th>4</th>\n",
       "      <th>5</th>\n",
       "      <th>6</th>\n",
       "      <th>7</th>\n",
       "      <th>8</th>\n",
       "      <th>9</th>\n",
       "      <th>10</th>\n",
       "      <th>11</th>\n",
       "      <th>12</th>\n",
       "      <th>13</th>\n",
       "      <th>14</th>\n",
       "    </tr>\n",
       "  </thead>\n",
       "  <tbody>\n",
       "    <tr>\n",
       "      <th>0</th>\n",
       "      <td>-90.667972</td>\n",
       "      <td>-99.433288</td>\n",
       "      <td>-96.226795</td>\n",
       "      <td>-107.306727</td>\n",
       "      <td>-97.540807</td>\n",
       "      <td>-132.843612</td>\n",
       "      <td>-116.705127</td>\n",
       "      <td>-128.841459</td>\n",
       "      <td>-109.634111</td>\n",
       "      <td>-137.063340</td>\n",
       "      <td>-123.127454</td>\n",
       "      <td>-122.694067</td>\n",
       "      <td>-141.371116</td>\n",
       "      <td>-130.494297</td>\n",
       "      <td>-113.330238</td>\n",
       "    </tr>\n",
       "    <tr>\n",
       "      <th>1</th>\n",
       "      <td>-128.762943</td>\n",
       "      <td>-134.491306</td>\n",
       "      <td>-136.039960</td>\n",
       "      <td>-149.308190</td>\n",
       "      <td>-126.389862</td>\n",
       "      <td>-83.125795</td>\n",
       "      <td>-88.451502</td>\n",
       "      <td>-83.556206</td>\n",
       "      <td>-109.356517</td>\n",
       "      <td>-105.197512</td>\n",
       "      <td>-114.406552</td>\n",
       "      <td>-109.590406</td>\n",
       "      <td>-128.028917</td>\n",
       "      <td>-123.094949</td>\n",
       "      <td>-115.220511</td>\n",
       "    </tr>\n",
       "    <tr>\n",
       "      <th>2</th>\n",
       "      <td>-116.942929</td>\n",
       "      <td>-136.121272</td>\n",
       "      <td>-133.758883</td>\n",
       "      <td>-133.316233</td>\n",
       "      <td>-128.201267</td>\n",
       "      <td>-112.968871</td>\n",
       "      <td>-113.709415</td>\n",
       "      <td>-110.306025</td>\n",
       "      <td>-107.650115</td>\n",
       "      <td>-115.880964</td>\n",
       "      <td>-90.683189</td>\n",
       "      <td>-104.255919</td>\n",
       "      <td>-100.679762</td>\n",
       "      <td>-99.891566</td>\n",
       "      <td>-116.986767</td>\n",
       "    </tr>\n",
       "  </tbody>\n",
       "</table>\n",
       "</div>"
      ],
      "text/plain": [
       "           0           1           2           3           4           5   \\\n",
       "0  -90.667972  -99.433288  -96.226795 -107.306727  -97.540807 -132.843612   \n",
       "1 -128.762943 -134.491306 -136.039960 -149.308190 -126.389862  -83.125795   \n",
       "2 -116.942929 -136.121272 -133.758883 -133.316233 -128.201267 -112.968871   \n",
       "\n",
       "           6           7           8           9           10          11  \\\n",
       "0 -116.705127 -128.841459 -109.634111 -137.063340 -123.127454 -122.694067   \n",
       "1  -88.451502  -83.556206 -109.356517 -105.197512 -114.406552 -109.590406   \n",
       "2 -113.709415 -110.306025 -107.650115 -115.880964  -90.683189 -104.255919   \n",
       "\n",
       "           12          13          14  \n",
       "0 -141.371116 -130.494297 -113.330238  \n",
       "1 -128.028917 -123.094949 -115.220511  \n",
       "2 -100.679762  -99.891566 -116.986767  "
      ]
     },
     "execution_count": 495,
     "metadata": {},
     "output_type": "execute_result"
    }
   ],
   "source": [
    "pd.DataFrame(simulator.gain_mat_dBm)"
   ]
  },
  {
   "cell_type": "code",
   "execution_count": 496,
   "metadata": {},
   "outputs": [
    {
     "data": {
      "image/png": "[encoded data removed]",
      "text/plain": [
       "<Figure size 1152x230.4 with 2 Axes>"
      ]
     },
     "metadata": {
      "needs_background": "light"
     },
     "output_type": "display_data"
    }
   ],
   "source": [
    "simulator.plot_gain_mat()"
   ]
  },
  {
   "cell_type": "code",
   "execution_count": 497,
   "metadata": {},
   "outputs": [
    {
     "data": {
      "text/plain": [
       "169.76944259362168"
      ]
     },
     "execution_count": 497,
     "metadata": {},
     "output_type": "execute_result"
    }
   ],
   "source": [
    "simulator.weighted_sum_rate_Gnats(Rx_powers_mW=[250 for i in range(len(simulator.x_Rx))], Rx_weights=np.ones(len(simulator.x_Rx)))"
   ]
  },
  {
   "cell_type": "code",
   "execution_count": 694,
   "metadata": {},
   "outputs": [
    {
     "name": "stdout",
     "output_type": "stream",
     "text": [
      "Weighted Sum Rate: 161.5523527770195 Convergence Error at Round 5000 0.0694792238703229\n"
     ]
    }
   ],
   "source": [
    "part = 'known'\n",
    "gain_mat_mW = simulator.get_gain_mat(part=part, unit='mW')\n",
    "max_power = 500\n",
    "\n",
    "if part == 'unknown':\n",
    "    Tx_idx_shift = len(simulator.x_Tx) - gain_mat_mW.shape[0]\n",
    "    Rx_idx_shift = len(simulator.x_Rx) - gain_mat_mW.shape[1]\n",
    "else:\n",
    "    Tx_idx_shift = 0\n",
    "    Rx_idx_shift = 0\n",
    "\n",
    "Rx_powers_mW = np.random.uniform(1, 10, len(simulator.x_Rx))\n",
    "\n",
    "power_wmmse = wmmse(\n",
    "    simulator = simulator, \n",
    "    gain_mat_mW = gain_mat_mW,\n",
    "    Rx_powers_mW = Rx_powers_mW,\n",
    "    Rx_max_powers_mW = [max_power for i in range(gain_mat_mW.shape[1])],\n",
    "    Rx_weights=np.ones(len(simulator.x_Rx)),\n",
    "    Tx_idx_shift=Tx_idx_shift,\n",
    "    Rx_idx_shift=Rx_idx_shift,\n",
    "    max_iter=5000,\n",
    ")"
   ]
  },
  {
   "cell_type": "code",
   "execution_count": 695,
   "metadata": {},
   "outputs": [],
   "source": [
    "power_corr_mat = np.random.uniform(-0.5, 0.5, \n",
    "    (simulator.num_Tx_unknown*simulator.num_Rx_per_Tx_unknown, \n",
    "     simulator.num_Tx_known*simulator.num_Rx_per_Tx_known)\n",
    ")\n",
    "# power_corr_mat"
   ]
  },
  {
   "cell_type": "code",
   "execution_count": 718,
   "metadata": {},
   "outputs": [],
   "source": [
    "num_power_samples = 100\n",
    "observed_interferences_list = []\n",
    "powers_list = []\n",
    "for t, p_known in enumerate([np.random.uniform(0,max_power, gain_mat_mW.shape[1]) for i in range(num_power_samples)]):\n",
    "    p_known = p_known \n",
    "    p_known = p_known.clip(min=0, max=max_power)\n",
    "    p_unknown = power_corr_mat.dot(p_known).clip(min=0, max=max_power)\n",
    "    # p_unknown = np.random.uniform(0,max_power, len(simulator.x_Rx)-gain_mat_mW.shape[1])\n",
    "    p = np.append(p_known, p_unknown)\n",
    "    powers_list.append(p)\n",
    "    observed_interference = simulator.Rx_interference(p)[Rx_idx_shift: Rx_idx_shift+gain_mat_mW.shape[1]]\n",
    "    observed_interferences_list.append(observed_interference)"
   ]
  },
  {
   "cell_type": "code",
   "execution_count": 719,
   "metadata": {},
   "outputs": [],
   "source": [
    "# Train LR model\n",
    "from sklearn.linear_model import LinearRegression\n",
    "\n",
    "lr_train_X = pd.DataFrame(np.array(powers_list)[:, :gain_mat_mW.shape[1]])\n",
    "observed_interference_data = pd.DataFrame(observed_interferences_list)\n",
    "\n",
    "lr = []\n",
    "for i in range(gain_mat_mW.shape[1]):\n",
    "    lr_train_y = observed_interference_data[i]\n",
    "    lr_i = LinearRegression().fit(lr_train_X, lr_train_y)\n",
    "    lr.append(lr_i)"
   ]
  },
  {
   "cell_type": "code",
   "execution_count": 720,
   "metadata": {},
   "outputs": [],
   "source": [
    "# Train synthetic control model\n",
    "sc = []\n",
    "sc_data_ = pd.DataFrame(observed_interferences_list) \n",
    "scaling_factor = 100 / sc_data_.mean().mean()\n",
    "sc_data = sc_data_ * scaling_factor\n",
    "for i in range(gain_mat_mW.shape[1]):\n",
    "    sc_train_X = sc_data.drop(i, axis=1)\n",
    "    sc_train_y = sc_data[i] \n",
    "    sc_i = SyntheticControl().fit(X=sc_train_X, y=sc_train_y)\n",
    "    sc.append(sc_i)"
   ]
  },
  {
   "cell_type": "code",
   "execution_count": 721,
   "metadata": {},
   "outputs": [
    {
     "data": {
      "text/html": [
       "<div>\n",
       "<style scoped>\n",
       "    .dataframe tbody tr th:only-of-type {\n",
       "        vertical-align: middle;\n",
       "    }\n",
       "\n",
       "    .dataframe tbody tr th {\n",
       "        vertical-align: top;\n",
       "    }\n",
       "\n",
       "    .dataframe thead th {\n",
       "        text-align: right;\n",
       "    }\n",
       "</style>\n",
       "<table border=\"1\" class=\"dataframe\">\n",
       "  <thead>\n",
       "    <tr style=\"text-align: right;\">\n",
       "      <th></th>\n",
       "      <th>0</th>\n",
       "      <th>1</th>\n",
       "      <th>2</th>\n",
       "      <th>3</th>\n",
       "      <th>4</th>\n",
       "      <th>5</th>\n",
       "      <th>6</th>\n",
       "      <th>7</th>\n",
       "      <th>8</th>\n",
       "      <th>9</th>\n",
       "    </tr>\n",
       "  </thead>\n",
       "  <tbody>\n",
       "    <tr>\n",
       "      <th>0</th>\n",
       "      <td>46.199849</td>\n",
       "      <td>1.759842</td>\n",
       "      <td>1.744758</td>\n",
       "      <td>0.997933</td>\n",
       "      <td>11.233781</td>\n",
       "      <td>105.205815</td>\n",
       "      <td>153.109286</td>\n",
       "      <td>195.300404</td>\n",
       "      <td>687.523644</td>\n",
       "      <td>53.593267</td>\n",
       "    </tr>\n",
       "    <tr>\n",
       "      <th>1</th>\n",
       "      <td>35.138659</td>\n",
       "      <td>1.210708</td>\n",
       "      <td>1.243751</td>\n",
       "      <td>0.766130</td>\n",
       "      <td>7.717219</td>\n",
       "      <td>81.043196</td>\n",
       "      <td>108.301110</td>\n",
       "      <td>150.286006</td>\n",
       "      <td>480.277078</td>\n",
       "      <td>41.316354</td>\n",
       "    </tr>\n",
       "    <tr>\n",
       "      <th>2</th>\n",
       "      <td>19.260341</td>\n",
       "      <td>1.178737</td>\n",
       "      <td>1.017411</td>\n",
       "      <td>0.391225</td>\n",
       "      <td>7.563424</td>\n",
       "      <td>40.540612</td>\n",
       "      <td>102.650285</td>\n",
       "      <td>75.981291</td>\n",
       "      <td>488.278642</td>\n",
       "      <td>20.507761</td>\n",
       "    </tr>\n",
       "    <tr>\n",
       "      <th>3</th>\n",
       "      <td>18.479876</td>\n",
       "      <td>1.192214</td>\n",
       "      <td>1.016092</td>\n",
       "      <td>0.371958</td>\n",
       "      <td>7.653246</td>\n",
       "      <td>37.858732</td>\n",
       "      <td>79.894123</td>\n",
       "      <td>70.690420</td>\n",
       "      <td>374.287049</td>\n",
       "      <td>19.203847</td>\n",
       "    </tr>\n",
       "    <tr>\n",
       "      <th>4</th>\n",
       "      <td>17.426666</td>\n",
       "      <td>1.339356</td>\n",
       "      <td>1.098347</td>\n",
       "      <td>0.338772</td>\n",
       "      <td>8.608953</td>\n",
       "      <td>33.953793</td>\n",
       "      <td>88.207486</td>\n",
       "      <td>63.673292</td>\n",
       "      <td>420.382895</td>\n",
       "      <td>17.168388</td>\n",
       "    </tr>\n",
       "  </tbody>\n",
       "</table>\n",
       "</div>"
      ],
      "text/plain": [
       "           0         1         2         3          4           5           6  \\\n",
       "0  46.199849  1.759842  1.744758  0.997933  11.233781  105.205815  153.109286   \n",
       "1  35.138659  1.210708  1.243751  0.766130   7.717219   81.043196  108.301110   \n",
       "2  19.260341  1.178737  1.017411  0.391225   7.563424   40.540612  102.650285   \n",
       "3  18.479876  1.192214  1.016092  0.371958   7.653246   37.858732   79.894123   \n",
       "4  17.426666  1.339356  1.098347  0.338772   8.608953   33.953793   88.207486   \n",
       "\n",
       "            7           8          9  \n",
       "0  195.300404  687.523644  53.593267  \n",
       "1  150.286006  480.277078  41.316354  \n",
       "2   75.981291  488.278642  20.507761  \n",
       "3   70.690420  374.287049  19.203847  \n",
       "4   63.673292  420.382895  17.168388  "
      ]
     },
     "execution_count": 721,
     "metadata": {},
     "output_type": "execute_result"
    }
   ],
   "source": [
    "sc_data.head(5)"
   ]
  },
  {
   "cell_type": "code",
   "execution_count": 722,
   "metadata": {},
   "outputs": [
    {
     "data": {
      "text/plain": [
       "array([2.50104209e-14, 2.48116824e-14, 1.15025581e-13, 5.26284082e-01,\n",
       "       2.88084780e-01, 0.00000000e+00, 5.48966411e-14, 3.88517213e-15,\n",
       "       1.85631138e-01])"
      ]
     },
     "execution_count": 722,
     "metadata": {},
     "output_type": "execute_result"
    }
   ],
   "source": [
    "sc[0].coef_"
   ]
  },
  {
   "cell_type": "code",
   "execution_count": 723,
   "metadata": {},
   "outputs": [],
   "source": [
    "def closest_power(p, p_list):\n",
    "    p_list = np.asarray(p_list)\n",
    "    dist = np.sum((p_list - p)**2, axis=1)\n",
    "    return np.argmin(dist)\n"
   ]
  },
  {
   "cell_type": "code",
   "execution_count": 725,
   "metadata": {},
   "outputs": [
    {
     "name": "stdout",
     "output_type": "stream",
     "text": [
      "Real Interferences: 5.1891496229604715e-09\n",
      "SC Interference bias -0.2578675707532849\n",
      "LR Interference bias -0.7370917240528321\n"
     ]
    }
   ],
   "source": [
    "real_interf = []\n",
    "sc_interf = []\n",
    "lr_interf = []\n",
    "\n",
    "for i in range(1000):\n",
    "\n",
    "    # power_corr_mat = np.random.uniform(-0.5, 0.5, \n",
    "    #     (simulator.num_Tx_unknown*simulator.num_Rx_per_Tx_unknown, \n",
    "    #     simulator.num_Tx_known*simulator.num_Rx_per_Tx_known)\n",
    "    # )\n",
    "\n",
    "    # p_known = np.random.uniform(0, max_power, gain_mat_mW.shape[1])\n",
    "    p_known = power_wmmse[:gain_mat_mW.shape[1]] \n",
    "    # p_unknown = power_corr_mat.dot(p_known[Rx_idx_shift: Rx_idx_shift+gain_mat_mW.shape[1]]).clip(min=0, max=max_power) \n",
    "    # p_unknown = [ 0 for i in range(len(simulator.x_Rx)-gain_mat_mW.shape[1])]\n",
    "    p_unknown = np.random.uniform(0,max_power, len(simulator.x_Rx)-gain_mat_mW.shape[1])\n",
    "    p = np.append(p_known, p_unknown)\n",
    "    interferences = simulator.Rx_interference(p)\n",
    "    split = simulator.num_Tx_known*simulator.num_Rx_per_Tx_known\n",
    "    known_Rx_interferences = interferences[:split]\n",
    "    unknown_Rx_interferences = interferences[split:]\n",
    "    observed_interference_closest = observed_interferences_list[closest_power(p_known, np.array(powers_list)[:, :gain_mat_mW.shape[1]])]\n",
    "\n",
    "    for i in range(gain_mat_mW.shape[1]):\n",
    "        real_interf.append(known_Rx_interferences[i])\n",
    "        sc_interf.append(sc[i].predict(pd.DataFrame(known_Rx_interferences).drop(i, axis=0)[0]))\n",
    "        lr_interf.append(lr[i].predict([p_known]))\n",
    "\n",
    "print('Real Interferences:', np.mean(real_interf))\n",
    "print('SC Interference bias', (np.mean(sc_interf)-np.mean(real_interf))/np.mean(real_interf))\n",
    "print('LR Interference bias', (np.mean(lr_interf)-np.mean(real_interf))/np.mean(real_interf))\n",
    "    \n"
   ]
  },
  {
   "cell_type": "code",
   "execution_count": 435,
   "metadata": {},
   "outputs": [
    {
     "data": {
      "text/plain": [
       "5.173472218881829e-06"
      ]
     },
     "execution_count": 435,
     "metadata": {},
     "output_type": "execute_result"
    }
   ],
   "source": []
  },
  {
   "cell_type": "code",
   "execution_count": null,
   "metadata": {},
   "outputs": [],
   "source": []
  }
 ],
 "metadata": {
  "kernelspec": {
   "display_name": "Python 3.9.7",
   "language": "python",
   "name": "python3"
  },
  "language_info": {
   "codemirror_mode": {
    "name": "ipython",
    "version": 3
   },
   "file_extension": ".py",
   "mimetype": "text/x-python",
   "name": "python",
   "nbconvert_exporter": "python",
   "pygments_lexer": "ipython3",
   "version": "3.9.7"
  },
  "orig_nbformat": 4,
  "vscode": {
   "interpreter": {
    "hash": "92c6059857cd90f886057b6540f3fbd9cbe057fa31156affeeed8e9dc40e6663"
   }
  }
 },
 "nbformat": 4,
 "nbformat_minor": 2
}
