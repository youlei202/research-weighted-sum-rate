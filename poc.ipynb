{
 "cells": [
  {
   "cell_type": "code",
   "execution_count": 8,
   "metadata": {},
   "outputs": [],
   "source": [
    "import numpy as np\n",
    "import pandas as pd\n",
    "import math\n",
    "import seaborn as sns\n",
    "import matplotlib.pyplot as plt\n",
    "\n",
    "import warnings\n",
    "warnings.filterwarnings(\"ignore\")\n",
    "\n",
    "from src.path_loss import PathLossInHIndoorOfficeLOS, \\\n",
    "                          PathLossInHIndoorOfficeNLOSSingle, \\\n",
    "                          PathLossInHIndoorOfficeNLOSDual, \\\n",
    "                          PathLossInHShoppingMallsLOS, \\\n",
    "                          PathLossInHShoppingMallsNLOSSingle, \\\n",
    "                          PathLossInHShoppingMallsNLOSDual\n",
    "\n",
    "from src.network_sim import NetworkSimulator\n",
    "\n",
    "\n",
    "%reload_ext autoreload\n",
    "%autoreload 2\n",
    "%aimport src"
   ]
  },
  {
   "cell_type": "code",
   "execution_count": 9,
   "metadata": {},
   "outputs": [],
   "source": [
    "def line_of_sight_probability(cls, distance_m):\n",
    "    if distance_m <= 1.2:\n",
    "        return 1\n",
    "    elif distance_m < 6.5:\n",
    "        return math.exp(-(distance_m - 1.2) / 4.7)\n",
    "    else:\n",
    "        return math.exp(-(distance_m - 6.5) / 32.6) * 0.32"
   ]
  },
  {
   "cell_type": "code",
   "execution_count": 10,
   "metadata": {},
   "outputs": [],
   "source": [
    "frequency_Hz= 50 * 1e9 # Hz\n",
    "distance_m = 50\n",
    "sample_size = 10"
   ]
  },
  {
   "cell_type": "code",
   "execution_count": 11,
   "metadata": {},
   "outputs": [
    {
     "data": {
      "text/html": [
       "<div>\n",
       "<style scoped>\n",
       "    .dataframe tbody tr th:only-of-type {\n",
       "        vertical-align: middle;\n",
       "    }\n",
       "\n",
       "    .dataframe tbody tr th {\n",
       "        vertical-align: top;\n",
       "    }\n",
       "\n",
       "    .dataframe thead th {\n",
       "        text-align: right;\n",
       "    }\n",
       "</style>\n",
       "<table border=\"1\" class=\"dataframe\">\n",
       "  <thead>\n",
       "    <tr style=\"text-align: right;\">\n",
       "      <th></th>\n",
       "      <th>PathLossInHShoppingMallsLOS</th>\n",
       "      <th>PathLossInHIndoorOfficeNLOSSingle</th>\n",
       "      <th>PathLossInHIndoorOfficeNLOSDual</th>\n",
       "      <th>PathLossInHShoppingMallsNLOSSingle</th>\n",
       "      <th>PathLossInHShoppingMallsNLOSDual</th>\n",
       "    </tr>\n",
       "  </thead>\n",
       "  <tbody>\n",
       "    <tr>\n",
       "      <th>0</th>\n",
       "      <td>-94.127108</td>\n",
       "      <td>-106.993664</td>\n",
       "      <td>-130.399250</td>\n",
       "      <td>-111.376660</td>\n",
       "      <td>-115.109629</td>\n",
       "    </tr>\n",
       "    <tr>\n",
       "      <th>1</th>\n",
       "      <td>-97.534361</td>\n",
       "      <td>-117.870017</td>\n",
       "      <td>-124.389267</td>\n",
       "      <td>-129.473916</td>\n",
       "      <td>-110.618776</td>\n",
       "    </tr>\n",
       "    <tr>\n",
       "      <th>2</th>\n",
       "      <td>-99.445054</td>\n",
       "      <td>-112.999309</td>\n",
       "      <td>-138.844753</td>\n",
       "      <td>-112.516163</td>\n",
       "      <td>-108.198781</td>\n",
       "    </tr>\n",
       "    <tr>\n",
       "      <th>3</th>\n",
       "      <td>-97.869628</td>\n",
       "      <td>-132.880130</td>\n",
       "      <td>-122.913648</td>\n",
       "      <td>-108.916400</td>\n",
       "      <td>-110.861996</td>\n",
       "    </tr>\n",
       "    <tr>\n",
       "      <th>4</th>\n",
       "      <td>-93.918987</td>\n",
       "      <td>-132.841559</td>\n",
       "      <td>-122.157815</td>\n",
       "      <td>-98.565968</td>\n",
       "      <td>-114.000071</td>\n",
       "    </tr>\n",
       "    <tr>\n",
       "      <th>5</th>\n",
       "      <td>-91.367181</td>\n",
       "      <td>-116.332243</td>\n",
       "      <td>-123.353273</td>\n",
       "      <td>-110.591860</td>\n",
       "      <td>-93.275187</td>\n",
       "    </tr>\n",
       "    <tr>\n",
       "      <th>6</th>\n",
       "      <td>-96.713779</td>\n",
       "      <td>-116.505378</td>\n",
       "      <td>-114.784030</td>\n",
       "      <td>-102.649660</td>\n",
       "      <td>-109.445153</td>\n",
       "    </tr>\n",
       "    <tr>\n",
       "      <th>7</th>\n",
       "      <td>-95.323238</td>\n",
       "      <td>-140.161912</td>\n",
       "      <td>-134.965671</td>\n",
       "      <td>-109.745779</td>\n",
       "      <td>-110.230553</td>\n",
       "    </tr>\n",
       "    <tr>\n",
       "      <th>8</th>\n",
       "      <td>-96.998353</td>\n",
       "      <td>-118.307017</td>\n",
       "      <td>-120.482969</td>\n",
       "      <td>-112.835224</td>\n",
       "      <td>-109.684696</td>\n",
       "    </tr>\n",
       "    <tr>\n",
       "      <th>9</th>\n",
       "      <td>-97.278032</td>\n",
       "      <td>-114.504807</td>\n",
       "      <td>-139.068743</td>\n",
       "      <td>-105.735191</td>\n",
       "      <td>-109.123380</td>\n",
       "    </tr>\n",
       "  </tbody>\n",
       "</table>\n",
       "</div>"
      ],
      "text/plain": [
       "   PathLossInHShoppingMallsLOS  PathLossInHIndoorOfficeNLOSSingle  \\\n",
       "0                   -94.127108                        -106.993664   \n",
       "1                   -97.534361                        -117.870017   \n",
       "2                   -99.445054                        -112.999309   \n",
       "3                   -97.869628                        -132.880130   \n",
       "4                   -93.918987                        -132.841559   \n",
       "5                   -91.367181                        -116.332243   \n",
       "6                   -96.713779                        -116.505378   \n",
       "7                   -95.323238                        -140.161912   \n",
       "8                   -96.998353                        -118.307017   \n",
       "9                   -97.278032                        -114.504807   \n",
       "\n",
       "   PathLossInHIndoorOfficeNLOSDual  PathLossInHShoppingMallsNLOSSingle  \\\n",
       "0                      -130.399250                         -111.376660   \n",
       "1                      -124.389267                         -129.473916   \n",
       "2                      -138.844753                         -112.516163   \n",
       "3                      -122.913648                         -108.916400   \n",
       "4                      -122.157815                          -98.565968   \n",
       "5                      -123.353273                         -110.591860   \n",
       "6                      -114.784030                         -102.649660   \n",
       "7                      -134.965671                         -109.745779   \n",
       "8                      -120.482969                         -112.835224   \n",
       "9                      -139.068743                         -105.735191   \n",
       "\n",
       "   PathLossInHShoppingMallsNLOSDual  \n",
       "0                       -115.109629  \n",
       "1                       -110.618776  \n",
       "2                       -108.198781  \n",
       "3                       -110.861996  \n",
       "4                       -114.000071  \n",
       "5                        -93.275187  \n",
       "6                       -109.445153  \n",
       "7                       -110.230553  \n",
       "8                       -109.684696  \n",
       "9                       -109.123380  "
      ]
     },
     "execution_count": 11,
     "metadata": {},
     "output_type": "execute_result"
    }
   ],
   "source": [
    "pd.DataFrame({\n",
    "    'PathLossInHShoppingMallsLOS':[PathLossInHIndoorOfficeLOS().in_dBm(frequency_Hz=frequency_Hz, distance_m=distance_m) for i in range(sample_size)],\n",
    "    'PathLossInHIndoorOfficeNLOSSingle': [PathLossInHIndoorOfficeNLOSSingle().in_dBm(frequency_Hz=frequency_Hz, distance_m=distance_m) for i in range(sample_size)],\n",
    "    'PathLossInHIndoorOfficeNLOSDual': [PathLossInHIndoorOfficeNLOSDual().in_dBm(frequency_Hz=frequency_Hz, distance_m=distance_m) for i in range(sample_size)],\n",
    "    'PathLossInHShoppingMallsLOS': [PathLossInHShoppingMallsLOS().in_dBm(frequency_Hz=frequency_Hz, distance_m=distance_m) for i in range(sample_size)],\n",
    "    'PathLossInHShoppingMallsNLOSSingle': [PathLossInHShoppingMallsNLOSSingle().in_dBm(frequency_Hz=frequency_Hz, distance_m=distance_m) for i in range(sample_size)],\n",
    "    'PathLossInHShoppingMallsNLOSDual': [PathLossInHShoppingMallsNLOSDual().in_dBm(frequency_Hz=frequency_Hz, distance_m=distance_m) for i in range(sample_size)],\n",
    "})"
   ]
  },
  {
   "cell_type": "code",
   "execution_count": 15,
   "metadata": {},
   "outputs": [],
   "source": [
    "simulator = NetworkSimulator(Tx_radius=50, Rx_radius=20, num_Tx_known=3, num_Rx_per_Tx_known=5, num_Tx_unknown=2, num_Rx_per_Tx_unknown=3)"
   ]
  },
  {
   "cell_type": "code",
   "execution_count": 16,
   "metadata": {},
   "outputs": [
    {
     "data": {
      "image/png": "[encoded data removed]",
      "text/plain": [
       "<Figure size 504x504 with 1 Axes>"
      ]
     },
     "metadata": {},
     "output_type": "display_data"
    }
   ],
   "source": [
    "simulator.plot_network()"
   ]
  }
 ],
 "metadata": {
  "kernelspec": {
   "display_name": "Python 3.9.7",
   "language": "python",
   "name": "python3"
  },
  "language_info": {
   "codemirror_mode": {
    "name": "ipython",
    "version": 3
   },
   "file_extension": ".py",
   "mimetype": "text/x-python",
   "name": "python",
   "nbconvert_exporter": "python",
   "pygments_lexer": "ipython3",
   "version": "3.9.7"
  },
  "orig_nbformat": 4,
  "vscode": {
   "interpreter": {
    "hash": "92c6059857cd90f886057b6540f3fbd9cbe057fa31156affeeed8e9dc40e6663"
   }
  }
 },
 "nbformat": 4,
 "nbformat_minor": 2
}
