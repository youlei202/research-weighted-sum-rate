{
 "cells": [
  {
   "cell_type": "code",
   "execution_count": 37,
   "metadata": {},
   "outputs": [],
   "source": [
    "import numpy as np\n",
    "import pandas as pd\n",
    "import math\n",
    "import seaborn as sns\n",
    "import matplotlib.pyplot as plt\n",
    "\n",
    "import warnings\n",
    "warnings.filterwarnings(\"ignore\")\n",
    "\n",
    "\n",
    "from src.path_loss import PathLossInHIndoorOffice, PathLossInHShoppingMalls\n",
    "from src.network_sim import NetworkSimulator\n",
    "from src.algorithm import wmmse, stochastic_wmmse\n",
    "from src.sc import SyntheticControl\n",
    "from src.experiment import ExperimentInterferenceModelComparison\n",
    "\n",
    "%reload_ext autoreload\n",
    "%autoreload 2\n",
    "%aimport src"
   ]
  },
  {
   "cell_type": "code",
   "execution_count": 38,
   "metadata": {},
   "outputs": [],
   "source": [
    "frequency_Hz= 50 * 1e9 # Hz\n",
    "distance_m = 50\n",
    "sample_size = 10"
   ]
  },
  {
   "cell_type": "code",
   "execution_count": 39,
   "metadata": {},
   "outputs": [
    {
     "data": {
      "text/html": [
       "<div>\n",
       "<style scoped>\n",
       "    .dataframe tbody tr th:only-of-type {\n",
       "        vertical-align: middle;\n",
       "    }\n",
       "\n",
       "    .dataframe tbody tr th {\n",
       "        vertical-align: top;\n",
       "    }\n",
       "\n",
       "    .dataframe thead th {\n",
       "        text-align: right;\n",
       "    }\n",
       "</style>\n",
       "<table border=\"1\" class=\"dataframe\">\n",
       "  <thead>\n",
       "    <tr style=\"text-align: right;\">\n",
       "      <th></th>\n",
       "      <th>PathLossInHIndoorOffice</th>\n",
       "      <th>PathLossInHShoppingMalls</th>\n",
       "    </tr>\n",
       "  </thead>\n",
       "  <tbody>\n",
       "    <tr>\n",
       "      <th>0</th>\n",
       "      <td>-117.505699</td>\n",
       "      <td>-106.087233</td>\n",
       "    </tr>\n",
       "    <tr>\n",
       "      <th>1</th>\n",
       "      <td>-138.360218</td>\n",
       "      <td>-103.037218</td>\n",
       "    </tr>\n",
       "    <tr>\n",
       "      <th>2</th>\n",
       "      <td>-130.426810</td>\n",
       "      <td>-109.313872</td>\n",
       "    </tr>\n",
       "    <tr>\n",
       "      <th>3</th>\n",
       "      <td>-130.472858</td>\n",
       "      <td>-113.695581</td>\n",
       "    </tr>\n",
       "    <tr>\n",
       "      <th>4</th>\n",
       "      <td>-125.652916</td>\n",
       "      <td>-98.045159</td>\n",
       "    </tr>\n",
       "    <tr>\n",
       "      <th>5</th>\n",
       "      <td>-134.477504</td>\n",
       "      <td>-94.922633</td>\n",
       "    </tr>\n",
       "    <tr>\n",
       "      <th>6</th>\n",
       "      <td>-122.565232</td>\n",
       "      <td>-93.362923</td>\n",
       "    </tr>\n",
       "    <tr>\n",
       "      <th>7</th>\n",
       "      <td>-134.739863</td>\n",
       "      <td>-108.386008</td>\n",
       "    </tr>\n",
       "    <tr>\n",
       "      <th>8</th>\n",
       "      <td>-132.549417</td>\n",
       "      <td>-115.078875</td>\n",
       "    </tr>\n",
       "    <tr>\n",
       "      <th>9</th>\n",
       "      <td>-137.680066</td>\n",
       "      <td>-111.770265</td>\n",
       "    </tr>\n",
       "  </tbody>\n",
       "</table>\n",
       "</div>"
      ],
      "text/plain": [
       "   PathLossInHIndoorOffice  PathLossInHShoppingMalls\n",
       "0              -117.505699               -106.087233\n",
       "1              -138.360218               -103.037218\n",
       "2              -130.426810               -109.313872\n",
       "3              -130.472858               -113.695581\n",
       "4              -125.652916                -98.045159\n",
       "5              -134.477504                -94.922633\n",
       "6              -122.565232                -93.362923\n",
       "7              -134.739863               -108.386008\n",
       "8              -132.549417               -115.078875\n",
       "9              -137.680066               -111.770265"
      ]
     },
     "execution_count": 39,
     "metadata": {},
     "output_type": "execute_result"
    }
   ],
   "source": [
    "pd.DataFrame({\n",
    "    'PathLossInHIndoorOffice':[PathLossInHIndoorOffice().in_dBm(frequency_Hz=frequency_Hz, distance_m=distance_m) for i in range(sample_size)],\n",
    "    'PathLossInHShoppingMalls': [PathLossInHShoppingMalls().in_dBm(frequency_Hz=frequency_Hz, distance_m=distance_m) for i in range(sample_size)],\n",
    "})"
   ]
  },
  {
   "cell_type": "code",
   "execution_count": 40,
   "metadata": {},
   "outputs": [],
   "source": [
    "simulator = NetworkSimulator(Tx_radius=200, Rx_radius=25, num_Tx_netA=5, num_Rx_per_Tx_netA=10, num_Tx_netB=3, num_Rx_per_Tx_netB=10)\n"
   ]
  },
  {
   "cell_type": "code",
   "execution_count": 41,
   "metadata": {},
   "outputs": [
    {
     "data": {
      "image/png": "[encoded data removed]",
      "text/plain": [
       "<Figure size 504x504 with 1 Axes>"
      ]
     },
     "metadata": {},
     "output_type": "display_data"
    }
   ],
   "source": [
    "simulator.plot_network()"
   ]
  },
  {
   "cell_type": "code",
   "execution_count": 42,
   "metadata": {},
   "outputs": [
    {
     "data": {
      "text/html": [
       "<div>\n",
       "<style scoped>\n",
       "    .dataframe tbody tr th:only-of-type {\n",
       "        vertical-align: middle;\n",
       "    }\n",
       "\n",
       "    .dataframe tbody tr th {\n",
       "        vertical-align: top;\n",
       "    }\n",
       "\n",
       "    .dataframe thead th {\n",
       "        text-align: right;\n",
       "    }\n",
       "</style>\n",
       "<table border=\"1\" class=\"dataframe\">\n",
       "  <thead>\n",
       "    <tr style=\"text-align: right;\">\n",
       "      <th></th>\n",
       "      <th>0</th>\n",
       "      <th>1</th>\n",
       "      <th>2</th>\n",
       "      <th>3</th>\n",
       "      <th>4</th>\n",
       "      <th>5</th>\n",
       "      <th>6</th>\n",
       "      <th>7</th>\n",
       "      <th>8</th>\n",
       "      <th>9</th>\n",
       "      <th>...</th>\n",
       "      <th>70</th>\n",
       "      <th>71</th>\n",
       "      <th>72</th>\n",
       "      <th>73</th>\n",
       "      <th>74</th>\n",
       "      <th>75</th>\n",
       "      <th>76</th>\n",
       "      <th>77</th>\n",
       "      <th>78</th>\n",
       "      <th>79</th>\n",
       "    </tr>\n",
       "  </thead>\n",
       "  <tbody>\n",
       "    <tr>\n",
       "      <th>0</th>\n",
       "      <td>-104.069928</td>\n",
       "      <td>-99.682425</td>\n",
       "      <td>-110.880543</td>\n",
       "      <td>-93.522207</td>\n",
       "      <td>-97.086791</td>\n",
       "      <td>-89.327284</td>\n",
       "      <td>-104.084650</td>\n",
       "      <td>-100.669252</td>\n",
       "      <td>-89.582657</td>\n",
       "      <td>-91.328435</td>\n",
       "      <td>...</td>\n",
       "      <td>-153.239530</td>\n",
       "      <td>-169.645184</td>\n",
       "      <td>-156.005418</td>\n",
       "      <td>-159.314580</td>\n",
       "      <td>-158.738345</td>\n",
       "      <td>-157.181610</td>\n",
       "      <td>-158.989984</td>\n",
       "      <td>-182.101484</td>\n",
       "      <td>-154.758157</td>\n",
       "      <td>-167.639460</td>\n",
       "    </tr>\n",
       "    <tr>\n",
       "      <th>1</th>\n",
       "      <td>-111.466520</td>\n",
       "      <td>-87.772173</td>\n",
       "      <td>-109.562536</td>\n",
       "      <td>-100.563140</td>\n",
       "      <td>-104.884869</td>\n",
       "      <td>-96.167655</td>\n",
       "      <td>-111.081434</td>\n",
       "      <td>-108.611369</td>\n",
       "      <td>-107.947938</td>\n",
       "      <td>-108.873558</td>\n",
       "      <td>...</td>\n",
       "      <td>-164.870570</td>\n",
       "      <td>-162.159487</td>\n",
       "      <td>-162.929528</td>\n",
       "      <td>-157.502773</td>\n",
       "      <td>-157.789679</td>\n",
       "      <td>-168.278365</td>\n",
       "      <td>-156.746600</td>\n",
       "      <td>-159.238525</td>\n",
       "      <td>-171.706787</td>\n",
       "      <td>-161.437416</td>\n",
       "    </tr>\n",
       "    <tr>\n",
       "      <th>2</th>\n",
       "      <td>-101.526277</td>\n",
       "      <td>-96.016831</td>\n",
       "      <td>-80.274852</td>\n",
       "      <td>-98.410743</td>\n",
       "      <td>-96.285943</td>\n",
       "      <td>-99.742311</td>\n",
       "      <td>-92.370648</td>\n",
       "      <td>-107.340868</td>\n",
       "      <td>-105.340276</td>\n",
       "      <td>-87.250300</td>\n",
       "      <td>...</td>\n",
       "      <td>-153.935037</td>\n",
       "      <td>-149.110985</td>\n",
       "      <td>-154.067562</td>\n",
       "      <td>-152.823103</td>\n",
       "      <td>-156.211863</td>\n",
       "      <td>-165.310954</td>\n",
       "      <td>-163.320492</td>\n",
       "      <td>-157.655599</td>\n",
       "      <td>-156.689967</td>\n",
       "      <td>-167.468087</td>\n",
       "    </tr>\n",
       "    <tr>\n",
       "      <th>3</th>\n",
       "      <td>-151.805248</td>\n",
       "      <td>-163.120183</td>\n",
       "      <td>-162.376157</td>\n",
       "      <td>-151.611987</td>\n",
       "      <td>-141.926176</td>\n",
       "      <td>-149.862065</td>\n",
       "      <td>-156.717632</td>\n",
       "      <td>-142.360483</td>\n",
       "      <td>-150.975506</td>\n",
       "      <td>-143.027108</td>\n",
       "      <td>...</td>\n",
       "      <td>-163.152760</td>\n",
       "      <td>-138.040174</td>\n",
       "      <td>-151.984100</td>\n",
       "      <td>-152.928251</td>\n",
       "      <td>-148.483852</td>\n",
       "      <td>-138.226269</td>\n",
       "      <td>-149.772678</td>\n",
       "      <td>-150.949761</td>\n",
       "      <td>-157.314052</td>\n",
       "      <td>-150.456843</td>\n",
       "    </tr>\n",
       "    <tr>\n",
       "      <th>4</th>\n",
       "      <td>-153.152536</td>\n",
       "      <td>-139.866835</td>\n",
       "      <td>-133.745203</td>\n",
       "      <td>-143.806718</td>\n",
       "      <td>-129.709774</td>\n",
       "      <td>-134.983074</td>\n",
       "      <td>-137.622539</td>\n",
       "      <td>-145.034495</td>\n",
       "      <td>-138.147988</td>\n",
       "      <td>-129.099079</td>\n",
       "      <td>...</td>\n",
       "      <td>-127.840614</td>\n",
       "      <td>-126.806774</td>\n",
       "      <td>-119.448123</td>\n",
       "      <td>-124.567229</td>\n",
       "      <td>-138.561048</td>\n",
       "      <td>-127.386884</td>\n",
       "      <td>-123.404981</td>\n",
       "      <td>-121.296477</td>\n",
       "      <td>-126.779694</td>\n",
       "      <td>-110.097736</td>\n",
       "    </tr>\n",
       "    <tr>\n",
       "      <th>5</th>\n",
       "      <td>-127.024777</td>\n",
       "      <td>-131.790318</td>\n",
       "      <td>-146.692768</td>\n",
       "      <td>-123.505271</td>\n",
       "      <td>-134.315646</td>\n",
       "      <td>-149.870812</td>\n",
       "      <td>-147.349769</td>\n",
       "      <td>-133.777577</td>\n",
       "      <td>-123.149756</td>\n",
       "      <td>-128.470662</td>\n",
       "      <td>...</td>\n",
       "      <td>-156.706086</td>\n",
       "      <td>-148.428892</td>\n",
       "      <td>-154.350834</td>\n",
       "      <td>-150.261010</td>\n",
       "      <td>-155.129533</td>\n",
       "      <td>-153.496938</td>\n",
       "      <td>-155.901067</td>\n",
       "      <td>-156.527481</td>\n",
       "      <td>-155.406772</td>\n",
       "      <td>-159.326624</td>\n",
       "    </tr>\n",
       "    <tr>\n",
       "      <th>6</th>\n",
       "      <td>-106.261645</td>\n",
       "      <td>-105.225649</td>\n",
       "      <td>-110.788735</td>\n",
       "      <td>-103.722029</td>\n",
       "      <td>-113.770864</td>\n",
       "      <td>-95.863342</td>\n",
       "      <td>-93.820132</td>\n",
       "      <td>-107.035164</td>\n",
       "      <td>-108.988370</td>\n",
       "      <td>-101.651923</td>\n",
       "      <td>...</td>\n",
       "      <td>-163.322163</td>\n",
       "      <td>-161.630208</td>\n",
       "      <td>-162.632599</td>\n",
       "      <td>-171.056600</td>\n",
       "      <td>-167.228064</td>\n",
       "      <td>-159.124292</td>\n",
       "      <td>-170.495232</td>\n",
       "      <td>-164.983135</td>\n",
       "      <td>-171.954620</td>\n",
       "      <td>-172.440941</td>\n",
       "    </tr>\n",
       "    <tr>\n",
       "      <th>7</th>\n",
       "      <td>-159.694002</td>\n",
       "      <td>-168.011125</td>\n",
       "      <td>-154.746049</td>\n",
       "      <td>-168.007193</td>\n",
       "      <td>-170.629082</td>\n",
       "      <td>-149.980706</td>\n",
       "      <td>-146.204698</td>\n",
       "      <td>-164.130717</td>\n",
       "      <td>-153.161930</td>\n",
       "      <td>-160.669145</td>\n",
       "      <td>...</td>\n",
       "      <td>-103.600179</td>\n",
       "      <td>-91.968603</td>\n",
       "      <td>-107.981639</td>\n",
       "      <td>-114.631502</td>\n",
       "      <td>-81.693743</td>\n",
       "      <td>-80.376019</td>\n",
       "      <td>-83.755326</td>\n",
       "      <td>-98.719050</td>\n",
       "      <td>-87.502233</td>\n",
       "      <td>-74.188565</td>\n",
       "    </tr>\n",
       "  </tbody>\n",
       "</table>\n",
       "<p>8 rows × 80 columns</p>\n",
       "</div>"
      ],
      "text/plain": [
       "           0           1           2           3           4           5   \\\n",
       "0 -104.069928  -99.682425 -110.880543  -93.522207  -97.086791  -89.327284   \n",
       "1 -111.466520  -87.772173 -109.562536 -100.563140 -104.884869  -96.167655   \n",
       "2 -101.526277  -96.016831  -80.274852  -98.410743  -96.285943  -99.742311   \n",
       "3 -151.805248 -163.120183 -162.376157 -151.611987 -141.926176 -149.862065   \n",
       "4 -153.152536 -139.866835 -133.745203 -143.806718 -129.709774 -134.983074   \n",
       "5 -127.024777 -131.790318 -146.692768 -123.505271 -134.315646 -149.870812   \n",
       "6 -106.261645 -105.225649 -110.788735 -103.722029 -113.770864  -95.863342   \n",
       "7 -159.694002 -168.011125 -154.746049 -168.007193 -170.629082 -149.980706   \n",
       "\n",
       "           6           7           8           9   ...          70  \\\n",
       "0 -104.084650 -100.669252  -89.582657  -91.328435  ... -153.239530   \n",
       "1 -111.081434 -108.611369 -107.947938 -108.873558  ... -164.870570   \n",
       "2  -92.370648 -107.340868 -105.340276  -87.250300  ... -153.935037   \n",
       "3 -156.717632 -142.360483 -150.975506 -143.027108  ... -163.152760   \n",
       "4 -137.622539 -145.034495 -138.147988 -129.099079  ... -127.840614   \n",
       "5 -147.349769 -133.777577 -123.149756 -128.470662  ... -156.706086   \n",
       "6  -93.820132 -107.035164 -108.988370 -101.651923  ... -163.322163   \n",
       "7 -146.204698 -164.130717 -153.161930 -160.669145  ... -103.600179   \n",
       "\n",
       "           71          72          73          74          75          76  \\\n",
       "0 -169.645184 -156.005418 -159.314580 -158.738345 -157.181610 -158.989984   \n",
       "1 -162.159487 -162.929528 -157.502773 -157.789679 -168.278365 -156.746600   \n",
       "2 -149.110985 -154.067562 -152.823103 -156.211863 -165.310954 -163.320492   \n",
       "3 -138.040174 -151.984100 -152.928251 -148.483852 -138.226269 -149.772678   \n",
       "4 -126.806774 -119.448123 -124.567229 -138.561048 -127.386884 -123.404981   \n",
       "5 -148.428892 -154.350834 -150.261010 -155.129533 -153.496938 -155.901067   \n",
       "6 -161.630208 -162.632599 -171.056600 -167.228064 -159.124292 -170.495232   \n",
       "7  -91.968603 -107.981639 -114.631502  -81.693743  -80.376019  -83.755326   \n",
       "\n",
       "           77          78          79  \n",
       "0 -182.101484 -154.758157 -167.639460  \n",
       "1 -159.238525 -171.706787 -161.437416  \n",
       "2 -157.655599 -156.689967 -167.468087  \n",
       "3 -150.949761 -157.314052 -150.456843  \n",
       "4 -121.296477 -126.779694 -110.097736  \n",
       "5 -156.527481 -155.406772 -159.326624  \n",
       "6 -164.983135 -171.954620 -172.440941  \n",
       "7  -98.719050  -87.502233  -74.188565  \n",
       "\n",
       "[8 rows x 80 columns]"
      ]
     },
     "execution_count": 42,
     "metadata": {},
     "output_type": "execute_result"
    }
   ],
   "source": [
    "pd.DataFrame(simulator.gain_mat_dBm)"
   ]
  },
  {
   "cell_type": "code",
   "execution_count": 43,
   "metadata": {},
   "outputs": [
    {
     "data": {
      "image/png": "[encoded data removed]",
      "text/plain": [
       "<Figure size 1152x144 with 2 Axes>"
      ]
     },
     "metadata": {
      "needs_background": "light"
     },
     "output_type": "display_data"
    }
   ],
   "source": [
    "simulator.plot_gain_mat()"
   ]
  },
  {
   "cell_type": "markdown",
   "metadata": {},
   "source": [
    "## Model Comparisons"
   ]
  },
  {
   "cell_type": "code",
   "execution_count": 44,
   "metadata": {},
   "outputs": [
    {
     "data": {
      "text/plain": [
       "305.12039679212296"
      ]
     },
     "execution_count": 44,
     "metadata": {},
     "output_type": "execute_result"
    }
   ],
   "source": [
    "simulator.weighted_sum_rate_Gnats([200 for i in range(simulator.num_Rx)], Rx_weights=np.ones(simulator.num_Rx), part='A')"
   ]
  },
  {
   "cell_type": "code",
   "execution_count": 45,
   "metadata": {},
   "outputs": [],
   "source": [
    "# model_comparison = ExperimentInterferenceModelComparison(simulator=simulator)\n",
    "# model_comparison.data_generation(num_samples=100, max_power=500, netB_power_mode='zero')\n",
    "# model_comparison.modeling()"
   ]
  },
  {
   "cell_type": "code",
   "execution_count": 46,
   "metadata": {},
   "outputs": [],
   "source": [
    "# model_comparison.run(num_rounds=100, netA_power_mode='wmmse', netB_power_mode='zero')"
   ]
  },
  {
   "cell_type": "code",
   "execution_count": 47,
   "metadata": {},
   "outputs": [],
   "source": [
    "# model_comparison.run(num_rounds=100, netA_power_mode='wmmse', netB_power_mode='dependent')"
   ]
  },
  {
   "cell_type": "code",
   "execution_count": 48,
   "metadata": {},
   "outputs": [],
   "source": [
    "# model_comparison.run(num_rounds=100, netA_power_mode='wmmse', netB_power_mode='uniform')"
   ]
  },
  {
   "cell_type": "markdown",
   "metadata": {},
   "source": [
    "## Algorithm Comparisons"
   ]
  },
  {
   "cell_type": "code",
   "execution_count": 57,
   "metadata": {},
   "outputs": [],
   "source": [
    "max_power = 200\n",
    "netB_power_training_mode = 'dependent' # ['dependent', 'zero', 'random']\n",
    "netB_power_testing_mode = 'dependent' # ['dependent', 'zero', 'random', 'uniform']\n",
    "\n",
    "max_iterations = 300\n",
    "\n",
    "model_comparison = ExperimentInterferenceModelComparison(simulator=simulator)\n",
    "model_comparison.data_generation(num_samples=1000, max_power=max_power, netB_power_mode=netB_power_training_mode)\n",
    "model_comparison.modeling(synthetic_constrained=True)\n",
    "starting_powers_mW = [1e-5 for i in range(simulator.num_Rx)]\n",
    "# Rx_weights = np.random.uniform(0.1, 1, simulator.num_Rx)\n",
    "Rx_weights = np.ones(simulator.num_Rx)"
   ]
  },
  {
   "cell_type": "code",
   "execution_count": 58,
   "metadata": {},
   "outputs": [],
   "source": [
    "rates_original_method = stochastic_wmmse(\n",
    "    simulator=simulator,\n",
    "    Rx_powers_mW=starting_powers_mW,\n",
    "    Rx_max_powers_mW=max_power,\n",
    "    Rx_weights=Rx_weights,\n",
    "    interference_mode='original',\n",
    "    interference_models=[],\n",
    "    netB_power_mode = netB_power_testing_mode,\n",
    "    power_corr_mat=model_comparison.power_corr_mat,\n",
    "    max_iter=max_iterations,\n",
    ");"
   ]
  },
  {
   "cell_type": "code",
   "execution_count": 59,
   "metadata": {},
   "outputs": [],
   "source": [
    "rates_local_method = stochastic_wmmse(\n",
    "    simulator=simulator,\n",
    "    Rx_powers_mW=starting_powers_mW,\n",
    "    Rx_max_powers_mW=max_power,\n",
    "    Rx_weights=Rx_weights,\n",
    "    interference_mode='local',\n",
    "    interference_models=[],\n",
    "    netB_power_mode = netB_power_testing_mode,\n",
    "    power_corr_mat=model_comparison.power_corr_mat,\n",
    "    max_iter=max_iterations,\n",
    ");"
   ]
  },
  {
   "cell_type": "code",
   "execution_count": 60,
   "metadata": {},
   "outputs": [],
   "source": [
    "rates_sc_method = stochastic_wmmse(\n",
    "    simulator=simulator,\n",
    "    Rx_powers_mW=starting_powers_mW,\n",
    "    Rx_max_powers_mW=max_power,\n",
    "    Rx_weights=Rx_weights,\n",
    "    interference_mode='sc_estimate',\n",
    "    interference_models=model_comparison.sc_models,\n",
    "    netB_power_mode = netB_power_testing_mode,\n",
    "    power_corr_mat=model_comparison.power_corr_mat,\n",
    "    max_iter=max_iterations,\n",
    ");"
   ]
  },
  {
   "cell_type": "code",
   "execution_count": 61,
   "metadata": {},
   "outputs": [],
   "source": [
    "# rates_lr_method = stochastic_wmmse(\n",
    "#     simulator=simulator,\n",
    "#     Rx_powers_mW=starting_powers_mW,\n",
    "#     Rx_max_powers_mW=max_power,\n",
    "#     Rx_weights=Rx_weights,\n",
    "#     interference_mode='lr_estimate',\n",
    "#     interference_models=model_comparison.lr_models,\n",
    "#     netB_power_mode = netB_power_testing_mode,\n",
    "#     power_corr_mat=model_comparison.power_corr_mat,\n",
    "#     max_iter=max_iterations,\n",
    "# );"
   ]
  },
  {
   "cell_type": "code",
   "execution_count": 62,
   "metadata": {},
   "outputs": [
    {
     "data": {
      "image/png": "[encoded data removed]",
      "text/plain": [
       "<Figure size 432x288 with 1 Axes>"
      ]
     },
     "metadata": {
      "needs_background": "light"
     },
     "output_type": "display_data"
    }
   ],
   "source": [
    "data = pd.DataFrame({\n",
    "    'wmmse': rates_original_method,\n",
    "    'wmmse_local': rates_local_method,\n",
    "    'wmmse_sc': rates_sc_method,\n",
    "    # 'wmmse_lr': rates_lr_method,\n",
    "})\n",
    "data.plot();"
   ]
  },
  {
   "cell_type": "code",
   "execution_count": null,
   "metadata": {},
   "outputs": [],
   "source": []
  }
 ],
 "metadata": {
  "kernelspec": {
   "display_name": "Python 3.9.7",
   "language": "python",
   "name": "python3"
  },
  "language_info": {
   "codemirror_mode": {
    "name": "ipython",
    "version": 3
   },
   "file_extension": ".py",
   "mimetype": "text/x-python",
   "name": "python",
   "nbconvert_exporter": "python",
   "pygments_lexer": "ipython3",
   "version": "3.9.7"
  },
  "orig_nbformat": 4,
  "vscode": {
   "interpreter": {
    "hash": "92c6059857cd90f886057b6540f3fbd9cbe057fa31156affeeed8e9dc40e6663"
   }
  }
 },
 "nbformat": 4,
 "nbformat_minor": 2
}
