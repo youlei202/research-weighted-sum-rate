{
 "cells": [
  {
   "cell_type": "code",
   "execution_count": null,
   "metadata": {},
   "outputs": [],
   "source": [
    "import numpy as np\n",
    "import pandas as pd\n",
    "import math\n",
    "import seaborn as sns\n",
    "import matplotlib.pyplot as plt\n",
    "\n",
    "import warnings\n",
    "warnings.filterwarnings(\"ignore\")\n",
    "\n",
    "\n",
    "from src.path_loss import PathLossInHIndoorOffice, PathLossInHShoppingMalls\n",
    "from src.network_sim import NetworkSimulator\n",
    "from src.algorithm import wmmse, stochastic_wmmse\n",
    "from src.sc import SyntheticControl\n",
    "from src.experiment import ExperimentInterferenceModelComparison\n",
    "\n",
    "%reload_ext autoreload\n",
    "%autoreload 2\n",
    "%aimport src"
   ]
  },
  {
   "cell_type": "code",
   "execution_count": 68,
   "metadata": {},
   "outputs": [],
   "source": [
    "frequency_Hz= 50 * 1e9 # Hz\n",
    "distance_m = 50\n",
    "sample_size = 10"
   ]
  },
  {
   "cell_type": "code",
   "execution_count": 69,
   "metadata": {},
   "outputs": [
    {
     "data": {
      "text/html": [
       "<div>\n",
       "<style scoped>\n",
       "    .dataframe tbody tr th:only-of-type {\n",
       "        vertical-align: middle;\n",
       "    }\n",
       "\n",
       "    .dataframe tbody tr th {\n",
       "        vertical-align: top;\n",
       "    }\n",
       "\n",
       "    .dataframe thead th {\n",
       "        text-align: right;\n",
       "    }\n",
       "</style>\n",
       "<table border=\"1\" class=\"dataframe\">\n",
       "  <thead>\n",
       "    <tr style=\"text-align: right;\">\n",
       "      <th></th>\n",
       "      <th>PathLossInHIndoorOffice</th>\n",
       "      <th>PathLossInHShoppingMalls</th>\n",
       "    </tr>\n",
       "  </thead>\n",
       "  <tbody>\n",
       "    <tr>\n",
       "      <th>0</th>\n",
       "      <td>-121.454722</td>\n",
       "      <td>-108.554816</td>\n",
       "    </tr>\n",
       "    <tr>\n",
       "      <th>1</th>\n",
       "      <td>-116.053588</td>\n",
       "      <td>-102.024682</td>\n",
       "    </tr>\n",
       "    <tr>\n",
       "      <th>2</th>\n",
       "      <td>-119.517242</td>\n",
       "      <td>-105.336481</td>\n",
       "    </tr>\n",
       "    <tr>\n",
       "      <th>3</th>\n",
       "      <td>-133.663371</td>\n",
       "      <td>-113.985790</td>\n",
       "    </tr>\n",
       "    <tr>\n",
       "      <th>4</th>\n",
       "      <td>-116.439116</td>\n",
       "      <td>-108.858838</td>\n",
       "    </tr>\n",
       "    <tr>\n",
       "      <th>5</th>\n",
       "      <td>-123.386710</td>\n",
       "      <td>-103.183378</td>\n",
       "    </tr>\n",
       "    <tr>\n",
       "      <th>6</th>\n",
       "      <td>-127.666410</td>\n",
       "      <td>-103.612398</td>\n",
       "    </tr>\n",
       "    <tr>\n",
       "      <th>7</th>\n",
       "      <td>-109.589102</td>\n",
       "      <td>-114.303190</td>\n",
       "    </tr>\n",
       "    <tr>\n",
       "      <th>8</th>\n",
       "      <td>-118.376806</td>\n",
       "      <td>-106.366837</td>\n",
       "    </tr>\n",
       "    <tr>\n",
       "      <th>9</th>\n",
       "      <td>-124.628691</td>\n",
       "      <td>-118.578841</td>\n",
       "    </tr>\n",
       "  </tbody>\n",
       "</table>\n",
       "</div>"
      ],
      "text/plain": [
       "   PathLossInHIndoorOffice  PathLossInHShoppingMalls\n",
       "0              -121.454722               -108.554816\n",
       "1              -116.053588               -102.024682\n",
       "2              -119.517242               -105.336481\n",
       "3              -133.663371               -113.985790\n",
       "4              -116.439116               -108.858838\n",
       "5              -123.386710               -103.183378\n",
       "6              -127.666410               -103.612398\n",
       "7              -109.589102               -114.303190\n",
       "8              -118.376806               -106.366837\n",
       "9              -124.628691               -118.578841"
      ]
     },
     "execution_count": 69,
     "metadata": {},
     "output_type": "execute_result"
    }
   ],
   "source": [
    "pd.DataFrame({\n",
    "    'PathLossInHIndoorOffice':[PathLossInHIndoorOffice().in_dBm(frequency_Hz=frequency_Hz, distance_m=distance_m) for i in range(sample_size)],\n",
    "    'PathLossInHShoppingMalls': [PathLossInHShoppingMalls().in_dBm(frequency_Hz=frequency_Hz, distance_m=distance_m) for i in range(sample_size)],\n",
    "})"
   ]
  },
  {
   "cell_type": "code",
   "execution_count": 70,
   "metadata": {},
   "outputs": [],
   "source": [
    "simulator = NetworkSimulator(Tx_radius=200, Rx_radius=25, num_Tx_netA=5, num_Rx_per_Tx_netA=10, num_Tx_netB=3, num_Rx_per_Tx_netB=10)\n"
   ]
  },
  {
   "cell_type": "code",
   "execution_count": 71,
   "metadata": {},
   "outputs": [
    {
     "data": {
      "image/png": "[encoded data removed]",
      "text/plain": [
       "<Figure size 504x504 with 1 Axes>"
      ]
     },
     "metadata": {},
     "output_type": "display_data"
    }
   ],
   "source": [
    "simulator.plot_network()"
   ]
  },
  {
   "cell_type": "code",
   "execution_count": 72,
   "metadata": {},
   "outputs": [
    {
     "data": {
      "text/html": [
       "<div>\n",
       "<style scoped>\n",
       "    .dataframe tbody tr th:only-of-type {\n",
       "        vertical-align: middle;\n",
       "    }\n",
       "\n",
       "    .dataframe tbody tr th {\n",
       "        vertical-align: top;\n",
       "    }\n",
       "\n",
       "    .dataframe thead th {\n",
       "        text-align: right;\n",
       "    }\n",
       "</style>\n",
       "<table border=\"1\" class=\"dataframe\">\n",
       "  <thead>\n",
       "    <tr style=\"text-align: right;\">\n",
       "      <th></th>\n",
       "      <th>0</th>\n",
       "      <th>1</th>\n",
       "      <th>2</th>\n",
       "      <th>3</th>\n",
       "      <th>4</th>\n",
       "      <th>5</th>\n",
       "      <th>6</th>\n",
       "      <th>7</th>\n",
       "      <th>8</th>\n",
       "      <th>9</th>\n",
       "      <th>...</th>\n",
       "      <th>70</th>\n",
       "      <th>71</th>\n",
       "      <th>72</th>\n",
       "      <th>73</th>\n",
       "      <th>74</th>\n",
       "      <th>75</th>\n",
       "      <th>76</th>\n",
       "      <th>77</th>\n",
       "      <th>78</th>\n",
       "      <th>79</th>\n",
       "    </tr>\n",
       "  </thead>\n",
       "  <tbody>\n",
       "    <tr>\n",
       "      <th>0</th>\n",
       "      <td>-101.305109</td>\n",
       "      <td>-105.494718</td>\n",
       "      <td>-92.657587</td>\n",
       "      <td>-90.301627</td>\n",
       "      <td>-82.257068</td>\n",
       "      <td>-89.648809</td>\n",
       "      <td>-95.877388</td>\n",
       "      <td>-107.570325</td>\n",
       "      <td>-96.970589</td>\n",
       "      <td>-84.512606</td>\n",
       "      <td>...</td>\n",
       "      <td>-139.986361</td>\n",
       "      <td>-150.240442</td>\n",
       "      <td>-151.803836</td>\n",
       "      <td>-146.561966</td>\n",
       "      <td>-147.170044</td>\n",
       "      <td>-150.906409</td>\n",
       "      <td>-151.374481</td>\n",
       "      <td>-152.649290</td>\n",
       "      <td>-154.401120</td>\n",
       "      <td>-158.604436</td>\n",
       "    </tr>\n",
       "    <tr>\n",
       "      <th>1</th>\n",
       "      <td>-169.927455</td>\n",
       "      <td>-175.005054</td>\n",
       "      <td>-168.276528</td>\n",
       "      <td>-164.476008</td>\n",
       "      <td>-170.066703</td>\n",
       "      <td>-167.777549</td>\n",
       "      <td>-171.017157</td>\n",
       "      <td>-164.827352</td>\n",
       "      <td>-156.006865</td>\n",
       "      <td>-169.281146</td>\n",
       "      <td>...</td>\n",
       "      <td>-161.035161</td>\n",
       "      <td>-165.100285</td>\n",
       "      <td>-174.052351</td>\n",
       "      <td>-175.630807</td>\n",
       "      <td>-183.355892</td>\n",
       "      <td>-163.954959</td>\n",
       "      <td>-174.007518</td>\n",
       "      <td>-162.747007</td>\n",
       "      <td>-170.225129</td>\n",
       "      <td>-165.528628</td>\n",
       "    </tr>\n",
       "    <tr>\n",
       "      <th>2</th>\n",
       "      <td>-138.522802</td>\n",
       "      <td>-130.991605</td>\n",
       "      <td>-128.562095</td>\n",
       "      <td>-147.304053</td>\n",
       "      <td>-138.603758</td>\n",
       "      <td>-141.705636</td>\n",
       "      <td>-127.877090</td>\n",
       "      <td>-138.154731</td>\n",
       "      <td>-127.338348</td>\n",
       "      <td>-136.049156</td>\n",
       "      <td>...</td>\n",
       "      <td>-107.716489</td>\n",
       "      <td>-112.630247</td>\n",
       "      <td>-107.662819</td>\n",
       "      <td>-94.467519</td>\n",
       "      <td>-102.327204</td>\n",
       "      <td>-97.428649</td>\n",
       "      <td>-114.946778</td>\n",
       "      <td>-106.071131</td>\n",
       "      <td>-114.885996</td>\n",
       "      <td>-106.945550</td>\n",
       "    </tr>\n",
       "    <tr>\n",
       "      <th>3</th>\n",
       "      <td>-159.336975</td>\n",
       "      <td>-173.862292</td>\n",
       "      <td>-172.988857</td>\n",
       "      <td>-168.765706</td>\n",
       "      <td>-175.198012</td>\n",
       "      <td>-176.030136</td>\n",
       "      <td>-167.344955</td>\n",
       "      <td>-174.035012</td>\n",
       "      <td>-172.142309</td>\n",
       "      <td>-165.828905</td>\n",
       "      <td>...</td>\n",
       "      <td>-156.499194</td>\n",
       "      <td>-155.105861</td>\n",
       "      <td>-160.856842</td>\n",
       "      <td>-159.160802</td>\n",
       "      <td>-158.537880</td>\n",
       "      <td>-163.941077</td>\n",
       "      <td>-150.084392</td>\n",
       "      <td>-155.447536</td>\n",
       "      <td>-157.505221</td>\n",
       "      <td>-151.634951</td>\n",
       "    </tr>\n",
       "    <tr>\n",
       "      <th>4</th>\n",
       "      <td>-161.689096</td>\n",
       "      <td>-156.876685</td>\n",
       "      <td>-141.076556</td>\n",
       "      <td>-149.691627</td>\n",
       "      <td>-147.565733</td>\n",
       "      <td>-153.622955</td>\n",
       "      <td>-125.408869</td>\n",
       "      <td>-154.187354</td>\n",
       "      <td>-149.518243</td>\n",
       "      <td>-141.770633</td>\n",
       "      <td>...</td>\n",
       "      <td>-122.440881</td>\n",
       "      <td>-117.453098</td>\n",
       "      <td>-108.488085</td>\n",
       "      <td>-126.257135</td>\n",
       "      <td>-109.645907</td>\n",
       "      <td>-104.049084</td>\n",
       "      <td>-113.901738</td>\n",
       "      <td>-110.695715</td>\n",
       "      <td>-109.928610</td>\n",
       "      <td>-108.766274</td>\n",
       "    </tr>\n",
       "    <tr>\n",
       "      <th>5</th>\n",
       "      <td>-125.979803</td>\n",
       "      <td>-130.800917</td>\n",
       "      <td>-117.365490</td>\n",
       "      <td>-133.228131</td>\n",
       "      <td>-125.718420</td>\n",
       "      <td>-104.636769</td>\n",
       "      <td>-115.599850</td>\n",
       "      <td>-128.272759</td>\n",
       "      <td>-125.906418</td>\n",
       "      <td>-135.458513</td>\n",
       "      <td>...</td>\n",
       "      <td>-129.048356</td>\n",
       "      <td>-104.138308</td>\n",
       "      <td>-114.366187</td>\n",
       "      <td>-132.500083</td>\n",
       "      <td>-128.860461</td>\n",
       "      <td>-124.564360</td>\n",
       "      <td>-138.517645</td>\n",
       "      <td>-126.468078</td>\n",
       "      <td>-129.575944</td>\n",
       "      <td>-126.288583</td>\n",
       "    </tr>\n",
       "    <tr>\n",
       "      <th>6</th>\n",
       "      <td>-169.209355</td>\n",
       "      <td>-158.760964</td>\n",
       "      <td>-159.444653</td>\n",
       "      <td>-176.898773</td>\n",
       "      <td>-166.289402</td>\n",
       "      <td>-167.763566</td>\n",
       "      <td>-156.856752</td>\n",
       "      <td>-159.001897</td>\n",
       "      <td>-156.486095</td>\n",
       "      <td>-156.698229</td>\n",
       "      <td>...</td>\n",
       "      <td>-128.939138</td>\n",
       "      <td>-149.369243</td>\n",
       "      <td>-132.945192</td>\n",
       "      <td>-131.418785</td>\n",
       "      <td>-145.579342</td>\n",
       "      <td>-141.029140</td>\n",
       "      <td>-127.782008</td>\n",
       "      <td>-138.078873</td>\n",
       "      <td>-124.421419</td>\n",
       "      <td>-130.041879</td>\n",
       "    </tr>\n",
       "    <tr>\n",
       "      <th>7</th>\n",
       "      <td>-141.351599</td>\n",
       "      <td>-153.555692</td>\n",
       "      <td>-159.593200</td>\n",
       "      <td>-147.874053</td>\n",
       "      <td>-137.645097</td>\n",
       "      <td>-152.338464</td>\n",
       "      <td>-142.588224</td>\n",
       "      <td>-141.862431</td>\n",
       "      <td>-137.308573</td>\n",
       "      <td>-161.153748</td>\n",
       "      <td>...</td>\n",
       "      <td>-99.448204</td>\n",
       "      <td>-101.804119</td>\n",
       "      <td>-80.459363</td>\n",
       "      <td>-80.098996</td>\n",
       "      <td>-93.433651</td>\n",
       "      <td>-99.749801</td>\n",
       "      <td>-92.663271</td>\n",
       "      <td>-106.295020</td>\n",
       "      <td>-92.682278</td>\n",
       "      <td>-91.522308</td>\n",
       "    </tr>\n",
       "  </tbody>\n",
       "</table>\n",
       "<p>8 rows × 80 columns</p>\n",
       "</div>"
      ],
      "text/plain": [
       "           0           1           2           3           4           5   \\\n",
       "0 -101.305109 -105.494718  -92.657587  -90.301627  -82.257068  -89.648809   \n",
       "1 -169.927455 -175.005054 -168.276528 -164.476008 -170.066703 -167.777549   \n",
       "2 -138.522802 -130.991605 -128.562095 -147.304053 -138.603758 -141.705636   \n",
       "3 -159.336975 -173.862292 -172.988857 -168.765706 -175.198012 -176.030136   \n",
       "4 -161.689096 -156.876685 -141.076556 -149.691627 -147.565733 -153.622955   \n",
       "5 -125.979803 -130.800917 -117.365490 -133.228131 -125.718420 -104.636769   \n",
       "6 -169.209355 -158.760964 -159.444653 -176.898773 -166.289402 -167.763566   \n",
       "7 -141.351599 -153.555692 -159.593200 -147.874053 -137.645097 -152.338464   \n",
       "\n",
       "           6           7           8           9   ...          70  \\\n",
       "0  -95.877388 -107.570325  -96.970589  -84.512606  ... -139.986361   \n",
       "1 -171.017157 -164.827352 -156.006865 -169.281146  ... -161.035161   \n",
       "2 -127.877090 -138.154731 -127.338348 -136.049156  ... -107.716489   \n",
       "3 -167.344955 -174.035012 -172.142309 -165.828905  ... -156.499194   \n",
       "4 -125.408869 -154.187354 -149.518243 -141.770633  ... -122.440881   \n",
       "5 -115.599850 -128.272759 -125.906418 -135.458513  ... -129.048356   \n",
       "6 -156.856752 -159.001897 -156.486095 -156.698229  ... -128.939138   \n",
       "7 -142.588224 -141.862431 -137.308573 -161.153748  ...  -99.448204   \n",
       "\n",
       "           71          72          73          74          75          76  \\\n",
       "0 -150.240442 -151.803836 -146.561966 -147.170044 -150.906409 -151.374481   \n",
       "1 -165.100285 -174.052351 -175.630807 -183.355892 -163.954959 -174.007518   \n",
       "2 -112.630247 -107.662819  -94.467519 -102.327204  -97.428649 -114.946778   \n",
       "3 -155.105861 -160.856842 -159.160802 -158.537880 -163.941077 -150.084392   \n",
       "4 -117.453098 -108.488085 -126.257135 -109.645907 -104.049084 -113.901738   \n",
       "5 -104.138308 -114.366187 -132.500083 -128.860461 -124.564360 -138.517645   \n",
       "6 -149.369243 -132.945192 -131.418785 -145.579342 -141.029140 -127.782008   \n",
       "7 -101.804119  -80.459363  -80.098996  -93.433651  -99.749801  -92.663271   \n",
       "\n",
       "           77          78          79  \n",
       "0 -152.649290 -154.401120 -158.604436  \n",
       "1 -162.747007 -170.225129 -165.528628  \n",
       "2 -106.071131 -114.885996 -106.945550  \n",
       "3 -155.447536 -157.505221 -151.634951  \n",
       "4 -110.695715 -109.928610 -108.766274  \n",
       "5 -126.468078 -129.575944 -126.288583  \n",
       "6 -138.078873 -124.421419 -130.041879  \n",
       "7 -106.295020  -92.682278  -91.522308  \n",
       "\n",
       "[8 rows x 80 columns]"
      ]
     },
     "execution_count": 72,
     "metadata": {},
     "output_type": "execute_result"
    }
   ],
   "source": [
    "pd.DataFrame(simulator.gain_mat_dBm)"
   ]
  },
  {
   "cell_type": "code",
   "execution_count": 73,
   "metadata": {},
   "outputs": [
    {
     "data": {
      "image/png": "[encoded data removed]",
      "text/plain": [
       "<Figure size 1152x144 with 2 Axes>"
      ]
     },
     "metadata": {
      "needs_background": "light"
     },
     "output_type": "display_data"
    }
   ],
   "source": [
    "simulator.plot_gain_mat()"
   ]
  },
  {
   "cell_type": "markdown",
   "metadata": {},
   "source": [
    "## Model Comparisons"
   ]
  },
  {
   "cell_type": "code",
   "execution_count": 74,
   "metadata": {},
   "outputs": [
    {
     "data": {
      "text/plain": [
       "737.908337706554"
      ]
     },
     "execution_count": 74,
     "metadata": {},
     "output_type": "execute_result"
    }
   ],
   "source": [
    "simulator.weighted_sum_rate_Gnats([200 for i in range(simulator.num_Rx)], Rx_weights=np.ones(simulator.num_Rx), part='A')"
   ]
  },
  {
   "cell_type": "code",
   "execution_count": 75,
   "metadata": {},
   "outputs": [],
   "source": [
    "# model_comparison = ExperimentInterferenceModelComparison(simulator=simulator)\n",
    "# model_comparison.data_generation(num_samples=100, max_power=500, netB_power_mode='zero')\n",
    "# model_comparison.modeling()"
   ]
  },
  {
   "cell_type": "code",
   "execution_count": 76,
   "metadata": {},
   "outputs": [],
   "source": [
    "# model_comparison.run(num_rounds=100, netA_power_mode='wmmse', netB_power_mode='zero')"
   ]
  },
  {
   "cell_type": "code",
   "execution_count": 77,
   "metadata": {},
   "outputs": [],
   "source": [
    "# model_comparison.run(num_rounds=100, netA_power_mode='wmmse', netB_power_mode='dependent')"
   ]
  },
  {
   "cell_type": "code",
   "execution_count": 78,
   "metadata": {},
   "outputs": [],
   "source": [
    "# model_comparison.run(num_rounds=100, netA_power_mode='wmmse', netB_power_mode='uniform')"
   ]
  },
  {
   "cell_type": "markdown",
   "metadata": {},
   "source": [
    "## Algorithm Comparisons"
   ]
  },
  {
   "cell_type": "code",
   "execution_count": 79,
   "metadata": {},
   "outputs": [],
   "source": [
    "max_power = 200\n",
    "netB_power_training_mode = 'dependent' # ['dependent', 'zero', 'random']\n",
    "netB_power_testing_mode = 'dependent' # ['dependent', 'zero', 'random', 'uniform']\n",
    "\n",
    "max_iterations = 300\n",
    "\n",
    "model_comparison = ExperimentInterferenceModelComparison(simulator=simulator)\n",
    "model_comparison.data_generation(num_samples=1000, max_power=max_power, netB_power_mode=netB_power_training_mode)\n",
    "model_comparison.modeling(synthetic_constrained=True)\n",
    "starting_powers_mW = [1e-5 for i in range(simulator.num_Rx)]\n",
    "# Rx_weights = np.random.uniform(0.1, 1, simulator.num_Rx)\n",
    "Rx_weights = np.ones(simulator.num_Rx)"
   ]
  },
  {
   "cell_type": "code",
   "execution_count": 80,
   "metadata": {},
   "outputs": [],
   "source": [
    "rates_original_method = stochastic_wmmse(\n",
    "    simulator=simulator,\n",
    "    Rx_powers_mW=starting_powers_mW,\n",
    "    Rx_max_powers_mW=max_power,\n",
    "    Rx_weights=Rx_weights,\n",
    "    interference_mode='original',\n",
    "    interference_models=[],\n",
    "    netB_power_mode = netB_power_testing_mode,\n",
    "    power_corr_mat=model_comparison.power_corr_mat,\n",
    "    max_iter=max_iterations,\n",
    ");"
   ]
  },
  {
   "cell_type": "code",
   "execution_count": 81,
   "metadata": {},
   "outputs": [],
   "source": [
    "rates_local_method = stochastic_wmmse(\n",
    "    simulator=simulator,\n",
    "    Rx_powers_mW=starting_powers_mW,\n",
    "    Rx_max_powers_mW=max_power,\n",
    "    Rx_weights=Rx_weights,\n",
    "    interference_mode='local',\n",
    "    interference_models=[],\n",
    "    netB_power_mode = netB_power_testing_mode,\n",
    "    power_corr_mat=model_comparison.power_corr_mat,\n",
    "    max_iter=max_iterations,\n",
    ");"
   ]
  },
  {
   "cell_type": "code",
   "execution_count": 82,
   "metadata": {},
   "outputs": [],
   "source": [
    "rates_sc_method = stochastic_wmmse(\n",
    "    simulator=simulator,\n",
    "    Rx_powers_mW=starting_powers_mW,\n",
    "    Rx_max_powers_mW=max_power,\n",
    "    Rx_weights=Rx_weights,\n",
    "    interference_mode='sc_estimate',\n",
    "    interference_models=model_comparison.sc_models,\n",
    "    netB_power_mode = netB_power_testing_mode,\n",
    "    power_corr_mat=model_comparison.power_corr_mat,\n",
    "    max_iter=max_iterations,\n",
    ");"
   ]
  },
  {
   "cell_type": "code",
   "execution_count": 83,
   "metadata": {},
   "outputs": [],
   "source": [
    "# rates_lr_method = stochastic_wmmse(\n",
    "#     simulator=simulator,\n",
    "#     Rx_powers_mW=starting_powers_mW,\n",
    "#     Rx_max_powers_mW=max_power,\n",
    "#     Rx_weights=Rx_weights,\n",
    "#     interference_mode='lr_estimate',\n",
    "#     interference_models=model_comparison.lr_models,\n",
    "#     netB_power_mode = netB_power_testing_mode,\n",
    "#     power_corr_mat=model_comparison.power_corr_mat,\n",
    "#     max_iter=max_iterations,\n",
    "# );"
   ]
  },
  {
   "cell_type": "code",
   "execution_count": 84,
   "metadata": {},
   "outputs": [
    {
     "data": {
      "image/png": "[encoded data removed]",
      "text/plain": [
       "<Figure size 432x288 with 1 Axes>"
      ]
     },
     "metadata": {
      "needs_background": "light"
     },
     "output_type": "display_data"
    }
   ],
   "source": [
    "data = pd.DataFrame({\n",
    "    'wmmse': rates_original_method,\n",
    "    'wmmse_local': rates_local_method,\n",
    "    'wmmse_sc': rates_sc_method,\n",
    "    # 'wmmse_lr': rates_lr_method,\n",
    "})\n",
    "data.plot();"
   ]
  },
  {
   "cell_type": "code",
   "execution_count": null,
   "metadata": {},
   "outputs": [],
   "source": [
    "from IPython.display import clear_output\n",
    "\n",
    "for i in range(10):\n",
    "    clear_output(wait=True)\n",
    "    print(\"Hello World!\")"
   ]
  },
  {
   "cell_type": "code",
   "execution_count": null,
   "metadata": {},
   "outputs": [],
   "source": []
  }
 ],
 "metadata": {
  "kernelspec": {
   "display_name": "Python 3.9.7",
   "language": "python",
   "name": "python3"
  },
  "language_info": {
   "codemirror_mode": {
    "name": "ipython",
    "version": 3
   },
   "file_extension": ".py",
   "mimetype": "text/x-python",
   "name": "python",
   "nbconvert_exporter": "python",
   "pygments_lexer": "ipython3",
   "version": "3.9.7"
  },
  "orig_nbformat": 4,
  "vscode": {
   "interpreter": {
    "hash": "92c6059857cd90f886057b6540f3fbd9cbe057fa31156affeeed8e9dc40e6663"
   }
  }
 },
 "nbformat": 4,
 "nbformat_minor": 2
}
