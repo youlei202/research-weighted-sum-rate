{
 "cells": [
  {
   "cell_type": "code",
   "execution_count": 315,
   "metadata": {},
   "outputs": [],
   "source": [
    "import numpy as np\n",
    "import pandas as pd\n",
    "import math\n",
    "import seaborn as sns\n",
    "import matplotlib.pyplot as plt\n",
    "\n",
    "import warnings\n",
    "warnings.filterwarnings(\"ignore\")\n",
    "\n",
    "\n",
    "from src.path_loss import PathLossInHIndoorOffice, PathLossInHShoppingMalls\n",
    "from src.network_sim import NetworkSimulator\n",
    "from src.algorithm import wmmse, stochastic_wmmse\n",
    "from src.sc import SyntheticControl\n",
    "from src.experiment import ExperimentInterferenceModelComparison\n",
    "\n",
    "%reload_ext autoreload\n",
    "%autoreload 2\n",
    "%aimport src"
   ]
  },
  {
   "cell_type": "code",
   "execution_count": 2,
   "metadata": {},
   "outputs": [],
   "source": [
    "frequency_Hz= 50 * 1e9 # Hz\n",
    "distance_m = 50\n",
    "sample_size = 10"
   ]
  },
  {
   "cell_type": "code",
   "execution_count": 3,
   "metadata": {},
   "outputs": [
    {
     "data": {
      "text/html": [
       "<div>\n",
       "<style scoped>\n",
       "    .dataframe tbody tr th:only-of-type {\n",
       "        vertical-align: middle;\n",
       "    }\n",
       "\n",
       "    .dataframe tbody tr th {\n",
       "        vertical-align: top;\n",
       "    }\n",
       "\n",
       "    .dataframe thead th {\n",
       "        text-align: right;\n",
       "    }\n",
       "</style>\n",
       "<table border=\"1\" class=\"dataframe\">\n",
       "  <thead>\n",
       "    <tr style=\"text-align: right;\">\n",
       "      <th></th>\n",
       "      <th>PathLossInHIndoorOffice</th>\n",
       "      <th>PathLossInHShoppingMalls</th>\n",
       "    </tr>\n",
       "  </thead>\n",
       "  <tbody>\n",
       "    <tr>\n",
       "      <th>0</th>\n",
       "      <td>-97.417484</td>\n",
       "      <td>-100.574273</td>\n",
       "    </tr>\n",
       "    <tr>\n",
       "      <th>1</th>\n",
       "      <td>-133.488088</td>\n",
       "      <td>-112.030474</td>\n",
       "    </tr>\n",
       "    <tr>\n",
       "      <th>2</th>\n",
       "      <td>-122.936042</td>\n",
       "      <td>-110.318018</td>\n",
       "    </tr>\n",
       "    <tr>\n",
       "      <th>3</th>\n",
       "      <td>-125.995534</td>\n",
       "      <td>-104.272712</td>\n",
       "    </tr>\n",
       "    <tr>\n",
       "      <th>4</th>\n",
       "      <td>-135.402031</td>\n",
       "      <td>-106.676176</td>\n",
       "    </tr>\n",
       "    <tr>\n",
       "      <th>5</th>\n",
       "      <td>-135.928709</td>\n",
       "      <td>-108.415390</td>\n",
       "    </tr>\n",
       "    <tr>\n",
       "      <th>6</th>\n",
       "      <td>-120.277649</td>\n",
       "      <td>-110.512475</td>\n",
       "    </tr>\n",
       "    <tr>\n",
       "      <th>7</th>\n",
       "      <td>-130.763917</td>\n",
       "      <td>-110.618748</td>\n",
       "    </tr>\n",
       "    <tr>\n",
       "      <th>8</th>\n",
       "      <td>-125.124523</td>\n",
       "      <td>-106.289922</td>\n",
       "    </tr>\n",
       "    <tr>\n",
       "      <th>9</th>\n",
       "      <td>-124.853737</td>\n",
       "      <td>-109.409400</td>\n",
       "    </tr>\n",
       "  </tbody>\n",
       "</table>\n",
       "</div>"
      ],
      "text/plain": [
       "   PathLossInHIndoorOffice  PathLossInHShoppingMalls\n",
       "0               -97.417484               -100.574273\n",
       "1              -133.488088               -112.030474\n",
       "2              -122.936042               -110.318018\n",
       "3              -125.995534               -104.272712\n",
       "4              -135.402031               -106.676176\n",
       "5              -135.928709               -108.415390\n",
       "6              -120.277649               -110.512475\n",
       "7              -130.763917               -110.618748\n",
       "8              -125.124523               -106.289922\n",
       "9              -124.853737               -109.409400"
      ]
     },
     "execution_count": 3,
     "metadata": {},
     "output_type": "execute_result"
    }
   ],
   "source": [
    "pd.DataFrame({\n",
    "    'PathLossInHIndoorOffice':[PathLossInHIndoorOffice().in_dBm(frequency_Hz=frequency_Hz, distance_m=distance_m) for i in range(sample_size)],\n",
    "    'PathLossInHShoppingMalls': [PathLossInHShoppingMalls().in_dBm(frequency_Hz=frequency_Hz, distance_m=distance_m) for i in range(sample_size)],\n",
    "})"
   ]
  },
  {
   "cell_type": "code",
   "execution_count": 343,
   "metadata": {},
   "outputs": [],
   "source": [
    "simulator = NetworkSimulator(Tx_radius=200, Rx_radius=100, num_Tx_netA=3, num_Rx_per_Tx_netA=5, num_Tx_netB=2, num_Rx_per_Tx_netB=5)"
   ]
  },
  {
   "cell_type": "code",
   "execution_count": 344,
   "metadata": {},
   "outputs": [
    {
     "data": {
      "image/png": "[encoded data removed]",
      "text/plain": [
       "<Figure size 504x504 with 1 Axes>"
      ]
     },
     "metadata": {},
     "output_type": "display_data"
    }
   ],
   "source": [
    "simulator.plot_network()"
   ]
  },
  {
   "cell_type": "code",
   "execution_count": 345,
   "metadata": {},
   "outputs": [
    {
     "data": {
      "text/html": [
       "<div>\n",
       "<style scoped>\n",
       "    .dataframe tbody tr th:only-of-type {\n",
       "        vertical-align: middle;\n",
       "    }\n",
       "\n",
       "    .dataframe tbody tr th {\n",
       "        vertical-align: top;\n",
       "    }\n",
       "\n",
       "    .dataframe thead th {\n",
       "        text-align: right;\n",
       "    }\n",
       "</style>\n",
       "<table border=\"1\" class=\"dataframe\">\n",
       "  <thead>\n",
       "    <tr style=\"text-align: right;\">\n",
       "      <th></th>\n",
       "      <th>0</th>\n",
       "      <th>1</th>\n",
       "      <th>2</th>\n",
       "      <th>3</th>\n",
       "      <th>4</th>\n",
       "      <th>5</th>\n",
       "      <th>6</th>\n",
       "      <th>7</th>\n",
       "      <th>8</th>\n",
       "      <th>9</th>\n",
       "      <th>...</th>\n",
       "      <th>15</th>\n",
       "      <th>16</th>\n",
       "      <th>17</th>\n",
       "      <th>18</th>\n",
       "      <th>19</th>\n",
       "      <th>20</th>\n",
       "      <th>21</th>\n",
       "      <th>22</th>\n",
       "      <th>23</th>\n",
       "      <th>24</th>\n",
       "    </tr>\n",
       "  </thead>\n",
       "  <tbody>\n",
       "    <tr>\n",
       "      <th>0</th>\n",
       "      <td>-105.341381</td>\n",
       "      <td>-117.696757</td>\n",
       "      <td>-112.162116</td>\n",
       "      <td>-121.569747</td>\n",
       "      <td>-118.919909</td>\n",
       "      <td>-153.927704</td>\n",
       "      <td>-143.258177</td>\n",
       "      <td>-149.452475</td>\n",
       "      <td>-165.661450</td>\n",
       "      <td>-170.490644</td>\n",
       "      <td>...</td>\n",
       "      <td>-156.396501</td>\n",
       "      <td>-165.194918</td>\n",
       "      <td>-151.319201</td>\n",
       "      <td>-148.752039</td>\n",
       "      <td>-161.320349</td>\n",
       "      <td>-163.557287</td>\n",
       "      <td>-146.662417</td>\n",
       "      <td>-144.815419</td>\n",
       "      <td>-146.149506</td>\n",
       "      <td>-132.742996</td>\n",
       "    </tr>\n",
       "    <tr>\n",
       "      <th>1</th>\n",
       "      <td>-158.606296</td>\n",
       "      <td>-168.286093</td>\n",
       "      <td>-151.810286</td>\n",
       "      <td>-176.791691</td>\n",
       "      <td>-170.749186</td>\n",
       "      <td>-116.139948</td>\n",
       "      <td>-109.418588</td>\n",
       "      <td>-116.049804</td>\n",
       "      <td>-110.933929</td>\n",
       "      <td>-107.562982</td>\n",
       "      <td>...</td>\n",
       "      <td>-122.968015</td>\n",
       "      <td>-139.317240</td>\n",
       "      <td>-123.377739</td>\n",
       "      <td>-109.616720</td>\n",
       "      <td>-117.658594</td>\n",
       "      <td>-161.300481</td>\n",
       "      <td>-168.223200</td>\n",
       "      <td>-150.925758</td>\n",
       "      <td>-150.078474</td>\n",
       "      <td>-154.116388</td>\n",
       "    </tr>\n",
       "    <tr>\n",
       "      <th>2</th>\n",
       "      <td>-118.373594</td>\n",
       "      <td>-130.739786</td>\n",
       "      <td>-120.521002</td>\n",
       "      <td>-130.995128</td>\n",
       "      <td>-135.972183</td>\n",
       "      <td>-142.065086</td>\n",
       "      <td>-153.528656</td>\n",
       "      <td>-136.727256</td>\n",
       "      <td>-157.746595</td>\n",
       "      <td>-162.604190</td>\n",
       "      <td>...</td>\n",
       "      <td>-176.608349</td>\n",
       "      <td>-155.653516</td>\n",
       "      <td>-140.994565</td>\n",
       "      <td>-158.937796</td>\n",
       "      <td>-150.341583</td>\n",
       "      <td>-173.264764</td>\n",
       "      <td>-154.943899</td>\n",
       "      <td>-170.707588</td>\n",
       "      <td>-159.398396</td>\n",
       "      <td>-156.043292</td>\n",
       "    </tr>\n",
       "    <tr>\n",
       "      <th>3</th>\n",
       "      <td>-155.253997</td>\n",
       "      <td>-157.985088</td>\n",
       "      <td>-153.638831</td>\n",
       "      <td>-157.011725</td>\n",
       "      <td>-153.530478</td>\n",
       "      <td>-125.819510</td>\n",
       "      <td>-128.613864</td>\n",
       "      <td>-103.524502</td>\n",
       "      <td>-133.853794</td>\n",
       "      <td>-145.756863</td>\n",
       "      <td>...</td>\n",
       "      <td>-111.001875</td>\n",
       "      <td>-112.320225</td>\n",
       "      <td>-115.407575</td>\n",
       "      <td>-89.157219</td>\n",
       "      <td>-107.061393</td>\n",
       "      <td>-157.290285</td>\n",
       "      <td>-148.467594</td>\n",
       "      <td>-131.251170</td>\n",
       "      <td>-129.917766</td>\n",
       "      <td>-122.650116</td>\n",
       "    </tr>\n",
       "    <tr>\n",
       "      <th>4</th>\n",
       "      <td>-152.971987</td>\n",
       "      <td>-158.042080</td>\n",
       "      <td>-153.426933</td>\n",
       "      <td>-164.178686</td>\n",
       "      <td>-143.440430</td>\n",
       "      <td>-161.267448</td>\n",
       "      <td>-172.551789</td>\n",
       "      <td>-161.065079</td>\n",
       "      <td>-166.788560</td>\n",
       "      <td>-187.038657</td>\n",
       "      <td>...</td>\n",
       "      <td>-157.917379</td>\n",
       "      <td>-128.547719</td>\n",
       "      <td>-136.751896</td>\n",
       "      <td>-135.243495</td>\n",
       "      <td>-159.159658</td>\n",
       "      <td>-117.613375</td>\n",
       "      <td>-118.936376</td>\n",
       "      <td>-117.718248</td>\n",
       "      <td>-101.824311</td>\n",
       "      <td>-111.980446</td>\n",
       "    </tr>\n",
       "  </tbody>\n",
       "</table>\n",
       "<p>5 rows × 25 columns</p>\n",
       "</div>"
      ],
      "text/plain": [
       "           0           1           2           3           4           5   \\\n",
       "0 -105.341381 -117.696757 -112.162116 -121.569747 -118.919909 -153.927704   \n",
       "1 -158.606296 -168.286093 -151.810286 -176.791691 -170.749186 -116.139948   \n",
       "2 -118.373594 -130.739786 -120.521002 -130.995128 -135.972183 -142.065086   \n",
       "3 -155.253997 -157.985088 -153.638831 -157.011725 -153.530478 -125.819510   \n",
       "4 -152.971987 -158.042080 -153.426933 -164.178686 -143.440430 -161.267448   \n",
       "\n",
       "           6           7           8           9   ...          15  \\\n",
       "0 -143.258177 -149.452475 -165.661450 -170.490644  ... -156.396501   \n",
       "1 -109.418588 -116.049804 -110.933929 -107.562982  ... -122.968015   \n",
       "2 -153.528656 -136.727256 -157.746595 -162.604190  ... -176.608349   \n",
       "3 -128.613864 -103.524502 -133.853794 -145.756863  ... -111.001875   \n",
       "4 -172.551789 -161.065079 -166.788560 -187.038657  ... -157.917379   \n",
       "\n",
       "           16          17          18          19          20          21  \\\n",
       "0 -165.194918 -151.319201 -148.752039 -161.320349 -163.557287 -146.662417   \n",
       "1 -139.317240 -123.377739 -109.616720 -117.658594 -161.300481 -168.223200   \n",
       "2 -155.653516 -140.994565 -158.937796 -150.341583 -173.264764 -154.943899   \n",
       "3 -112.320225 -115.407575  -89.157219 -107.061393 -157.290285 -148.467594   \n",
       "4 -128.547719 -136.751896 -135.243495 -159.159658 -117.613375 -118.936376   \n",
       "\n",
       "           22          23          24  \n",
       "0 -144.815419 -146.149506 -132.742996  \n",
       "1 -150.925758 -150.078474 -154.116388  \n",
       "2 -170.707588 -159.398396 -156.043292  \n",
       "3 -131.251170 -129.917766 -122.650116  \n",
       "4 -117.718248 -101.824311 -111.980446  \n",
       "\n",
       "[5 rows x 25 columns]"
      ]
     },
     "execution_count": 345,
     "metadata": {},
     "output_type": "execute_result"
    }
   ],
   "source": [
    "pd.DataFrame(simulator.gain_mat_dBm)"
   ]
  },
  {
   "cell_type": "code",
   "execution_count": 346,
   "metadata": {},
   "outputs": [
    {
     "data": {
      "image/png": "[encoded data removed]",
      "text/plain": [
       "<Figure size 1152x230.4 with 2 Axes>"
      ]
     },
     "metadata": {
      "needs_background": "light"
     },
     "output_type": "display_data"
    }
   ],
   "source": [
    "simulator.plot_gain_mat()"
   ]
  },
  {
   "cell_type": "markdown",
   "metadata": {},
   "source": [
    "## Model Comparisons"
   ]
  },
  {
   "cell_type": "code",
   "execution_count": 347,
   "metadata": {},
   "outputs": [
    {
     "data": {
      "text/plain": [
       "246.51165039056326"
      ]
     },
     "execution_count": 347,
     "metadata": {},
     "output_type": "execute_result"
    }
   ],
   "source": [
    "simulator.weighted_sum_rate_Gnats([200 for i in range(simulator.num_Rx)], Rx_weights=np.ones(simulator.num_Rx))"
   ]
  },
  {
   "cell_type": "code",
   "execution_count": 348,
   "metadata": {},
   "outputs": [],
   "source": [
    "model_comparison = ExperimentInterferenceModelComparison(simulator=simulator)\n",
    "model_comparison.data_generation(num_samples=100, max_power=500, netB_power_mode='zero')\n",
    "model_comparison.modeling()"
   ]
  },
  {
   "cell_type": "code",
   "execution_count": 349,
   "metadata": {},
   "outputs": [
    {
     "name": "stdout",
     "output_type": "stream",
     "text": [
      "Weighted Sum Rate: 238.64680217278953 Convergence Error at Round 5000 0.04179576208616435\n"
     ]
    },
    {
     "data": {
      "text/html": [
       "<div>\n",
       "<style scoped>\n",
       "    .dataframe tbody tr th:only-of-type {\n",
       "        vertical-align: middle;\n",
       "    }\n",
       "\n",
       "    .dataframe tbody tr th {\n",
       "        vertical-align: top;\n",
       "    }\n",
       "\n",
       "    .dataframe thead th {\n",
       "        text-align: right;\n",
       "    }\n",
       "</style>\n",
       "<table border=\"1\" class=\"dataframe\">\n",
       "  <thead>\n",
       "    <tr style=\"text-align: right;\">\n",
       "      <th></th>\n",
       "      <th>interference</th>\n",
       "      <th>sc_bias</th>\n",
       "      <th>lr_bias</th>\n",
       "    </tr>\n",
       "  </thead>\n",
       "  <tbody>\n",
       "    <tr>\n",
       "      <th>0</th>\n",
       "      <td>1.365681e-07</td>\n",
       "      <td>-0.941218</td>\n",
       "      <td>1.550569e-15</td>\n",
       "    </tr>\n",
       "  </tbody>\n",
       "</table>\n",
       "</div>"
      ],
      "text/plain": [
       "   interference   sc_bias       lr_bias\n",
       "0  1.365681e-07 -0.941218  1.550569e-15"
      ]
     },
     "execution_count": 349,
     "metadata": {},
     "output_type": "execute_result"
    }
   ],
   "source": [
    "model_comparison.run(num_rounds=100, netA_power_mode='wmmse', netB_power_mode='zero')"
   ]
  },
  {
   "cell_type": "code",
   "execution_count": 350,
   "metadata": {},
   "outputs": [
    {
     "data": {
      "text/html": [
       "<div>\n",
       "<style scoped>\n",
       "    .dataframe tbody tr th:only-of-type {\n",
       "        vertical-align: middle;\n",
       "    }\n",
       "\n",
       "    .dataframe tbody tr th {\n",
       "        vertical-align: top;\n",
       "    }\n",
       "\n",
       "    .dataframe thead th {\n",
       "        text-align: right;\n",
       "    }\n",
       "</style>\n",
       "<table border=\"1\" class=\"dataframe\">\n",
       "  <thead>\n",
       "    <tr style=\"text-align: right;\">\n",
       "      <th></th>\n",
       "      <th>interference</th>\n",
       "      <th>sc_bias</th>\n",
       "      <th>lr_bias</th>\n",
       "    </tr>\n",
       "  </thead>\n",
       "  <tbody>\n",
       "    <tr>\n",
       "      <th>0</th>\n",
       "      <td>1.374396e-07</td>\n",
       "      <td>-0.93307</td>\n",
       "      <td>-0.006341</td>\n",
       "    </tr>\n",
       "  </tbody>\n",
       "</table>\n",
       "</div>"
      ],
      "text/plain": [
       "   interference  sc_bias   lr_bias\n",
       "0  1.374396e-07 -0.93307 -0.006341"
      ]
     },
     "execution_count": 350,
     "metadata": {},
     "output_type": "execute_result"
    }
   ],
   "source": [
    "model_comparison.run(num_rounds=100, netA_power_mode='wmmse', netB_power_mode='dependent')"
   ]
  },
  {
   "cell_type": "code",
   "execution_count": 351,
   "metadata": {},
   "outputs": [
    {
     "data": {
      "text/html": [
       "<div>\n",
       "<style scoped>\n",
       "    .dataframe tbody tr th:only-of-type {\n",
       "        vertical-align: middle;\n",
       "    }\n",
       "\n",
       "    .dataframe tbody tr th {\n",
       "        vertical-align: top;\n",
       "    }\n",
       "\n",
       "    .dataframe thead th {\n",
       "        text-align: right;\n",
       "    }\n",
       "</style>\n",
       "<table border=\"1\" class=\"dataframe\">\n",
       "  <thead>\n",
       "    <tr style=\"text-align: right;\">\n",
       "      <th></th>\n",
       "      <th>interference</th>\n",
       "      <th>sc_bias</th>\n",
       "      <th>lr_bias</th>\n",
       "    </tr>\n",
       "  </thead>\n",
       "  <tbody>\n",
       "    <tr>\n",
       "      <th>0</th>\n",
       "      <td>1.373159e-07</td>\n",
       "      <td>-0.93422</td>\n",
       "      <td>-0.005446</td>\n",
       "    </tr>\n",
       "  </tbody>\n",
       "</table>\n",
       "</div>"
      ],
      "text/plain": [
       "   interference  sc_bias   lr_bias\n",
       "0  1.373159e-07 -0.93422 -0.005446"
      ]
     },
     "execution_count": 351,
     "metadata": {},
     "output_type": "execute_result"
    }
   ],
   "source": [
    "model_comparison.run(num_rounds=100, netA_power_mode='wmmse', netB_power_mode='uniform')"
   ]
  },
  {
   "cell_type": "markdown",
   "metadata": {},
   "source": [
    "## Algorithm Comparisons"
   ]
  },
  {
   "cell_type": "code",
   "execution_count": 365,
   "metadata": {},
   "outputs": [],
   "source": [
    "max_power = 200\n",
    "netB_power_training_mode = 'zero' # ['dependent', 'zero', 'random']\n",
    "netB_power_testing_mode = 'dependent' # ['dependent', 'zero', 'random', 'uniform']\n",
    "\n",
    "max_iterations = 300\n",
    "\n",
    "model_comparison = ExperimentInterferenceModelComparison(simulator=simulator)\n",
    "model_comparison.data_generation(num_samples=100, max_power=max_power, netB_power_mode=netB_power_training_mode)\n",
    "model_comparison.modeling(synthetic_constrained=False)\n",
    "starting_powers_mW = [1e-5 for i in range(simulator.num_Rx)]\n",
    "# Rx_weights = np.random.uniform(0.1, 1, simulator.num_Rx)\n",
    "Rx_weights = np.ones(simulator.num_Rx)"
   ]
  },
  {
   "cell_type": "code",
   "execution_count": 366,
   "metadata": {},
   "outputs": [
    {
     "name": "stdout",
     "output_type": "stream",
     "text": [
      "Denominator: 1.2454462776340395e-09\n",
      "Weighted Sum Rate: 180.21937855420774\n",
      "Power: [5.96081861e+00 0.00000000e+00 0.00000000e+00 0.00000000e+00\n",
      " 0.00000000e+00 0.00000000e+00 0.00000000e+00 0.00000000e+00\n",
      " 0.00000000e+00 1.58793032e+02 1.40844078e-01 0.00000000e+00\n",
      " 0.00000000e+00 0.00000000e+00 0.00000000e+00], [ 60.11756171 134.47828338   0.           0.           0.\n",
      " 108.407454     0.           0.           0.           0.        ]\n",
      "Convergence Error at Round 300 0.13741683209441136\n"
     ]
    }
   ],
   "source": [
    "rates_original_method = stochastic_wmmse(\n",
    "    simulator=simulator,\n",
    "    Rx_powers_mW=starting_powers_mW,\n",
    "    Rx_max_powers_mW=max_power,\n",
    "    Rx_weights=Rx_weights,\n",
    "    interference_mode='original',\n",
    "    interference_models=[],\n",
    "    netB_power_mode = netB_power_testing_mode,\n",
    "    power_corr_mat=model_comparison.power_corr_mat,\n",
    "    max_iter=max_iterations,\n",
    ");"
   ]
  },
  {
   "cell_type": "code",
   "execution_count": 367,
   "metadata": {},
   "outputs": [
    {
     "name": "stdout",
     "output_type": "stream",
     "text": [
      "Denominator: 5.697965040454559e-10\n",
      "Weighted Sum Rate: 177.74168967451757\n",
      "Power: [4.62831887e+00 0.00000000e+00 0.00000000e+00 0.00000000e+00\n",
      " 0.00000000e+00 0.00000000e+00 0.00000000e+00 0.00000000e+00\n",
      " 0.00000000e+00 1.42011369e+02 1.10840618e-01 0.00000000e+00\n",
      " 0.00000000e+00 0.00000000e+00 0.00000000e+00], [ 54.12097531 119.97444284   0.           0.           0.\n",
      "  97.38129955   0.           0.           0.           0.        ]\n",
      "Convergence Error at Round 300 0.07971491160649345\n"
     ]
    }
   ],
   "source": [
    "rates_local_method = stochastic_wmmse(\n",
    "    simulator=simulator,\n",
    "    Rx_powers_mW=starting_powers_mW,\n",
    "    Rx_max_powers_mW=max_power,\n",
    "    Rx_weights=Rx_weights,\n",
    "    interference_mode='local',\n",
    "    interference_models=[],\n",
    "    netB_power_mode = netB_power_testing_mode,\n",
    "    power_corr_mat=model_comparison.power_corr_mat,\n",
    "    max_iter=max_iterations,\n",
    ");"
   ]
  },
  {
   "cell_type": "code",
   "execution_count": 368,
   "metadata": {},
   "outputs": [],
   "source": [
    "rates_sc_method = stochastic_wmmse(\n",
    "    simulator=simulator,\n",
    "    Rx_powers_mW=starting_powers_mW,\n",
    "    Rx_max_powers_mW=max_power,\n",
    "    Rx_weights=Rx_weights,\n",
    "    interference_mode='sc_estimate',\n",
    "    interference_models=model_comparison.sc_models,\n",
    "    netB_power_mode = netB_power_testing_mode,\n",
    "    power_corr_mat=model_comparison.power_corr_mat,\n",
    "    max_iter=max_iterations,\n",
    ");"
   ]
  },
  {
   "cell_type": "code",
   "execution_count": null,
   "metadata": {},
   "outputs": [
    {
     "name": "stdout",
     "output_type": "stream",
     "text": [
      "Denominator: 1.7996781078505728e-09\n",
      "Weighted Sum Rate: 143.94218997753615\n",
      "Power: [  8.55361159   0.           0.           0.           0.\n",
      "   0.           0.           0.           0.         200.\n",
      "   0.21178885   0.           0.           0.           0.        ], [1e-05, 1e-05, 1e-05, 1e-05, 1e-05, 1e-05, 1e-05, 1e-05, 1e-05, 1e-05]\n",
      "Convergence Error at Round 300 0.013156663372120821\n"
     ]
    }
   ],
   "source": [
    "rates_lr_method = stochastic_wmmse(\n",
    "    simulator=simulator,\n",
    "    Rx_powers_mW=starting_powers_mW,\n",
    "    Rx_max_powers_mW=max_power,\n",
    "    Rx_weights=Rx_weights,\n",
    "    interference_mode='lr_estimate',\n",
    "    interference_models=model_comparison.lr_models,\n",
    "    netB_power_mode = netB_power_testing_mode,\n",
    "    power_corr_mat=model_comparison.power_corr_mat,\n",
    "    max_iter=max_iterations,\n",
    ");"
   ]
  },
  {
   "cell_type": "code",
   "execution_count": null,
   "metadata": {},
   "outputs": [
    {
     "data": {
      "image/png": "[encoded data removed]",
      "text/plain": [
       "<Figure size 432x288 with 1 Axes>"
      ]
     },
     "metadata": {
      "needs_background": "light"
     },
     "output_type": "display_data"
    }
   ],
   "source": [
    "data = pd.DataFrame({\n",
    "    'wmmse': rates_original_method,\n",
    "    'wmmse_local': rates_local_method,\n",
    "    'wmmse_sc': rates_sc_method,\n",
    "    'wmmse_lr': rates_lr_method,\n",
    "})\n",
    "data.plot();"
   ]
  },
  {
   "cell_type": "code",
   "execution_count": null,
   "metadata": {},
   "outputs": [],
   "source": []
  },
  {
   "cell_type": "code",
   "execution_count": null,
   "metadata": {},
   "outputs": [],
   "source": []
  }
 ],
 "metadata": {
  "kernelspec": {
   "display_name": "Python 3.9.7",
   "language": "python",
   "name": "python3"
  },
  "language_info": {
   "codemirror_mode": {
    "name": "ipython",
    "version": 3
   },
   "file_extension": ".py",
   "mimetype": "text/x-python",
   "name": "python",
   "nbconvert_exporter": "python",
   "pygments_lexer": "ipython3",
   "version": "3.9.7"
  },
  "orig_nbformat": 4,
  "vscode": {
   "interpreter": {
    "hash": "92c6059857cd90f886057b6540f3fbd9cbe057fa31156affeeed8e9dc40e6663"
   }
  }
 },
 "nbformat": 4,
 "nbformat_minor": 2
}
