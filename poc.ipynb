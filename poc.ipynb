{
 "cells": [
  {
   "cell_type": "code",
   "execution_count": 34,
   "metadata": {},
   "outputs": [],
   "source": [
    "import numpy as np\n",
    "import pandas as pd\n",
    "import math\n",
    "import seaborn as sns\n",
    "import matplotlib.pyplot as plt\n",
    "\n",
    "import warnings\n",
    "warnings.filterwarnings(\"ignore\")\n",
    "\n",
    "from src.path_loss import PathLossInHIndoorOfficeLOS, \\\n",
    "                          PathLossInHIndoorOfficeNLOSSingle, \\\n",
    "                          PathLossInHIndoorOfficeNLOSDual, \\\n",
    "                          PathLossInHShoppingMallsLOS, \\\n",
    "                          PathLossInHShoppingMallsNLOSSingle, \\\n",
    "                          PathLossInHShoppingMallsNLOSDual\n",
    "\n",
    "\n",
    "%reload_ext autoreload\n",
    "%autoreload 2\n",
    "%aimport src"
   ]
  },
  {
   "cell_type": "code",
   "execution_count": null,
   "metadata": {},
   "outputs": [],
   "source": [
    "def line_of_sight_probability(cls, distance_m):\n",
    "    if distance_m <= 1.2:\n",
    "        return 1\n",
    "    elif distance_m < 6.5:\n",
    "        return math.exp(-(distance_m - 1.2) / 4.7)\n",
    "    else:\n",
    "        return math.exp(-(distance_m - 6.5) / 32.6) * 0.32"
   ]
  },
  {
   "cell_type": "code",
   "execution_count": 2,
   "metadata": {},
   "outputs": [],
   "source": [
    "frequency_Hz= 50 * 1e9 # Hz\n",
    "distance_m = 50\n",
    "sample_size = 10"
   ]
  },
  {
   "cell_type": "code",
   "execution_count": 8,
   "metadata": {},
   "outputs": [
    {
     "data": {
      "text/html": [
       "<div>\n",
       "<style scoped>\n",
       "    .dataframe tbody tr th:only-of-type {\n",
       "        vertical-align: middle;\n",
       "    }\n",
       "\n",
       "    .dataframe tbody tr th {\n",
       "        vertical-align: top;\n",
       "    }\n",
       "\n",
       "    .dataframe thead th {\n",
       "        text-align: right;\n",
       "    }\n",
       "</style>\n",
       "<table border=\"1\" class=\"dataframe\">\n",
       "  <thead>\n",
       "    <tr style=\"text-align: right;\">\n",
       "      <th></th>\n",
       "      <th>PathLossInHShoppingMallsLOS</th>\n",
       "      <th>PathLossInHIndoorOfficeNLOSSingle</th>\n",
       "      <th>PathLossInHIndoorOfficeNLOSDual</th>\n",
       "      <th>PathLossInHShoppingMallsNLOSSingle</th>\n",
       "      <th>PathLossInHShoppingMallsNLOSDual</th>\n",
       "    </tr>\n",
       "  </thead>\n",
       "  <tbody>\n",
       "    <tr>\n",
       "      <th>0</th>\n",
       "      <td>-97.623216</td>\n",
       "      <td>-119.548516</td>\n",
       "      <td>-127.926656</td>\n",
       "      <td>-109.822765</td>\n",
       "      <td>-104.018595</td>\n",
       "    </tr>\n",
       "    <tr>\n",
       "      <th>1</th>\n",
       "      <td>-93.825355</td>\n",
       "      <td>-117.993960</td>\n",
       "      <td>-105.348827</td>\n",
       "      <td>-113.332619</td>\n",
       "      <td>-99.140620</td>\n",
       "    </tr>\n",
       "    <tr>\n",
       "      <th>2</th>\n",
       "      <td>-93.952590</td>\n",
       "      <td>-126.845485</td>\n",
       "      <td>-126.472324</td>\n",
       "      <td>-102.546741</td>\n",
       "      <td>-108.296514</td>\n",
       "    </tr>\n",
       "    <tr>\n",
       "      <th>3</th>\n",
       "      <td>-94.715573</td>\n",
       "      <td>-115.596788</td>\n",
       "      <td>-125.168529</td>\n",
       "      <td>-107.390711</td>\n",
       "      <td>-104.650664</td>\n",
       "    </tr>\n",
       "    <tr>\n",
       "      <th>4</th>\n",
       "      <td>-99.836837</td>\n",
       "      <td>-125.069382</td>\n",
       "      <td>-119.828330</td>\n",
       "      <td>-119.487629</td>\n",
       "      <td>-119.497908</td>\n",
       "    </tr>\n",
       "    <tr>\n",
       "      <th>5</th>\n",
       "      <td>-95.259832</td>\n",
       "      <td>-112.962502</td>\n",
       "      <td>-124.354902</td>\n",
       "      <td>-109.573191</td>\n",
       "      <td>-112.283458</td>\n",
       "    </tr>\n",
       "    <tr>\n",
       "      <th>6</th>\n",
       "      <td>-95.727588</td>\n",
       "      <td>-127.101873</td>\n",
       "      <td>-126.594714</td>\n",
       "      <td>-129.150143</td>\n",
       "      <td>-111.949806</td>\n",
       "    </tr>\n",
       "    <tr>\n",
       "      <th>7</th>\n",
       "      <td>-97.931153</td>\n",
       "      <td>-123.010772</td>\n",
       "      <td>-122.038731</td>\n",
       "      <td>-102.550827</td>\n",
       "      <td>-103.890179</td>\n",
       "    </tr>\n",
       "    <tr>\n",
       "      <th>8</th>\n",
       "      <td>-93.652683</td>\n",
       "      <td>-133.207310</td>\n",
       "      <td>-126.916692</td>\n",
       "      <td>-110.873095</td>\n",
       "      <td>-107.395030</td>\n",
       "    </tr>\n",
       "    <tr>\n",
       "      <th>9</th>\n",
       "      <td>-96.170327</td>\n",
       "      <td>-134.924916</td>\n",
       "      <td>-129.287208</td>\n",
       "      <td>-129.779895</td>\n",
       "      <td>-99.052494</td>\n",
       "    </tr>\n",
       "  </tbody>\n",
       "</table>\n",
       "</div>"
      ],
      "text/plain": [
       "   PathLossInHShoppingMallsLOS  PathLossInHIndoorOfficeNLOSSingle  \\\n",
       "0                   -97.623216                        -119.548516   \n",
       "1                   -93.825355                        -117.993960   \n",
       "2                   -93.952590                        -126.845485   \n",
       "3                   -94.715573                        -115.596788   \n",
       "4                   -99.836837                        -125.069382   \n",
       "5                   -95.259832                        -112.962502   \n",
       "6                   -95.727588                        -127.101873   \n",
       "7                   -97.931153                        -123.010772   \n",
       "8                   -93.652683                        -133.207310   \n",
       "9                   -96.170327                        -134.924916   \n",
       "\n",
       "   PathLossInHIndoorOfficeNLOSDual  PathLossInHShoppingMallsNLOSSingle  \\\n",
       "0                      -127.926656                         -109.822765   \n",
       "1                      -105.348827                         -113.332619   \n",
       "2                      -126.472324                         -102.546741   \n",
       "3                      -125.168529                         -107.390711   \n",
       "4                      -119.828330                         -119.487629   \n",
       "5                      -124.354902                         -109.573191   \n",
       "6                      -126.594714                         -129.150143   \n",
       "7                      -122.038731                         -102.550827   \n",
       "8                      -126.916692                         -110.873095   \n",
       "9                      -129.287208                         -129.779895   \n",
       "\n",
       "   PathLossInHShoppingMallsNLOSDual  \n",
       "0                       -104.018595  \n",
       "1                        -99.140620  \n",
       "2                       -108.296514  \n",
       "3                       -104.650664  \n",
       "4                       -119.497908  \n",
       "5                       -112.283458  \n",
       "6                       -111.949806  \n",
       "7                       -103.890179  \n",
       "8                       -107.395030  \n",
       "9                        -99.052494  "
      ]
     },
     "execution_count": 8,
     "metadata": {},
     "output_type": "execute_result"
    }
   ],
   "source": [
    "pd.DataFrame({\n",
    "    'PathLossInHShoppingMallsLOS':[PathLossInHIndoorOfficeLOS().in_dBm(frequency_Hz=frequency_Hz, distance_m=distance_m) for i in range(sample_size)],\n",
    "    'PathLossInHIndoorOfficeNLOSSingle': [PathLossInHIndoorOfficeNLOSSingle().in_dBm(frequency_Hz=frequency_Hz, distance_m=distance_m) for i in range(sample_size)],\n",
    "    'PathLossInHIndoorOfficeNLOSDual': [PathLossInHIndoorOfficeNLOSDual().in_dBm(frequency_Hz=frequency_Hz, distance_m=distance_m) for i in range(sample_size)],\n",
    "    'PathLossInHShoppingMallsLOS': [PathLossInHShoppingMallsLOS().in_dBm(frequency_Hz=frequency_Hz, distance_m=distance_m) for i in range(sample_size)],\n",
    "    'PathLossInHShoppingMallsNLOSSingle': [PathLossInHShoppingMallsNLOSSingle().in_dBm(frequency_Hz=frequency_Hz, distance_m=distance_m) for i in range(sample_size)],\n",
    "    'PathLossInHShoppingMallsNLOSDual': [PathLossInHShoppingMallsNLOSDual().in_dBm(frequency_Hz=frequency_Hz, distance_m=distance_m) for i in range(sample_size)],\n",
    "})"
   ]
  },
  {
   "cell_type": "code",
   "execution_count": 87,
   "metadata": {},
   "outputs": [],
   "source": [
    "def uniform_distribution_in_circle(center_x, center_y, radius, n):\n",
    "\n",
    "    dist = np.sqrt(np.random.uniform(0, 1, n)) * radius\n",
    "    angle = np.pi * np.random.uniform(0, 2, n)\n",
    "\n",
    "    x = dist * np.cos(angle) + center_x\n",
    "    y = dist * np.sin(angle) + center_y\n",
    "    return x, y"
   ]
  },
  {
   "cell_type": "code",
   "execution_count": 207,
   "metadata": {},
   "outputs": [],
   "source": [
    "Tx_radius = 50\n",
    "Rx_radius = 20\n",
    "\n",
    "num_Tx_known = 3\n",
    "num_Rx_per_Tx_known = 5\n",
    "\n",
    "num_Tx_unknown = 2\n",
    "num_Rx_per_Tx_unknown = 3\n"
   ]
  },
  {
   "cell_type": "code",
   "execution_count": 229,
   "metadata": {},
   "outputs": [
    {
     "data": {
      "image/png": "[encoded data removed]",
      "text/plain": [
       "<Figure size 504x504 with 1 Axes>"
      ]
     },
     "metadata": {},
     "output_type": "display_data"
    }
   ],
   "source": [
    "x_Tx_known, y_Tx_known = uniform_distribution_in_circle(0,0, radius=Tx_radius, n=num_Tx_known)\n",
    "x_Rx_known_list = []\n",
    "y_Rx_known_list = []\n",
    "for x, y in zip(x_Tx_known, y_Tx_known):\n",
    "    xx, yy = uniform_distribution_in_circle(x,y, radius=Rx_radius, n=num_Rx_per_Tx_known)\n",
    "    x_Rx_known_list.append(xx)\n",
    "    y_Rx_known_list.append(yy)\n",
    "x_Rx_known = np.concatenate(x_Rx_known_list)\n",
    "y_Rx_known = np.concatenate(y_Rx_known_list)\n",
    "\n",
    "x_Tx_unknown, y_Tx_unknown = uniform_distribution_in_circle(0,0, radius=Tx_radius, n=num_Tx_unknown)\n",
    "x_Rx_unknown_list = []\n",
    "y_Rx_unknown_list = []\n",
    "for x, y in zip(x_Tx_unknown, y_Tx_unknown):\n",
    "    xx, yy = uniform_distribution_in_circle(x,y, radius=Rx_radius, n=num_Rx_per_Tx_unknown)\n",
    "    x_Rx_unknown_list.append(xx)\n",
    "    y_Rx_unknown_list.append(yy)\n",
    "x_Rx_unknown = np.concatenate(x_Rx_unknown_list)\n",
    "y_Rx_unknown = np.concatenate(y_Rx_unknown_list)\n",
    "\n",
    "fig, ax = plt.subplots(1,1,figsize=(7,7));\n",
    "sns.scatterplot(x_Tx_known, y_Tx_known, color='b', marker='s', s=100, ax=ax);\n",
    "sns.scatterplot(x_Tx_unknown, y_Tx_unknown, color='grey', marker='s', s=100, alpha=0.3, ax=ax);\n",
    "\n",
    "sns.scatterplot(x_Rx_known, y_Rx_known, color='g', marker='o', s=50, ax=ax);\n",
    "sns.scatterplot(x_Rx_unknown, y_Rx_unknown, color='grey', marker='o', s=50, alpha=0.3, ax=ax);\n",
    "\n",
    "for k in range(num_Tx_known):\n",
    "    for j in range(num_Rx_per_Tx_known):\n",
    "        x = x_Tx_known[k]\n",
    "        y = y_Tx_known[k]\n",
    "        u = x_Rx_known_list[k][j]\n",
    "        v = y_Rx_known_list[k][j]\n",
    "        ax.quiver(\n",
    "            x, y, u-x, v-y, \n",
    "            scale_units='xy', \n",
    "            angles='xy',\n",
    "            scale=1, \n",
    "            width=0.005,\n",
    "            headlength=5, \n",
    "            headwidth=5,\n",
    "            color='black', alpha=0.7);\n",
    "\n",
    "for k in range(num_Tx_unknown):\n",
    "    for j in range(num_Rx_per_Tx_unknown):\n",
    "        x = x_Tx_unknown[k]\n",
    "        y = y_Tx_unknown[k]\n",
    "        u = x_Rx_unknown_list[k][j]\n",
    "        v = y_Rx_unknown_list[k][j]\n",
    "        ax.quiver(\n",
    "            x, y, u-x, v-y, \n",
    "            scale_units='xy', \n",
    "            angles='xy',\n",
    "            scale=1, \n",
    "            width=0.005,\n",
    "            headlength=5, \n",
    "            headwidth=5,\n",
    "            color='grey', alpha=0.7);\n",
    "\n",
    "# ax.axis('off');\n",
    "ax.set_xticks([]);\n",
    "ax.set_yticks([]);\n"
   ]
  },
  {
   "cell_type": "code",
   "execution_count": 128,
   "metadata": {},
   "outputs": [
    {
     "data": {
      "text/plain": [
       "array([-29.76913432, -29.55565324, -17.76268507,  -3.82608601,\n",
       "        10.2305919 ,   0.98059292])"
      ]
     },
     "execution_count": 128,
     "metadata": {},
     "output_type": "execute_result"
    }
   ],
   "source": []
  },
  {
   "cell_type": "code",
   "execution_count": 127,
   "metadata": {},
   "outputs": [
    {
     "data": {
      "text/plain": [
       "array([ 0.21348108, 11.79296817, 13.93659906, 14.0566779 , -9.24999898])"
      ]
     },
     "execution_count": 127,
     "metadata": {},
     "output_type": "execute_result"
    }
   ],
   "source": [
    "np.diff(x_Rx_unknown)"
   ]
  },
  {
   "cell_type": "code",
   "execution_count": null,
   "metadata": {},
   "outputs": [],
   "source": []
  }
 ],
 "metadata": {
  "kernelspec": {
   "display_name": "Python 3.9.7",
   "language": "python",
   "name": "python3"
  },
  "language_info": {
   "codemirror_mode": {
    "name": "ipython",
    "version": 3
   },
   "file_extension": ".py",
   "mimetype": "text/x-python",
   "name": "python",
   "nbconvert_exporter": "python",
   "pygments_lexer": "ipython3",
   "version": "3.9.7"
  },
  "orig_nbformat": 4,
  "vscode": {
   "interpreter": {
    "hash": "92c6059857cd90f886057b6540f3fbd9cbe057fa31156affeeed8e9dc40e6663"
   }
  }
 },
 "nbformat": 4,
 "nbformat_minor": 2
}
