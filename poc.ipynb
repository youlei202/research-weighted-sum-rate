{
 "cells": [
  {
   "cell_type": "code",
   "execution_count": 5,
   "metadata": {},
   "outputs": [],
   "source": [
    "import numpy as np\n",
    "import pandas as pd\n",
    "import math\n",
    "import seaborn as sns\n",
    "import matplotlib.pyplot as plt\n",
    "\n",
    "import warnings\n",
    "warnings.filterwarnings(\"ignore\")\n",
    "\n",
    "\n",
    "from src.path_loss import PathLossInHIndoorOffice, PathLossInHShoppingMalls\n",
    "from src.network_sim import NetworkSimulator\n",
    "from src.algorithm import wmmse, stochastic_wmmse\n",
    "from src.sc import SyntheticControl\n",
    "from src.experiment import ExperimentInterferenceModelComparison\n",
    "\n",
    "%reload_ext autoreload\n",
    "%autoreload 2\n",
    "%aimport src"
   ]
  },
  {
   "cell_type": "code",
   "execution_count": 6,
   "metadata": {},
   "outputs": [
    {
     "data": {
      "text/html": [
       "<div>\n",
       "<style scoped>\n",
       "    .dataframe tbody tr th:only-of-type {\n",
       "        vertical-align: middle;\n",
       "    }\n",
       "\n",
       "    .dataframe tbody tr th {\n",
       "        vertical-align: top;\n",
       "    }\n",
       "\n",
       "    .dataframe thead th {\n",
       "        text-align: right;\n",
       "    }\n",
       "</style>\n",
       "<table border=\"1\" class=\"dataframe\">\n",
       "  <thead>\n",
       "    <tr style=\"text-align: right;\">\n",
       "      <th></th>\n",
       "      <th>PathLossInHIndoorOffice</th>\n",
       "      <th>PathLossInHShoppingMalls</th>\n",
       "    </tr>\n",
       "  </thead>\n",
       "  <tbody>\n",
       "    <tr>\n",
       "      <th>0</th>\n",
       "      <td>-129.505012</td>\n",
       "      <td>-95.751670</td>\n",
       "    </tr>\n",
       "    <tr>\n",
       "      <th>1</th>\n",
       "      <td>-126.436490</td>\n",
       "      <td>-115.687022</td>\n",
       "    </tr>\n",
       "    <tr>\n",
       "      <th>2</th>\n",
       "      <td>-118.405128</td>\n",
       "      <td>-110.969616</td>\n",
       "    </tr>\n",
       "    <tr>\n",
       "      <th>3</th>\n",
       "      <td>-141.272044</td>\n",
       "      <td>-105.483450</td>\n",
       "    </tr>\n",
       "    <tr>\n",
       "      <th>4</th>\n",
       "      <td>-123.194534</td>\n",
       "      <td>-99.768342</td>\n",
       "    </tr>\n",
       "    <tr>\n",
       "      <th>5</th>\n",
       "      <td>-134.460758</td>\n",
       "      <td>-102.692877</td>\n",
       "    </tr>\n",
       "    <tr>\n",
       "      <th>6</th>\n",
       "      <td>-110.767055</td>\n",
       "      <td>-110.417991</td>\n",
       "    </tr>\n",
       "    <tr>\n",
       "      <th>7</th>\n",
       "      <td>-122.893603</td>\n",
       "      <td>-105.317230</td>\n",
       "    </tr>\n",
       "    <tr>\n",
       "      <th>8</th>\n",
       "      <td>-93.952894</td>\n",
       "      <td>-104.113682</td>\n",
       "    </tr>\n",
       "    <tr>\n",
       "      <th>9</th>\n",
       "      <td>-132.696377</td>\n",
       "      <td>-111.156893</td>\n",
       "    </tr>\n",
       "  </tbody>\n",
       "</table>\n",
       "</div>"
      ],
      "text/plain": [
       "   PathLossInHIndoorOffice  PathLossInHShoppingMalls\n",
       "0              -129.505012                -95.751670\n",
       "1              -126.436490               -115.687022\n",
       "2              -118.405128               -110.969616\n",
       "3              -141.272044               -105.483450\n",
       "4              -123.194534                -99.768342\n",
       "5              -134.460758               -102.692877\n",
       "6              -110.767055               -110.417991\n",
       "7              -122.893603               -105.317230\n",
       "8               -93.952894               -104.113682\n",
       "9              -132.696377               -111.156893"
      ]
     },
     "execution_count": 6,
     "metadata": {},
     "output_type": "execute_result"
    }
   ],
   "source": [
    "pd.DataFrame({\n",
    "    'PathLossInHIndoorOffice':[PathLossInHIndoorOffice().in_dBm(frequency_Hz=frequency_Hz, distance_m=distance_m) for i in range(sample_size)],\n",
    "    'PathLossInHShoppingMalls': [PathLossInHShoppingMalls().in_dBm(frequency_Hz=frequency_Hz, distance_m=distance_m) for i in range(sample_size)],\n",
    "})"
   ]
  },
  {
   "cell_type": "code",
   "execution_count": 7,
   "metadata": {},
   "outputs": [],
   "source": [
    "simulator = NetworkSimulator(Tx_radius=200, Rx_radius=50, num_Tx_netA=5, num_Rx_per_Tx_netA=5, num_Tx_netB=3, num_Rx_per_Tx_netB=2)"
   ]
  },
  {
   "cell_type": "code",
   "execution_count": 8,
   "metadata": {},
   "outputs": [
    {
     "data": {
      "image/png": "[encoded data removed]",
      "text/plain": [
       "<Figure size 504x504 with 1 Axes>"
      ]
     },
     "metadata": {},
     "output_type": "display_data"
    }
   ],
   "source": [
    "simulator.plot_network()"
   ]
  },
  {
   "cell_type": "code",
   "execution_count": 9,
   "metadata": {},
   "outputs": [
    {
     "data": {
      "text/html": [
       "<div>\n",
       "<style scoped>\n",
       "    .dataframe tbody tr th:only-of-type {\n",
       "        vertical-align: middle;\n",
       "    }\n",
       "\n",
       "    .dataframe tbody tr th {\n",
       "        vertical-align: top;\n",
       "    }\n",
       "\n",
       "    .dataframe thead th {\n",
       "        text-align: right;\n",
       "    }\n",
       "</style>\n",
       "<table border=\"1\" class=\"dataframe\">\n",
       "  <thead>\n",
       "    <tr style=\"text-align: right;\">\n",
       "      <th></th>\n",
       "      <th>0</th>\n",
       "      <th>1</th>\n",
       "      <th>2</th>\n",
       "      <th>3</th>\n",
       "      <th>4</th>\n",
       "      <th>5</th>\n",
       "      <th>6</th>\n",
       "      <th>7</th>\n",
       "      <th>8</th>\n",
       "      <th>9</th>\n",
       "      <th>...</th>\n",
       "      <th>21</th>\n",
       "      <th>22</th>\n",
       "      <th>23</th>\n",
       "      <th>24</th>\n",
       "      <th>25</th>\n",
       "      <th>26</th>\n",
       "      <th>27</th>\n",
       "      <th>28</th>\n",
       "      <th>29</th>\n",
       "      <th>30</th>\n",
       "    </tr>\n",
       "  </thead>\n",
       "  <tbody>\n",
       "    <tr>\n",
       "      <th>0</th>\n",
       "      <td>-104.452760</td>\n",
       "      <td>-103.938238</td>\n",
       "      <td>-104.226921</td>\n",
       "      <td>-95.611187</td>\n",
       "      <td>-110.601739</td>\n",
       "      <td>-151.766374</td>\n",
       "      <td>-162.794327</td>\n",
       "      <td>-163.153332</td>\n",
       "      <td>-156.072203</td>\n",
       "      <td>-161.418354</td>\n",
       "      <td>...</td>\n",
       "      <td>-124.131089</td>\n",
       "      <td>-136.902875</td>\n",
       "      <td>-145.092783</td>\n",
       "      <td>-140.352158</td>\n",
       "      <td>-115.474339</td>\n",
       "      <td>-115.796677</td>\n",
       "      <td>-143.621858</td>\n",
       "      <td>-153.738040</td>\n",
       "      <td>-151.893525</td>\n",
       "      <td>-159.466282</td>\n",
       "    </tr>\n",
       "    <tr>\n",
       "      <th>1</th>\n",
       "      <td>-156.144635</td>\n",
       "      <td>-149.771789</td>\n",
       "      <td>-155.001155</td>\n",
       "      <td>-162.708270</td>\n",
       "      <td>-156.217806</td>\n",
       "      <td>-101.146922</td>\n",
       "      <td>-109.901521</td>\n",
       "      <td>-100.234289</td>\n",
       "      <td>-93.112306</td>\n",
       "      <td>-107.003827</td>\n",
       "      <td>...</td>\n",
       "      <td>-119.178392</td>\n",
       "      <td>-113.643258</td>\n",
       "      <td>-118.634031</td>\n",
       "      <td>-116.554542</td>\n",
       "      <td>-125.497720</td>\n",
       "      <td>-129.255355</td>\n",
       "      <td>-113.424757</td>\n",
       "      <td>-120.223714</td>\n",
       "      <td>-136.242711</td>\n",
       "      <td>-121.119590</td>\n",
       "    </tr>\n",
       "    <tr>\n",
       "      <th>2</th>\n",
       "      <td>-160.731514</td>\n",
       "      <td>-138.424132</td>\n",
       "      <td>-141.948185</td>\n",
       "      <td>-157.551535</td>\n",
       "      <td>-146.930540</td>\n",
       "      <td>-154.165781</td>\n",
       "      <td>-157.089585</td>\n",
       "      <td>-152.223140</td>\n",
       "      <td>-157.226224</td>\n",
       "      <td>-161.264327</td>\n",
       "      <td>...</td>\n",
       "      <td>-148.417189</td>\n",
       "      <td>-123.511098</td>\n",
       "      <td>-117.030115</td>\n",
       "      <td>-136.683632</td>\n",
       "      <td>-129.149406</td>\n",
       "      <td>-142.900719</td>\n",
       "      <td>-143.366976</td>\n",
       "      <td>-149.213633</td>\n",
       "      <td>-117.684711</td>\n",
       "      <td>-114.369838</td>\n",
       "    </tr>\n",
       "    <tr>\n",
       "      <th>3</th>\n",
       "      <td>-158.414712</td>\n",
       "      <td>-162.611744</td>\n",
       "      <td>-135.552273</td>\n",
       "      <td>-154.493642</td>\n",
       "      <td>-160.377589</td>\n",
       "      <td>-149.004154</td>\n",
       "      <td>-143.516191</td>\n",
       "      <td>-142.283266</td>\n",
       "      <td>-159.058390</td>\n",
       "      <td>-148.358412</td>\n",
       "      <td>...</td>\n",
       "      <td>-128.779071</td>\n",
       "      <td>-102.691592</td>\n",
       "      <td>-120.343458</td>\n",
       "      <td>-125.603483</td>\n",
       "      <td>-137.379721</td>\n",
       "      <td>-146.644029</td>\n",
       "      <td>-147.358922</td>\n",
       "      <td>-150.901397</td>\n",
       "      <td>-107.211377</td>\n",
       "      <td>-123.155827</td>\n",
       "    </tr>\n",
       "    <tr>\n",
       "      <th>4</th>\n",
       "      <td>-149.199269</td>\n",
       "      <td>-131.397661</td>\n",
       "      <td>-127.655890</td>\n",
       "      <td>-147.447415</td>\n",
       "      <td>-140.795749</td>\n",
       "      <td>-112.631477</td>\n",
       "      <td>-117.112664</td>\n",
       "      <td>-130.885040</td>\n",
       "      <td>-121.367456</td>\n",
       "      <td>-127.434847</td>\n",
       "      <td>...</td>\n",
       "      <td>-104.378021</td>\n",
       "      <td>-92.663533</td>\n",
       "      <td>-108.320327</td>\n",
       "      <td>-87.075965</td>\n",
       "      <td>-121.254174</td>\n",
       "      <td>-123.299001</td>\n",
       "      <td>-115.344192</td>\n",
       "      <td>-120.163587</td>\n",
       "      <td>-121.319136</td>\n",
       "      <td>-119.972495</td>\n",
       "    </tr>\n",
       "    <tr>\n",
       "      <th>5</th>\n",
       "      <td>-129.079639</td>\n",
       "      <td>-132.457039</td>\n",
       "      <td>-131.309579</td>\n",
       "      <td>-134.410018</td>\n",
       "      <td>-137.418099</td>\n",
       "      <td>-136.854673</td>\n",
       "      <td>-121.100019</td>\n",
       "      <td>-118.230606</td>\n",
       "      <td>-127.093510</td>\n",
       "      <td>-132.090968</td>\n",
       "      <td>...</td>\n",
       "      <td>-119.636036</td>\n",
       "      <td>-110.552760</td>\n",
       "      <td>-108.822618</td>\n",
       "      <td>-101.674606</td>\n",
       "      <td>-104.274992</td>\n",
       "      <td>-107.738186</td>\n",
       "      <td>-111.146415</td>\n",
       "      <td>-113.959273</td>\n",
       "      <td>-141.333665</td>\n",
       "      <td>-122.492506</td>\n",
       "    </tr>\n",
       "    <tr>\n",
       "      <th>6</th>\n",
       "      <td>-131.569491</td>\n",
       "      <td>-151.341864</td>\n",
       "      <td>-134.782891</td>\n",
       "      <td>-150.195116</td>\n",
       "      <td>-138.857241</td>\n",
       "      <td>-115.688486</td>\n",
       "      <td>-122.510593</td>\n",
       "      <td>-129.900019</td>\n",
       "      <td>-128.358990</td>\n",
       "      <td>-126.427953</td>\n",
       "      <td>...</td>\n",
       "      <td>-112.994451</td>\n",
       "      <td>-116.383998</td>\n",
       "      <td>-111.826425</td>\n",
       "      <td>-121.469425</td>\n",
       "      <td>-104.284460</td>\n",
       "      <td>-126.261606</td>\n",
       "      <td>-97.865934</td>\n",
       "      <td>-104.480288</td>\n",
       "      <td>-146.209053</td>\n",
       "      <td>-143.608603</td>\n",
       "    </tr>\n",
       "    <tr>\n",
       "      <th>7</th>\n",
       "      <td>-160.252497</td>\n",
       "      <td>-144.587727</td>\n",
       "      <td>-156.386483</td>\n",
       "      <td>-154.584450</td>\n",
       "      <td>-152.025893</td>\n",
       "      <td>-128.732493</td>\n",
       "      <td>-135.012572</td>\n",
       "      <td>-136.882536</td>\n",
       "      <td>-126.573922</td>\n",
       "      <td>-137.411621</td>\n",
       "      <td>...</td>\n",
       "      <td>-119.255007</td>\n",
       "      <td>-108.498930</td>\n",
       "      <td>-110.448308</td>\n",
       "      <td>-119.632195</td>\n",
       "      <td>-125.945611</td>\n",
       "      <td>-123.803073</td>\n",
       "      <td>-139.769506</td>\n",
       "      <td>-144.349234</td>\n",
       "      <td>-96.061431</td>\n",
       "      <td>-102.011451</td>\n",
       "    </tr>\n",
       "  </tbody>\n",
       "</table>\n",
       "<p>8 rows × 31 columns</p>\n",
       "</div>"
      ],
      "text/plain": [
       "           0           1           2           3           4           5   \\\n",
       "0 -104.452760 -103.938238 -104.226921  -95.611187 -110.601739 -151.766374   \n",
       "1 -156.144635 -149.771789 -155.001155 -162.708270 -156.217806 -101.146922   \n",
       "2 -160.731514 -138.424132 -141.948185 -157.551535 -146.930540 -154.165781   \n",
       "3 -158.414712 -162.611744 -135.552273 -154.493642 -160.377589 -149.004154   \n",
       "4 -149.199269 -131.397661 -127.655890 -147.447415 -140.795749 -112.631477   \n",
       "5 -129.079639 -132.457039 -131.309579 -134.410018 -137.418099 -136.854673   \n",
       "6 -131.569491 -151.341864 -134.782891 -150.195116 -138.857241 -115.688486   \n",
       "7 -160.252497 -144.587727 -156.386483 -154.584450 -152.025893 -128.732493   \n",
       "\n",
       "           6           7           8           9   ...          21  \\\n",
       "0 -162.794327 -163.153332 -156.072203 -161.418354  ... -124.131089   \n",
       "1 -109.901521 -100.234289  -93.112306 -107.003827  ... -119.178392   \n",
       "2 -157.089585 -152.223140 -157.226224 -161.264327  ... -148.417189   \n",
       "3 -143.516191 -142.283266 -159.058390 -148.358412  ... -128.779071   \n",
       "4 -117.112664 -130.885040 -121.367456 -127.434847  ... -104.378021   \n",
       "5 -121.100019 -118.230606 -127.093510 -132.090968  ... -119.636036   \n",
       "6 -122.510593 -129.900019 -128.358990 -126.427953  ... -112.994451   \n",
       "7 -135.012572 -136.882536 -126.573922 -137.411621  ... -119.255007   \n",
       "\n",
       "           22          23          24          25          26          27  \\\n",
       "0 -136.902875 -145.092783 -140.352158 -115.474339 -115.796677 -143.621858   \n",
       "1 -113.643258 -118.634031 -116.554542 -125.497720 -129.255355 -113.424757   \n",
       "2 -123.511098 -117.030115 -136.683632 -129.149406 -142.900719 -143.366976   \n",
       "3 -102.691592 -120.343458 -125.603483 -137.379721 -146.644029 -147.358922   \n",
       "4  -92.663533 -108.320327  -87.075965 -121.254174 -123.299001 -115.344192   \n",
       "5 -110.552760 -108.822618 -101.674606 -104.274992 -107.738186 -111.146415   \n",
       "6 -116.383998 -111.826425 -121.469425 -104.284460 -126.261606  -97.865934   \n",
       "7 -108.498930 -110.448308 -119.632195 -125.945611 -123.803073 -139.769506   \n",
       "\n",
       "           28          29          30  \n",
       "0 -153.738040 -151.893525 -159.466282  \n",
       "1 -120.223714 -136.242711 -121.119590  \n",
       "2 -149.213633 -117.684711 -114.369838  \n",
       "3 -150.901397 -107.211377 -123.155827  \n",
       "4 -120.163587 -121.319136 -119.972495  \n",
       "5 -113.959273 -141.333665 -122.492506  \n",
       "6 -104.480288 -146.209053 -143.608603  \n",
       "7 -144.349234  -96.061431 -102.011451  \n",
       "\n",
       "[8 rows x 31 columns]"
      ]
     },
     "execution_count": 9,
     "metadata": {},
     "output_type": "execute_result"
    }
   ],
   "source": [
    "pd.DataFrame(simulator.gain_mat_dBm)"
   ]
  },
  {
   "cell_type": "code",
   "execution_count": 10,
   "metadata": {},
   "outputs": [
    {
     "data": {
      "image/png": "[encoded data removed]",
      "text/plain": [
       "<Figure size 1116x288 with 2 Axes>"
      ]
     },
     "metadata": {
      "needs_background": "light"
     },
     "output_type": "display_data"
    }
   ],
   "source": [
    "simulator.plot_gain_mat()"
   ]
  },
  {
   "cell_type": "markdown",
   "metadata": {},
   "source": [
    "## Model Comparisons"
   ]
  },
  {
   "cell_type": "code",
   "execution_count": 11,
   "metadata": {},
   "outputs": [
    {
     "data": {
      "text/plain": [
       "224.57478101116453"
      ]
     },
     "execution_count": 11,
     "metadata": {},
     "output_type": "execute_result"
    }
   ],
   "source": [
    "simulator.weighted_sum_rate_Gnats([200 for i in range(simulator.num_Rx)], Rx_weights=np.ones(simulator.num_Rx), part='A')"
   ]
  },
  {
   "cell_type": "code",
   "execution_count": 12,
   "metadata": {},
   "outputs": [],
   "source": [
    "model_comparison = ExperimentInterferenceModelComparison(simulator=simulator)\n",
    "model_comparison.data_generation(num_samples=1, max_power=200, netB_power_mode='dependent')\n",
    "model_comparison.modeling()"
   ]
  },
  {
   "cell_type": "code",
   "execution_count": 17,
   "metadata": {},
   "outputs": [
    {
     "data": {
      "text/html": [
       "<div>\n",
       "<style scoped>\n",
       "    .dataframe tbody tr th:only-of-type {\n",
       "        vertical-align: middle;\n",
       "    }\n",
       "\n",
       "    .dataframe tbody tr th {\n",
       "        vertical-align: top;\n",
       "    }\n",
       "\n",
       "    .dataframe thead th {\n",
       "        text-align: right;\n",
       "    }\n",
       "</style>\n",
       "<table border=\"1\" class=\"dataframe\">\n",
       "  <thead>\n",
       "    <tr style=\"text-align: right;\">\n",
       "      <th></th>\n",
       "      <th>interference</th>\n",
       "      <th>sc_bias</th>\n",
       "      <th>lr_bias</th>\n",
       "    </tr>\n",
       "  </thead>\n",
       "  <tbody>\n",
       "    <tr>\n",
       "      <th>0</th>\n",
       "      <td>1.392777e-07</td>\n",
       "      <td>-0.105868</td>\n",
       "      <td>0.143326</td>\n",
       "    </tr>\n",
       "  </tbody>\n",
       "</table>\n",
       "</div>"
      ],
      "text/plain": [
       "   interference   sc_bias   lr_bias\n",
       "0  1.392777e-07 -0.105868  0.143326"
      ]
     },
     "execution_count": 17,
     "metadata": {},
     "output_type": "execute_result"
    }
   ],
   "source": [
    "model_comparison.run(num_rounds=100, netA_power_mode='random', netB_power_mode='zero')"
   ]
  },
  {
   "cell_type": "code",
   "execution_count": 18,
   "metadata": {},
   "outputs": [
    {
     "data": {
      "text/html": [
       "<div>\n",
       "<style scoped>\n",
       "    .dataframe tbody tr th:only-of-type {\n",
       "        vertical-align: middle;\n",
       "    }\n",
       "\n",
       "    .dataframe tbody tr th {\n",
       "        vertical-align: top;\n",
       "    }\n",
       "\n",
       "    .dataframe thead th {\n",
       "        text-align: right;\n",
       "    }\n",
       "</style>\n",
       "<table border=\"1\" class=\"dataframe\">\n",
       "  <thead>\n",
       "    <tr style=\"text-align: right;\">\n",
       "      <th></th>\n",
       "      <th>interference</th>\n",
       "      <th>sc_bias</th>\n",
       "      <th>lr_bias</th>\n",
       "    </tr>\n",
       "  </thead>\n",
       "  <tbody>\n",
       "    <tr>\n",
       "      <th>0</th>\n",
       "      <td>1.363132e-07</td>\n",
       "      <td>-0.116172</td>\n",
       "      <td>0.16819</td>\n",
       "    </tr>\n",
       "  </tbody>\n",
       "</table>\n",
       "</div>"
      ],
      "text/plain": [
       "   interference   sc_bias  lr_bias\n",
       "0  1.363132e-07 -0.116172  0.16819"
      ]
     },
     "execution_count": 18,
     "metadata": {},
     "output_type": "execute_result"
    }
   ],
   "source": [
    "model_comparison.run(num_rounds=100, netA_power_mode='random', netB_power_mode='dependent')"
   ]
  },
  {
   "cell_type": "code",
   "execution_count": 19,
   "metadata": {},
   "outputs": [
    {
     "data": {
      "text/html": [
       "<div>\n",
       "<style scoped>\n",
       "    .dataframe tbody tr th:only-of-type {\n",
       "        vertical-align: middle;\n",
       "    }\n",
       "\n",
       "    .dataframe tbody tr th {\n",
       "        vertical-align: top;\n",
       "    }\n",
       "\n",
       "    .dataframe thead th {\n",
       "        text-align: right;\n",
       "    }\n",
       "</style>\n",
       "<table border=\"1\" class=\"dataframe\">\n",
       "  <thead>\n",
       "    <tr style=\"text-align: right;\">\n",
       "      <th></th>\n",
       "      <th>interference</th>\n",
       "      <th>sc_bias</th>\n",
       "      <th>lr_bias</th>\n",
       "    </tr>\n",
       "  </thead>\n",
       "  <tbody>\n",
       "    <tr>\n",
       "      <th>0</th>\n",
       "      <td>1.375620e-07</td>\n",
       "      <td>-0.104908</td>\n",
       "      <td>0.157585</td>\n",
       "    </tr>\n",
       "  </tbody>\n",
       "</table>\n",
       "</div>"
      ],
      "text/plain": [
       "   interference   sc_bias   lr_bias\n",
       "0  1.375620e-07 -0.104908  0.157585"
      ]
     },
     "execution_count": 19,
     "metadata": {},
     "output_type": "execute_result"
    }
   ],
   "source": [
    "model_comparison.run(num_rounds=100, netA_power_mode='random', netB_power_mode='dependent')"
   ]
  },
  {
   "cell_type": "code",
   "execution_count": 20,
   "metadata": {},
   "outputs": [
    {
     "data": {
      "text/html": [
       "<div>\n",
       "<style scoped>\n",
       "    .dataframe tbody tr th:only-of-type {\n",
       "        vertical-align: middle;\n",
       "    }\n",
       "\n",
       "    .dataframe tbody tr th {\n",
       "        vertical-align: top;\n",
       "    }\n",
       "\n",
       "    .dataframe thead th {\n",
       "        text-align: right;\n",
       "    }\n",
       "</style>\n",
       "<table border=\"1\" class=\"dataframe\">\n",
       "  <thead>\n",
       "    <tr style=\"text-align: right;\">\n",
       "      <th></th>\n",
       "      <th>interference</th>\n",
       "      <th>sc_bias</th>\n",
       "      <th>lr_bias</th>\n",
       "    </tr>\n",
       "  </thead>\n",
       "  <tbody>\n",
       "    <tr>\n",
       "      <th>0</th>\n",
       "      <td>1.438379e-07</td>\n",
       "      <td>-0.125497</td>\n",
       "      <td>0.107078</td>\n",
       "    </tr>\n",
       "  </tbody>\n",
       "</table>\n",
       "</div>"
      ],
      "text/plain": [
       "   interference   sc_bias   lr_bias\n",
       "0  1.438379e-07 -0.125497  0.107078"
      ]
     },
     "execution_count": 20,
     "metadata": {},
     "output_type": "execute_result"
    }
   ],
   "source": [
    "model_comparison.run(num_rounds=100, netA_power_mode='random', netB_power_mode='uniform')"
   ]
  },
  {
   "cell_type": "code",
   "execution_count": 42,
   "metadata": {},
   "outputs": [
    {
     "data": {
      "text/html": [
       "<div>\n",
       "<style scoped>\n",
       "    .dataframe tbody tr th:only-of-type {\n",
       "        vertical-align: middle;\n",
       "    }\n",
       "\n",
       "    .dataframe tbody tr th {\n",
       "        vertical-align: top;\n",
       "    }\n",
       "\n",
       "    .dataframe thead th {\n",
       "        text-align: right;\n",
       "    }\n",
       "</style>\n",
       "<table border=\"1\" class=\"dataframe\">\n",
       "  <thead>\n",
       "    <tr style=\"text-align: right;\">\n",
       "      <th></th>\n",
       "      <th>0</th>\n",
       "      <th>1</th>\n",
       "      <th>2</th>\n",
       "      <th>3</th>\n",
       "      <th>4</th>\n",
       "      <th>5</th>\n",
       "      <th>6</th>\n",
       "      <th>7</th>\n",
       "      <th>8</th>\n",
       "      <th>9</th>\n",
       "      <th>...</th>\n",
       "      <th>15</th>\n",
       "      <th>16</th>\n",
       "      <th>17</th>\n",
       "      <th>18</th>\n",
       "      <th>19</th>\n",
       "      <th>20</th>\n",
       "      <th>21</th>\n",
       "      <th>22</th>\n",
       "      <th>23</th>\n",
       "      <th>24</th>\n",
       "    </tr>\n",
       "  </thead>\n",
       "  <tbody>\n",
       "    <tr>\n",
       "      <th>0</th>\n",
       "      <td>24.654295</td>\n",
       "      <td>104.102444</td>\n",
       "      <td>1185.236871</td>\n",
       "      <td>2299.210867</td>\n",
       "      <td>13.327549</td>\n",
       "      <td>433.592037</td>\n",
       "      <td>11.648744</td>\n",
       "      <td>16.131218</td>\n",
       "      <td>45.340956</td>\n",
       "      <td>19.50136</td>\n",
       "      <td>...</td>\n",
       "      <td>1220.661872</td>\n",
       "      <td>59.830708</td>\n",
       "      <td>297.358853</td>\n",
       "      <td>156.383608</td>\n",
       "      <td>8.566123</td>\n",
       "      <td>4.740121</td>\n",
       "      <td>6739.912903</td>\n",
       "      <td>28.78811</td>\n",
       "      <td>4.26418</td>\n",
       "      <td>12.766435</td>\n",
       "    </tr>\n",
       "  </tbody>\n",
       "</table>\n",
       "<p>1 rows × 25 columns</p>\n",
       "</div>"
      ],
      "text/plain": [
       "          0           1            2            3          4           5   \\\n",
       "0  24.654295  104.102444  1185.236871  2299.210867  13.327549  433.592037   \n",
       "\n",
       "          6          7          8         9   ...           15         16  \\\n",
       "0  11.648744  16.131218  45.340956  19.50136  ...  1220.661872  59.830708   \n",
       "\n",
       "           17          18        19        20           21        22       23  \\\n",
       "0  297.358853  156.383608  8.566123  4.740121  6739.912903  28.78811  4.26418   \n",
       "\n",
       "          24  \n",
       "0  12.766435  \n",
       "\n",
       "[1 rows x 25 columns]"
      ]
     },
     "execution_count": 42,
     "metadata": {},
     "output_type": "execute_result"
    }
   ],
   "source": [
    "pd.DataFrame(model_comparison.observed_signal_and_interferences_list) * 1e9"
   ]
  },
  {
   "cell_type": "code",
   "execution_count": null,
   "metadata": {},
   "outputs": [],
   "source": []
  },
  {
   "cell_type": "code",
   "execution_count": null,
   "metadata": {},
   "outputs": [],
   "source": [
    "num_Rx_netA = len(observed_signal_and_interferences_list[0])\n",
    "lr_train_X = pd.DataFrame(np.array(powers_list)[:, :num_Rx_netA])\n",
    "observed_signal_and_interference_data = pd.DataFrame(\n",
    "    observed_signal_and_interferences_list\n",
    ")\n",
    "\n",
    "lr_models = []\n",
    "for i in range(num_Rx_netA):\n",
    "    lr_train_y = observed_signal_and_interference_data[i]\n",
    "    lr_i = LinearRegression().fit(lr_train_X, lr_train_y)\n",
    "    lr_models.append(lr_i)"
   ]
  },
  {
   "cell_type": "markdown",
   "metadata": {},
   "source": [
    "## Algorithm Comparisons"
   ]
  },
  {
   "cell_type": "code",
   "execution_count": 21,
   "metadata": {},
   "outputs": [],
   "source": [
    "max_power = 200\n",
    "netB_power_training_mode = 'dependent' # ['dependent', 'zero', 'random']\n",
    "netB_power_testing_mode = 'dependent' # ['dependent', 'zero', 'random', 'uniform']\n",
    "\n",
    "max_iterations = 500\n",
    "\n",
    "model_comparison = ExperimentInterferenceModelComparison(simulator=simulator)\n",
    "model_comparison.data_generation(num_samples=1000, max_power=max_power, netB_power_mode=netB_power_training_mode)\n",
    "model_comparison.modeling(synthetic_constrained=True)\n",
    "starting_powers_mW = [1e-5 for i in range(simulator.num_Rx)]\n",
    "# Rx_weights = np.random.uniform(0.1, 1, simulator.num_Rx)\n",
    "Rx_weights = np.ones(simulator.num_Rx)"
   ]
  },
  {
   "cell_type": "code",
   "execution_count": 27,
   "metadata": {},
   "outputs": [],
   "source": [
    "rates_original_method = stochastic_wmmse(\n",
    "    simulator=simulator,\n",
    "    Rx_powers_mW=starting_powers_mW,\n",
    "    Rx_max_powers_mW=max_power,\n",
    "    Rx_weights=Rx_weights,\n",
    "    interference_mode='original',\n",
    "    interference_models=[],\n",
    "    netB_power_mode = netB_power_testing_mode,\n",
    "    power_corr_mat=model_comparison.power_corr_mat,\n",
    "    max_iter=max_iterations,\n",
    ");"
   ]
  },
  {
   "cell_type": "code",
   "execution_count": 28,
   "metadata": {},
   "outputs": [],
   "source": [
    "rates_local_method = stochastic_wmmse(\n",
    "    simulator=simulator,\n",
    "    Rx_powers_mW=starting_powers_mW,\n",
    "    Rx_max_powers_mW=max_power,\n",
    "    Rx_weights=Rx_weights,\n",
    "    interference_mode='lr_estimate',\n",
    "    interference_models=model_comparison.lr_models,\n",
    "    netB_power_mode = netB_power_testing_mode,\n",
    "    power_corr_mat=model_comparison.power_corr_mat,\n",
    "    max_iter=max_iterations,\n",
    ");"
   ]
  },
  {
   "cell_type": "code",
   "execution_count": 29,
   "metadata": {},
   "outputs": [],
   "source": [
    "rates_sc_method = stochastic_wmmse(\n",
    "    simulator=simulator,\n",
    "    Rx_powers_mW=starting_powers_mW,\n",
    "    Rx_max_powers_mW=max_power,\n",
    "    Rx_weights=Rx_weights,\n",
    "    interference_mode='sc_estimate',\n",
    "    interference_models=model_comparison.sc_models,\n",
    "    netB_power_mode = netB_power_testing_mode,\n",
    "    power_corr_mat=model_comparison.power_corr_mat,\n",
    "    max_iter=max_iterations,\n",
    ");"
   ]
  },
  {
   "cell_type": "code",
   "execution_count": 30,
   "metadata": {},
   "outputs": [],
   "source": [
    "# rates_lr_method = stochastic_wmmse(\n",
    "#     simulator=simulator,\n",
    "#     Rx_powers_mW=starting_powers_mW,\n",
    "#     Rx_max_powers_mW=max_power,\n",
    "#     Rx_weights=Rx_weights,\n",
    "#     interference_mode='lr_estimate',\n",
    "#     interference_models=model_comparison.lr_models,\n",
    "#     netB_power_mode = netB_power_testing_mode,\n",
    "#     power_corr_mat=model_comparison.power_corr_mat,\n",
    "#     max_iter=max_iterations,\n",
    "# );"
   ]
  },
  {
   "cell_type": "code",
   "execution_count": 31,
   "metadata": {},
   "outputs": [
    {
     "data": {
      "image/png": "[encoded data removed]",
      "text/plain": [
       "<Figure size 432x288 with 1 Axes>"
      ]
     },
     "metadata": {
      "needs_background": "light"
     },
     "output_type": "display_data"
    }
   ],
   "source": [
    "data = pd.DataFrame({\n",
    "    'wmmse': rates_original_method,\n",
    "    'wmmse_local': rates_local_method,\n",
    "    'wmmse_sc': rates_sc_method,\n",
    "    # 'wmmse_lr': rates_lr_method,\n",
    "})\n",
    "data.plot();"
   ]
  },
  {
   "cell_type": "code",
   "execution_count": null,
   "metadata": {},
   "outputs": [],
   "source": [
    "from IPython.display import clear_output\n",
    "\n",
    "for i in range(10):\n",
    "    clear_output(wait=True)\n",
    "    print(\"Hello World!\")"
   ]
  },
  {
   "cell_type": "code",
   "execution_count": null,
   "metadata": {},
   "outputs": [],
   "source": []
  }
 ],
 "metadata": {
  "kernelspec": {
   "display_name": "Python 3.9.7",
   "language": "python",
   "name": "python3"
  },
  "language_info": {
   "codemirror_mode": {
    "name": "ipython",
    "version": 3
   },
   "file_extension": ".py",
   "mimetype": "text/x-python",
   "name": "python",
   "nbconvert_exporter": "python",
   "pygments_lexer": "ipython3",
   "version": "3.9.7"
  },
  "orig_nbformat": 4,
  "vscode": {
   "interpreter": {
    "hash": "92c6059857cd90f886057b6540f3fbd9cbe057fa31156affeeed8e9dc40e6663"
   }
  }
 },
 "nbformat": 4,
 "nbformat_minor": 2
}
