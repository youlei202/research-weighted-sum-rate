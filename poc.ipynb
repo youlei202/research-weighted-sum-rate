{
 "cells": [
  {
   "cell_type": "code",
   "execution_count": 118,
   "metadata": {},
   "outputs": [],
   "source": [
    "import numpy as np\n",
    "import pandas as pd\n",
    "import math\n",
    "import seaborn as sns\n",
    "import matplotlib.pyplot as plt\n",
    "\n",
    "import warnings\n",
    "warnings.filterwarnings(\"ignore\")\n",
    "\n",
    "\n",
    "from src.path_loss import PathLossInHIndoorOffice, PathLossInHShoppingMalls\n",
    "from src.network_sim import NetworkSimulator\n",
    "from src.algorithm import wmmse, stochastic_wmmse\n",
    "from src.sc import SyntheticControl\n",
    "from src.experiment import ExperimentInterferenceModelComparison\n",
    "\n",
    "%reload_ext autoreload\n",
    "%autoreload 2\n",
    "%aimport src"
   ]
  },
  {
   "cell_type": "code",
   "execution_count": 119,
   "metadata": {},
   "outputs": [],
   "source": [
    "frequency_Hz= 50 * 1e9 # Hz\n",
    "distance_m = 50\n",
    "sample_size = 10"
   ]
  },
  {
   "cell_type": "code",
   "execution_count": 120,
   "metadata": {},
   "outputs": [
    {
     "data": {
      "text/html": [
       "<div>\n",
       "<style scoped>\n",
       "    .dataframe tbody tr th:only-of-type {\n",
       "        vertical-align: middle;\n",
       "    }\n",
       "\n",
       "    .dataframe tbody tr th {\n",
       "        vertical-align: top;\n",
       "    }\n",
       "\n",
       "    .dataframe thead th {\n",
       "        text-align: right;\n",
       "    }\n",
       "</style>\n",
       "<table border=\"1\" class=\"dataframe\">\n",
       "  <thead>\n",
       "    <tr style=\"text-align: right;\">\n",
       "      <th></th>\n",
       "      <th>PathLossInHIndoorOffice</th>\n",
       "      <th>PathLossInHShoppingMalls</th>\n",
       "    </tr>\n",
       "  </thead>\n",
       "  <tbody>\n",
       "    <tr>\n",
       "      <th>0</th>\n",
       "      <td>-125.665161</td>\n",
       "      <td>-96.333636</td>\n",
       "    </tr>\n",
       "    <tr>\n",
       "      <th>1</th>\n",
       "      <td>-127.623068</td>\n",
       "      <td>-101.222933</td>\n",
       "    </tr>\n",
       "    <tr>\n",
       "      <th>2</th>\n",
       "      <td>-99.063139</td>\n",
       "      <td>-108.401613</td>\n",
       "    </tr>\n",
       "    <tr>\n",
       "      <th>3</th>\n",
       "      <td>-119.979011</td>\n",
       "      <td>-102.341951</td>\n",
       "    </tr>\n",
       "    <tr>\n",
       "      <th>4</th>\n",
       "      <td>-127.578268</td>\n",
       "      <td>-102.175361</td>\n",
       "    </tr>\n",
       "    <tr>\n",
       "      <th>5</th>\n",
       "      <td>-119.059405</td>\n",
       "      <td>-104.207288</td>\n",
       "    </tr>\n",
       "    <tr>\n",
       "      <th>6</th>\n",
       "      <td>-128.592762</td>\n",
       "      <td>-103.223127</td>\n",
       "    </tr>\n",
       "    <tr>\n",
       "      <th>7</th>\n",
       "      <td>-96.797388</td>\n",
       "      <td>-105.648790</td>\n",
       "    </tr>\n",
       "    <tr>\n",
       "      <th>8</th>\n",
       "      <td>-125.604653</td>\n",
       "      <td>-97.024281</td>\n",
       "    </tr>\n",
       "    <tr>\n",
       "      <th>9</th>\n",
       "      <td>-94.364176</td>\n",
       "      <td>-99.404113</td>\n",
       "    </tr>\n",
       "  </tbody>\n",
       "</table>\n",
       "</div>"
      ],
      "text/plain": [
       "   PathLossInHIndoorOffice  PathLossInHShoppingMalls\n",
       "0              -125.665161                -96.333636\n",
       "1              -127.623068               -101.222933\n",
       "2               -99.063139               -108.401613\n",
       "3              -119.979011               -102.341951\n",
       "4              -127.578268               -102.175361\n",
       "5              -119.059405               -104.207288\n",
       "6              -128.592762               -103.223127\n",
       "7               -96.797388               -105.648790\n",
       "8              -125.604653                -97.024281\n",
       "9               -94.364176                -99.404113"
      ]
     },
     "execution_count": 120,
     "metadata": {},
     "output_type": "execute_result"
    }
   ],
   "source": [
    "pd.DataFrame({\n",
    "    'PathLossInHIndoorOffice':[PathLossInHIndoorOffice().in_dBm(frequency_Hz=frequency_Hz, distance_m=distance_m) for i in range(sample_size)],\n",
    "    'PathLossInHShoppingMalls': [PathLossInHShoppingMalls().in_dBm(frequency_Hz=frequency_Hz, distance_m=distance_m) for i in range(sample_size)],\n",
    "})"
   ]
  },
  {
   "cell_type": "code",
   "execution_count": 121,
   "metadata": {},
   "outputs": [],
   "source": [
    "simulator = NetworkSimulator(Tx_radius=200, Rx_radius=100, num_Tx_netA=3, num_Rx_per_Tx_netA=5, num_Tx_netB=2, num_Rx_per_Tx_netB=5)"
   ]
  },
  {
   "cell_type": "code",
   "execution_count": 122,
   "metadata": {},
   "outputs": [
    {
     "data": {
      "image/png": "[encoded data removed]",
      "text/plain": [
       "<Figure size 504x504 with 1 Axes>"
      ]
     },
     "metadata": {},
     "output_type": "display_data"
    }
   ],
   "source": [
    "simulator.plot_network()"
   ]
  },
  {
   "cell_type": "code",
   "execution_count": 123,
   "metadata": {},
   "outputs": [
    {
     "data": {
      "text/html": [
       "<div>\n",
       "<style scoped>\n",
       "    .dataframe tbody tr th:only-of-type {\n",
       "        vertical-align: middle;\n",
       "    }\n",
       "\n",
       "    .dataframe tbody tr th {\n",
       "        vertical-align: top;\n",
       "    }\n",
       "\n",
       "    .dataframe thead th {\n",
       "        text-align: right;\n",
       "    }\n",
       "</style>\n",
       "<table border=\"1\" class=\"dataframe\">\n",
       "  <thead>\n",
       "    <tr style=\"text-align: right;\">\n",
       "      <th></th>\n",
       "      <th>0</th>\n",
       "      <th>1</th>\n",
       "      <th>2</th>\n",
       "      <th>3</th>\n",
       "      <th>4</th>\n",
       "      <th>5</th>\n",
       "      <th>6</th>\n",
       "      <th>7</th>\n",
       "      <th>8</th>\n",
       "      <th>9</th>\n",
       "      <th>...</th>\n",
       "      <th>15</th>\n",
       "      <th>16</th>\n",
       "      <th>17</th>\n",
       "      <th>18</th>\n",
       "      <th>19</th>\n",
       "      <th>20</th>\n",
       "      <th>21</th>\n",
       "      <th>22</th>\n",
       "      <th>23</th>\n",
       "      <th>24</th>\n",
       "    </tr>\n",
       "  </thead>\n",
       "  <tbody>\n",
       "    <tr>\n",
       "      <th>0</th>\n",
       "      <td>-117.408590</td>\n",
       "      <td>-105.715905</td>\n",
       "      <td>-105.700880</td>\n",
       "      <td>-110.595353</td>\n",
       "      <td>-109.151495</td>\n",
       "      <td>-129.944970</td>\n",
       "      <td>-148.632739</td>\n",
       "      <td>-140.782806</td>\n",
       "      <td>-149.636671</td>\n",
       "      <td>-148.392224</td>\n",
       "      <td>...</td>\n",
       "      <td>-142.893604</td>\n",
       "      <td>-155.703989</td>\n",
       "      <td>-143.263149</td>\n",
       "      <td>-149.498031</td>\n",
       "      <td>-124.587197</td>\n",
       "      <td>-127.439705</td>\n",
       "      <td>-150.417218</td>\n",
       "      <td>-103.908980</td>\n",
       "      <td>-133.273786</td>\n",
       "      <td>-137.430345</td>\n",
       "    </tr>\n",
       "    <tr>\n",
       "      <th>1</th>\n",
       "      <td>-157.925296</td>\n",
       "      <td>-132.124191</td>\n",
       "      <td>-151.484620</td>\n",
       "      <td>-138.633251</td>\n",
       "      <td>-143.213606</td>\n",
       "      <td>-118.661009</td>\n",
       "      <td>-100.234685</td>\n",
       "      <td>-91.005800</td>\n",
       "      <td>-119.088605</td>\n",
       "      <td>-114.899927</td>\n",
       "      <td>...</td>\n",
       "      <td>-93.825155</td>\n",
       "      <td>-132.657010</td>\n",
       "      <td>-129.216221</td>\n",
       "      <td>-129.876123</td>\n",
       "      <td>-124.399304</td>\n",
       "      <td>-163.330254</td>\n",
       "      <td>-153.225923</td>\n",
       "      <td>-132.885019</td>\n",
       "      <td>-145.560608</td>\n",
       "      <td>-154.886462</td>\n",
       "    </tr>\n",
       "    <tr>\n",
       "      <th>2</th>\n",
       "      <td>-165.072047</td>\n",
       "      <td>-167.295836</td>\n",
       "      <td>-160.358352</td>\n",
       "      <td>-163.704828</td>\n",
       "      <td>-171.762016</td>\n",
       "      <td>-133.407936</td>\n",
       "      <td>-145.490010</td>\n",
       "      <td>-108.475884</td>\n",
       "      <td>-115.250154</td>\n",
       "      <td>-155.277103</td>\n",
       "      <td>...</td>\n",
       "      <td>-121.772559</td>\n",
       "      <td>-117.926022</td>\n",
       "      <td>-119.741658</td>\n",
       "      <td>-113.528854</td>\n",
       "      <td>-125.435089</td>\n",
       "      <td>-160.638706</td>\n",
       "      <td>-136.789130</td>\n",
       "      <td>-151.380621</td>\n",
       "      <td>-144.431595</td>\n",
       "      <td>-152.481394</td>\n",
       "    </tr>\n",
       "    <tr>\n",
       "      <th>3</th>\n",
       "      <td>-153.959362</td>\n",
       "      <td>-140.782952</td>\n",
       "      <td>-151.742302</td>\n",
       "      <td>-143.811600</td>\n",
       "      <td>-151.183102</td>\n",
       "      <td>-119.938728</td>\n",
       "      <td>-148.257173</td>\n",
       "      <td>-121.239494</td>\n",
       "      <td>-107.716845</td>\n",
       "      <td>-132.451705</td>\n",
       "      <td>...</td>\n",
       "      <td>-117.541329</td>\n",
       "      <td>-110.013386</td>\n",
       "      <td>-111.189895</td>\n",
       "      <td>-106.987638</td>\n",
       "      <td>-109.432413</td>\n",
       "      <td>-153.287672</td>\n",
       "      <td>-138.043472</td>\n",
       "      <td>-126.587452</td>\n",
       "      <td>-145.167588</td>\n",
       "      <td>-146.099073</td>\n",
       "    </tr>\n",
       "    <tr>\n",
       "      <th>4</th>\n",
       "      <td>-113.968109</td>\n",
       "      <td>-132.894960</td>\n",
       "      <td>-130.123804</td>\n",
       "      <td>-139.094772</td>\n",
       "      <td>-150.847396</td>\n",
       "      <td>-131.377864</td>\n",
       "      <td>-160.244323</td>\n",
       "      <td>-144.467366</td>\n",
       "      <td>-138.568491</td>\n",
       "      <td>-152.314942</td>\n",
       "      <td>...</td>\n",
       "      <td>-134.706200</td>\n",
       "      <td>-141.230588</td>\n",
       "      <td>-110.141044</td>\n",
       "      <td>-111.708100</td>\n",
       "      <td>-111.925973</td>\n",
       "      <td>-118.472151</td>\n",
       "      <td>-120.994351</td>\n",
       "      <td>-118.626547</td>\n",
       "      <td>-111.524473</td>\n",
       "      <td>-116.073030</td>\n",
       "    </tr>\n",
       "  </tbody>\n",
       "</table>\n",
       "<p>5 rows × 25 columns</p>\n",
       "</div>"
      ],
      "text/plain": [
       "           0           1           2           3           4           5   \\\n",
       "0 -117.408590 -105.715905 -105.700880 -110.595353 -109.151495 -129.944970   \n",
       "1 -157.925296 -132.124191 -151.484620 -138.633251 -143.213606 -118.661009   \n",
       "2 -165.072047 -167.295836 -160.358352 -163.704828 -171.762016 -133.407936   \n",
       "3 -153.959362 -140.782952 -151.742302 -143.811600 -151.183102 -119.938728   \n",
       "4 -113.968109 -132.894960 -130.123804 -139.094772 -150.847396 -131.377864   \n",
       "\n",
       "           6           7           8           9   ...          15  \\\n",
       "0 -148.632739 -140.782806 -149.636671 -148.392224  ... -142.893604   \n",
       "1 -100.234685  -91.005800 -119.088605 -114.899927  ...  -93.825155   \n",
       "2 -145.490010 -108.475884 -115.250154 -155.277103  ... -121.772559   \n",
       "3 -148.257173 -121.239494 -107.716845 -132.451705  ... -117.541329   \n",
       "4 -160.244323 -144.467366 -138.568491 -152.314942  ... -134.706200   \n",
       "\n",
       "           16          17          18          19          20          21  \\\n",
       "0 -155.703989 -143.263149 -149.498031 -124.587197 -127.439705 -150.417218   \n",
       "1 -132.657010 -129.216221 -129.876123 -124.399304 -163.330254 -153.225923   \n",
       "2 -117.926022 -119.741658 -113.528854 -125.435089 -160.638706 -136.789130   \n",
       "3 -110.013386 -111.189895 -106.987638 -109.432413 -153.287672 -138.043472   \n",
       "4 -141.230588 -110.141044 -111.708100 -111.925973 -118.472151 -120.994351   \n",
       "\n",
       "           22          23          24  \n",
       "0 -103.908980 -133.273786 -137.430345  \n",
       "1 -132.885019 -145.560608 -154.886462  \n",
       "2 -151.380621 -144.431595 -152.481394  \n",
       "3 -126.587452 -145.167588 -146.099073  \n",
       "4 -118.626547 -111.524473 -116.073030  \n",
       "\n",
       "[5 rows x 25 columns]"
      ]
     },
     "execution_count": 123,
     "metadata": {},
     "output_type": "execute_result"
    }
   ],
   "source": [
    "pd.DataFrame(simulator.gain_mat_dBm)"
   ]
  },
  {
   "cell_type": "code",
   "execution_count": 124,
   "metadata": {},
   "outputs": [
    {
     "data": {
      "image/png": "[encoded data removed]",
      "text/plain": [
       "<Figure size 1152x230.4 with 2 Axes>"
      ]
     },
     "metadata": {
      "needs_background": "light"
     },
     "output_type": "display_data"
    }
   ],
   "source": [
    "simulator.plot_gain_mat()"
   ]
  },
  {
   "cell_type": "markdown",
   "metadata": {},
   "source": [
    "## Model Comparisons"
   ]
  },
  {
   "cell_type": "code",
   "execution_count": 125,
   "metadata": {},
   "outputs": [
    {
     "data": {
      "text/plain": [
       "159.9858637364371"
      ]
     },
     "execution_count": 125,
     "metadata": {},
     "output_type": "execute_result"
    }
   ],
   "source": [
    "simulator.weighted_sum_rate_Gnats([200 for i in range(simulator.num_Rx)], Rx_weights=np.ones(simulator.num_Rx))"
   ]
  },
  {
   "cell_type": "code",
   "execution_count": 126,
   "metadata": {},
   "outputs": [],
   "source": [
    "# model_comparison = ExperimentInterferenceModelComparison(simulator=simulator)\n",
    "# model_comparison.data_generation(num_samples=100, max_power=500, netB_power_mode='zero')\n",
    "# model_comparison.modeling()"
   ]
  },
  {
   "cell_type": "code",
   "execution_count": 127,
   "metadata": {},
   "outputs": [],
   "source": [
    "# model_comparison.run(num_rounds=100, netA_power_mode='wmmse', netB_power_mode='zero')"
   ]
  },
  {
   "cell_type": "code",
   "execution_count": 128,
   "metadata": {},
   "outputs": [],
   "source": [
    "# model_comparison.run(num_rounds=100, netA_power_mode='wmmse', netB_power_mode='dependent')"
   ]
  },
  {
   "cell_type": "code",
   "execution_count": 129,
   "metadata": {},
   "outputs": [],
   "source": [
    "# model_comparison.run(num_rounds=100, netA_power_mode='wmmse', netB_power_mode='uniform')"
   ]
  },
  {
   "cell_type": "markdown",
   "metadata": {},
   "source": [
    "## Algorithm Comparisons"
   ]
  },
  {
   "cell_type": "code",
   "execution_count": 130,
   "metadata": {},
   "outputs": [],
   "source": [
    "max_power = 200\n",
    "netB_power_training_mode = 'dependent' # ['dependent', 'zero', 'random']\n",
    "netB_power_testing_mode = 'zero' # ['dependent', 'zero', 'random', 'uniform']\n",
    "\n",
    "max_iterations = 300\n",
    "\n",
    "model_comparison = ExperimentInterferenceModelComparison(simulator=simulator)\n",
    "model_comparison.data_generation(num_samples=1000, max_power=max_power, netB_power_mode=netB_power_training_mode)\n",
    "model_comparison.modeling(synthetic_constrained=False)\n",
    "starting_powers_mW = [1e-5 for i in range(simulator.num_Rx)]\n",
    "# Rx_weights = np.random.uniform(0.1, 1, simulator.num_Rx)\n",
    "Rx_weights = np.ones(simulator.num_Rx)"
   ]
  },
  {
   "cell_type": "code",
   "execution_count": 131,
   "metadata": {},
   "outputs": [
    {
     "name": "stdout",
     "output_type": "stream",
     "text": [
      "Denominator: 1.086279879877774e-09\n",
      "Weighted Sum Rate: 173.39901434080295\n",
      "Power: [  0.           0.         150.64011363   0.           0.\n",
      "   0.           0.         194.43744736   0.           0.\n",
      "   0.           0.           0.          41.92070582   0.        ], [1e-05, 1e-05, 1e-05, 1e-05, 1e-05, 1e-05, 1e-05, 1e-05, 1e-05, 1e-05]\n",
      "Convergence Error at Round 300 0.6971593989254578\n"
     ]
    }
   ],
   "source": [
    "rates_original_method = stochastic_wmmse(\n",
    "    simulator=simulator,\n",
    "    Rx_powers_mW=starting_powers_mW,\n",
    "    Rx_max_powers_mW=max_power,\n",
    "    Rx_weights=Rx_weights,\n",
    "    interference_mode='original',\n",
    "    interference_models=[],\n",
    "    netB_power_mode = netB_power_testing_mode,\n",
    "    power_corr_mat=model_comparison.power_corr_mat,\n",
    "    max_iter=max_iterations,\n",
    ");"
   ]
  },
  {
   "cell_type": "code",
   "execution_count": 132,
   "metadata": {},
   "outputs": [],
   "source": [
    "# rates_local_method = stochastic_wmmse(\n",
    "#     simulator=simulator,\n",
    "#     Rx_powers_mW=starting_powers_mW,\n",
    "#     Rx_max_powers_mW=max_power,\n",
    "#     Rx_weights=Rx_weights,\n",
    "#     interference_mode='local',\n",
    "#     interference_models=[],\n",
    "#     netB_power_mode = netB_power_testing_mode,\n",
    "#     power_corr_mat=model_comparison.power_corr_mat,\n",
    "#     max_iter=max_iterations,\n",
    "# );"
   ]
  },
  {
   "cell_type": "code",
   "execution_count": 133,
   "metadata": {},
   "outputs": [
    {
     "name": "stdout",
     "output_type": "stream",
     "text": [
      "Denominator: nan\n",
      "Weighted Sum Rate: nan\n",
      "Power: [nan nan nan nan nan nan nan nan nan nan nan nan nan nan nan], [1e-05, 1e-05, 1e-05, 1e-05, 1e-05, 1e-05, 1e-05, 1e-05, 1e-05, 1e-05]\n",
      "Convergence Error at Round 300 nan\n"
     ]
    }
   ],
   "source": [
    "rates_sc_method = stochastic_wmmse(\n",
    "    simulator=simulator,\n",
    "    Rx_powers_mW=starting_powers_mW,\n",
    "    Rx_max_powers_mW=max_power,\n",
    "    Rx_weights=Rx_weights,\n",
    "    interference_mode='sc_estimate',\n",
    "    interference_models=model_comparison.sc_models,\n",
    "    netB_power_mode = [],\n",
    "    power_corr_mat=model_comparison.power_corr_mat,\n",
    "    max_iter=max_iterations,\n",
    ");"
   ]
  },
  {
   "cell_type": "code",
   "execution_count": 134,
   "metadata": {},
   "outputs": [],
   "source": [
    "# rates_lr_method = stochastic_wmmse(\n",
    "#     simulator=simulator,\n",
    "#     Rx_powers_mW=starting_powers_mW,\n",
    "#     Rx_max_powers_mW=max_power,\n",
    "#     Rx_weights=Rx_weights,\n",
    "#     interference_mode='lr_estimate',\n",
    "#     interference_models=model_comparison.lr_models,\n",
    "#     netB_power_mode = netB_power_testing_mode,\n",
    "#     power_corr_mat=model_comparison.power_corr_mat,\n",
    "#     max_iter=max_iterations,\n",
    "# );"
   ]
  },
  {
   "cell_type": "code",
   "execution_count": 135,
   "metadata": {},
   "outputs": [
    {
     "data": {
      "image/png": "[encoded data removed]",
      "text/plain": [
       "<Figure size 432x288 with 1 Axes>"
      ]
     },
     "metadata": {
      "needs_background": "light"
     },
     "output_type": "display_data"
    }
   ],
   "source": [
    "data = pd.DataFrame({\n",
    "    'wmmse': rates_original_method,\n",
    "    # 'wmmse_local': rates_local_method,\n",
    "    'wmmse_sc': rates_sc_method,\n",
    "    # 'wmmse_lr': rates_lr_method,\n",
    "})\n",
    "data.plot();"
   ]
  },
  {
   "cell_type": "code",
   "execution_count": null,
   "metadata": {},
   "outputs": [],
   "source": []
  },
  {
   "cell_type": "code",
   "execution_count": null,
   "metadata": {},
   "outputs": [],
   "source": []
  }
 ],
 "metadata": {
  "kernelspec": {
   "display_name": "Python 3.9.7",
   "language": "python",
   "name": "python3"
  },
  "language_info": {
   "codemirror_mode": {
    "name": "ipython",
    "version": 3
   },
   "file_extension": ".py",
   "mimetype": "text/x-python",
   "name": "python",
   "nbconvert_exporter": "python",
   "pygments_lexer": "ipython3",
   "version": "3.9.7"
  },
  "orig_nbformat": 4,
  "vscode": {
   "interpreter": {
    "hash": "92c6059857cd90f886057b6540f3fbd9cbe057fa31156affeeed8e9dc40e6663"
   }
  }
 },
 "nbformat": 4,
 "nbformat_minor": 2
}
