{
 "cells": [
  {
   "cell_type": "code",
   "execution_count": 2,
   "metadata": {},
   "outputs": [],
   "source": [
    "import numpy as np\n",
    "import pandas as pd\n",
    "import math\n",
    "import seaborn as sns\n",
    "import matplotlib.pyplot as plt\n",
    "\n",
    "import warnings\n",
    "warnings.filterwarnings(\"ignore\")\n",
    "\n",
    "from src.path_loss import PathLossInHIndoorOffice, PathLossInHShoppingMalls\n",
    "from src.network_sim import NetworkSimulator\n",
    "from src.algorithm import wmmse\n",
    "from src.sc import SyntheticControl\n",
    "\n",
    "%reload_ext autoreload\n",
    "%autoreload 2\n",
    "%aimport src"
   ]
  },
  {
   "cell_type": "code",
   "execution_count": 3,
   "metadata": {},
   "outputs": [],
   "source": [
    "frequency_Hz= 50 * 1e9 # Hz\n",
    "distance_m = 50\n",
    "sample_size = 10"
   ]
  },
  {
   "cell_type": "code",
   "execution_count": 4,
   "metadata": {},
   "outputs": [
    {
     "data": {
      "text/html": [
       "<div>\n",
       "<style scoped>\n",
       "    .dataframe tbody tr th:only-of-type {\n",
       "        vertical-align: middle;\n",
       "    }\n",
       "\n",
       "    .dataframe tbody tr th {\n",
       "        vertical-align: top;\n",
       "    }\n",
       "\n",
       "    .dataframe thead th {\n",
       "        text-align: right;\n",
       "    }\n",
       "</style>\n",
       "<table border=\"1\" class=\"dataframe\">\n",
       "  <thead>\n",
       "    <tr style=\"text-align: right;\">\n",
       "      <th></th>\n",
       "      <th>PathLossInHIndoorOffice</th>\n",
       "      <th>PathLossInHShoppingMalls</th>\n",
       "    </tr>\n",
       "  </thead>\n",
       "  <tbody>\n",
       "    <tr>\n",
       "      <th>0</th>\n",
       "      <td>-125.549711</td>\n",
       "      <td>-102.680151</td>\n",
       "    </tr>\n",
       "    <tr>\n",
       "      <th>1</th>\n",
       "      <td>-135.884556</td>\n",
       "      <td>-113.660575</td>\n",
       "    </tr>\n",
       "    <tr>\n",
       "      <th>2</th>\n",
       "      <td>-119.117274</td>\n",
       "      <td>-102.456709</td>\n",
       "    </tr>\n",
       "    <tr>\n",
       "      <th>3</th>\n",
       "      <td>-133.794549</td>\n",
       "      <td>-117.690479</td>\n",
       "    </tr>\n",
       "    <tr>\n",
       "      <th>4</th>\n",
       "      <td>-129.868340</td>\n",
       "      <td>-110.447279</td>\n",
       "    </tr>\n",
       "    <tr>\n",
       "      <th>5</th>\n",
       "      <td>-114.536864</td>\n",
       "      <td>-95.923689</td>\n",
       "    </tr>\n",
       "    <tr>\n",
       "      <th>6</th>\n",
       "      <td>-126.399550</td>\n",
       "      <td>-108.244133</td>\n",
       "    </tr>\n",
       "    <tr>\n",
       "      <th>7</th>\n",
       "      <td>-125.855869</td>\n",
       "      <td>-100.564212</td>\n",
       "    </tr>\n",
       "    <tr>\n",
       "      <th>8</th>\n",
       "      <td>-124.537846</td>\n",
       "      <td>-102.473276</td>\n",
       "    </tr>\n",
       "    <tr>\n",
       "      <th>9</th>\n",
       "      <td>-116.856493</td>\n",
       "      <td>-102.112441</td>\n",
       "    </tr>\n",
       "  </tbody>\n",
       "</table>\n",
       "</div>"
      ],
      "text/plain": [
       "   PathLossInHIndoorOffice  PathLossInHShoppingMalls\n",
       "0              -125.549711               -102.680151\n",
       "1              -135.884556               -113.660575\n",
       "2              -119.117274               -102.456709\n",
       "3              -133.794549               -117.690479\n",
       "4              -129.868340               -110.447279\n",
       "5              -114.536864                -95.923689\n",
       "6              -126.399550               -108.244133\n",
       "7              -125.855869               -100.564212\n",
       "8              -124.537846               -102.473276\n",
       "9              -116.856493               -102.112441"
      ]
     },
     "execution_count": 4,
     "metadata": {},
     "output_type": "execute_result"
    }
   ],
   "source": [
    "pd.DataFrame({\n",
    "    'PathLossInHIndoorOffice':[PathLossInHIndoorOffice().in_dBm(frequency_Hz=frequency_Hz, distance_m=distance_m) for i in range(sample_size)],\n",
    "    'PathLossInHShoppingMalls': [PathLossInHShoppingMalls().in_dBm(frequency_Hz=frequency_Hz, distance_m=distance_m) for i in range(sample_size)],\n",
    "})"
   ]
  },
  {
   "cell_type": "code",
   "execution_count": 5,
   "metadata": {},
   "outputs": [],
   "source": [
    "simulator = NetworkSimulator(Tx_radius=100, Rx_radius=25, num_Tx_known=1, num_Rx_per_Tx_known=10, num_Tx_unknown=1, num_Rx_per_Tx_unknown=10)"
   ]
  },
  {
   "cell_type": "code",
   "execution_count": 6,
   "metadata": {},
   "outputs": [
    {
     "data": {
      "image/png": "[encoded data removed]",
      "text/plain": [
       "<Figure size 504x504 with 1 Axes>"
      ]
     },
     "metadata": {},
     "output_type": "display_data"
    }
   ],
   "source": [
    "simulator.plot_network()"
   ]
  },
  {
   "cell_type": "code",
   "execution_count": 7,
   "metadata": {},
   "outputs": [
    {
     "data": {
      "text/html": [
       "<div>\n",
       "<style scoped>\n",
       "    .dataframe tbody tr th:only-of-type {\n",
       "        vertical-align: middle;\n",
       "    }\n",
       "\n",
       "    .dataframe tbody tr th {\n",
       "        vertical-align: top;\n",
       "    }\n",
       "\n",
       "    .dataframe thead th {\n",
       "        text-align: right;\n",
       "    }\n",
       "</style>\n",
       "<table border=\"1\" class=\"dataframe\">\n",
       "  <thead>\n",
       "    <tr style=\"text-align: right;\">\n",
       "      <th></th>\n",
       "      <th>0</th>\n",
       "      <th>1</th>\n",
       "      <th>2</th>\n",
       "      <th>3</th>\n",
       "      <th>4</th>\n",
       "      <th>5</th>\n",
       "      <th>6</th>\n",
       "      <th>7</th>\n",
       "      <th>8</th>\n",
       "      <th>9</th>\n",
       "      <th>10</th>\n",
       "      <th>11</th>\n",
       "      <th>12</th>\n",
       "      <th>13</th>\n",
       "      <th>14</th>\n",
       "      <th>15</th>\n",
       "      <th>16</th>\n",
       "      <th>17</th>\n",
       "      <th>18</th>\n",
       "      <th>19</th>\n",
       "    </tr>\n",
       "  </thead>\n",
       "  <tbody>\n",
       "    <tr>\n",
       "      <th>0</th>\n",
       "      <td>-83.935150</td>\n",
       "      <td>-87.438569</td>\n",
       "      <td>-101.644159</td>\n",
       "      <td>-92.862606</td>\n",
       "      <td>-99.832998</td>\n",
       "      <td>-87.009904</td>\n",
       "      <td>-83.228192</td>\n",
       "      <td>-91.526474</td>\n",
       "      <td>-108.941911</td>\n",
       "      <td>-92.523639</td>\n",
       "      <td>-144.527044</td>\n",
       "      <td>-138.538930</td>\n",
       "      <td>-123.342965</td>\n",
       "      <td>-136.244198</td>\n",
       "      <td>-136.556720</td>\n",
       "      <td>-136.279394</td>\n",
       "      <td>-123.726507</td>\n",
       "      <td>-129.396797</td>\n",
       "      <td>-137.527936</td>\n",
       "      <td>-144.195578</td>\n",
       "    </tr>\n",
       "    <tr>\n",
       "      <th>1</th>\n",
       "      <td>-136.808899</td>\n",
       "      <td>-148.138077</td>\n",
       "      <td>-146.776526</td>\n",
       "      <td>-133.053754</td>\n",
       "      <td>-142.477072</td>\n",
       "      <td>-132.410640</td>\n",
       "      <td>-145.042712</td>\n",
       "      <td>-132.714197</td>\n",
       "      <td>-142.904871</td>\n",
       "      <td>-145.166157</td>\n",
       "      <td>-92.282985</td>\n",
       "      <td>-110.274318</td>\n",
       "      <td>-85.909990</td>\n",
       "      <td>-86.624603</td>\n",
       "      <td>-109.241198</td>\n",
       "      <td>-104.890622</td>\n",
       "      <td>-96.427568</td>\n",
       "      <td>-89.807299</td>\n",
       "      <td>-90.774736</td>\n",
       "      <td>-92.279791</td>\n",
       "    </tr>\n",
       "  </tbody>\n",
       "</table>\n",
       "</div>"
      ],
      "text/plain": [
       "           0           1           2           3           4           5   \\\n",
       "0  -83.935150  -87.438569 -101.644159  -92.862606  -99.832998  -87.009904   \n",
       "1 -136.808899 -148.138077 -146.776526 -133.053754 -142.477072 -132.410640   \n",
       "\n",
       "           6           7           8           9           10          11  \\\n",
       "0  -83.228192  -91.526474 -108.941911  -92.523639 -144.527044 -138.538930   \n",
       "1 -145.042712 -132.714197 -142.904871 -145.166157  -92.282985 -110.274318   \n",
       "\n",
       "           12          13          14          15          16          17  \\\n",
       "0 -123.342965 -136.244198 -136.556720 -136.279394 -123.726507 -129.396797   \n",
       "1  -85.909990  -86.624603 -109.241198 -104.890622  -96.427568  -89.807299   \n",
       "\n",
       "           18          19  \n",
       "0 -137.527936 -144.195578  \n",
       "1  -90.774736  -92.279791  "
      ]
     },
     "execution_count": 7,
     "metadata": {},
     "output_type": "execute_result"
    }
   ],
   "source": [
    "pd.DataFrame(simulator.gain_mat_dBm)"
   ]
  },
  {
   "cell_type": "code",
   "execution_count": 8,
   "metadata": {},
   "outputs": [
    {
     "data": {
      "image/png": "[encoded data removed]",
      "text/plain": [
       "<Figure size 1152x144 with 2 Axes>"
      ]
     },
     "metadata": {
      "needs_background": "light"
     },
     "output_type": "display_data"
    }
   ],
   "source": [
    "simulator.plot_gain_mat()"
   ]
  },
  {
   "cell_type": "code",
   "execution_count": 9,
   "metadata": {},
   "outputs": [
    {
     "data": {
      "text/plain": [
       "459.6286388511677"
      ]
     },
     "execution_count": 9,
     "metadata": {},
     "output_type": "execute_result"
    }
   ],
   "source": [
    "simulator.weighted_sum_rate_Gnats(Rx_powers_mW=[250 for i in range(len(simulator.x_Rx))], Rx_weights=np.ones(len(simulator.x_Rx)))"
   ]
  },
  {
   "cell_type": "code",
   "execution_count": 10,
   "metadata": {},
   "outputs": [
    {
     "name": "stdout",
     "output_type": "stream",
     "text": [
      "Weighted Sum Rate: 436.06697735326446 Convergence Error at Round 5000 0.0\n"
     ]
    },
    {
     "data": {
      "text/plain": [
       "array([  0.        ,   0.        ,   0.        ,   0.        ,\n",
       "         0.        ,   0.        ,   0.        ,   0.        ,\n",
       "       500.        ,   0.        ,   5.19426649,   4.44800266,\n",
       "         6.33869419,   8.72002109,   7.84425772,   8.63391374,\n",
       "         5.40147292,   9.27119344,   9.79152203,   1.03861666])"
      ]
     },
     "execution_count": 10,
     "metadata": {},
     "output_type": "execute_result"
    }
   ],
   "source": [
    "part = 'known'\n",
    "gain_mat_mW = simulator.get_gain_mat(part=part, unit='mW')\n",
    "\n",
    "if part == 'unknown':\n",
    "    Tx_idx_shift = len(simulator.x_Tx) - gain_mat_mW.shape[0]\n",
    "    Rx_idx_shift = len(simulator.x_Rx) - gain_mat_mW.shape[1]\n",
    "else:\n",
    "    Tx_idx_shift = 0\n",
    "    Rx_idx_shift = 0\n",
    "\n",
    "Rx_powers_mW = np.random.uniform(1, 10, len(simulator.x_Rx))\n",
    "\n",
    "wmmse(\n",
    "    simulator = simulator, \n",
    "    gain_mat_mW = gain_mat_mW,\n",
    "    Rx_powers_mW = Rx_powers_mW,\n",
    "    Rx_max_powers_mW = [500 for i in range(gain_mat_mW.shape[1])],\n",
    "    Rx_weights=np.ones(len(simulator.x_Rx)),\n",
    "    Tx_idx_shift=Tx_idx_shift,\n",
    "    Rx_idx_shift=Rx_idx_shift,\n",
    "    max_iter=5000,\n",
    ")"
   ]
  },
  {
   "cell_type": "code",
   "execution_count": 11,
   "metadata": {},
   "outputs": [
    {
     "data": {
      "text/plain": [
       "array([[1.02774811, 0.98980082, 1.13928395, 0.97034394, 0.65612304,\n",
       "        1.3120444 , 1.37356589, 1.47292901, 0.7619209 , 0.93435526],\n",
       "       [1.42718554, 0.89706046, 1.2684339 , 0.76635752, 1.40875801,\n",
       "        1.28273898, 1.33423547, 0.88425834, 0.5879053 , 1.13830117],\n",
       "       [0.52437894, 0.99042901, 0.86498628, 1.44229046, 1.24279852,\n",
       "        0.78577623, 1.34259631, 0.904224  , 1.32917911, 0.85290883],\n",
       "       [1.16531383, 0.6430627 , 1.44160235, 0.95960193, 1.34731373,\n",
       "        1.16078308, 1.33299928, 1.12521674, 0.80606805, 1.34701168],\n",
       "       [0.94259288, 1.25937995, 0.81465326, 1.27874933, 1.00420181,\n",
       "        0.50374981, 0.97811014, 1.09644351, 0.85914576, 1.48571175],\n",
       "       [0.55599726, 0.52333722, 1.35781073, 1.49018601, 0.8951454 ,\n",
       "        0.6915028 , 0.76802966, 0.9810691 , 0.60383958, 1.38804253],\n",
       "       [0.82306376, 0.69838194, 1.06629003, 0.90840581, 1.43638902,\n",
       "        0.82520285, 0.76702398, 0.65448253, 0.66086625, 1.41127174],\n",
       "       [1.24804766, 0.8612114 , 1.061448  , 0.7661521 , 0.77629205,\n",
       "        1.0475458 , 0.72409227, 1.17624405, 1.19576539, 0.9947045 ],\n",
       "       [1.02227782, 0.89532026, 1.10107106, 0.8585045 , 1.16867454,\n",
       "        1.14450503, 0.63066994, 0.74025119, 1.31163766, 1.04974583],\n",
       "       [0.65274987, 1.23344439, 0.95832724, 0.53914156, 0.68712286,\n",
       "        1.34250793, 1.11198298, 1.32711596, 0.54064178, 0.68960847]])"
      ]
     },
     "execution_count": 11,
     "metadata": {},
     "output_type": "execute_result"
    }
   ],
   "source": [
    "power_corr_mat = np.random.uniform(0.5, 1.5, \n",
    "    (simulator.num_Tx_unknown*simulator.num_Rx_per_Tx_unknown, \n",
    "     simulator.num_Tx_known*simulator.num_Rx_per_Tx_known)\n",
    ")\n",
    "power_corr_mat"
   ]
  },
  {
   "cell_type": "code",
   "execution_count": 43,
   "metadata": {},
   "outputs": [],
   "source": [
    "observed_interferences_list = []\n",
    "for p_known in [np.random.uniform(0,500, gain_mat_mW.shape[1]) for i in range(50)]:\n",
    "    p_unknown = power_corr_mat.dot(p_known)\n",
    "    p = np.append(p_known, p_unknown)\n",
    "    observed_interference = simulator.Rx_interference(p)[Rx_idx_shift: Rx_idx_shift+gain_mat_mW.shape[1]]\n",
    "    observed_interferences_list.append(observed_interference)"
   ]
  },
  {
   "cell_type": "code",
   "execution_count": 44,
   "metadata": {},
   "outputs": [],
   "source": [
    "sc = []\n",
    "for i in range(len(simulator.x_Rx) - gain_mat_mW.shape[1]):\n",
    "    sc_data = pd.DataFrame(observed_interferences_list) * 1e11\n",
    "    sc_train_X = sc_data.drop(i, axis=1)\n",
    "    sc_train_y = sc_data[i] \n",
    "    sc_i = SyntheticControl().fit(X=sc_train_X, y=sc_train_y)\n",
    "    sc.append(sc_i)"
   ]
  },
  {
   "cell_type": "code",
   "execution_count": 45,
   "metadata": {},
   "outputs": [
    {
     "data": {
      "text/html": [
       "<div>\n",
       "<style scoped>\n",
       "    .dataframe tbody tr th:only-of-type {\n",
       "        vertical-align: middle;\n",
       "    }\n",
       "\n",
       "    .dataframe tbody tr th {\n",
       "        vertical-align: top;\n",
       "    }\n",
       "\n",
       "    .dataframe thead th {\n",
       "        text-align: right;\n",
       "    }\n",
       "</style>\n",
       "<table border=\"1\" class=\"dataframe\">\n",
       "  <thead>\n",
       "    <tr style=\"text-align: right;\">\n",
       "      <th></th>\n",
       "      <th>0</th>\n",
       "      <th>1</th>\n",
       "      <th>2</th>\n",
       "      <th>3</th>\n",
       "      <th>4</th>\n",
       "      <th>5</th>\n",
       "      <th>6</th>\n",
       "      <th>7</th>\n",
       "      <th>8</th>\n",
       "      <th>9</th>\n",
       "    </tr>\n",
       "  </thead>\n",
       "  <tbody>\n",
       "    <tr>\n",
       "      <th>0</th>\n",
       "      <td>59.080988</td>\n",
       "      <td>4.350408</td>\n",
       "      <td>5.952303</td>\n",
       "      <td>140.269182</td>\n",
       "      <td>16.018817</td>\n",
       "      <td>162.657330</td>\n",
       "      <td>8.872919</td>\n",
       "      <td>151.676406</td>\n",
       "      <td>14.516120</td>\n",
       "      <td>8.624263</td>\n",
       "    </tr>\n",
       "    <tr>\n",
       "      <th>1</th>\n",
       "      <td>48.702428</td>\n",
       "      <td>3.586186</td>\n",
       "      <td>4.906682</td>\n",
       "      <td>115.628562</td>\n",
       "      <td>13.204845</td>\n",
       "      <td>134.083858</td>\n",
       "      <td>7.314243</td>\n",
       "      <td>125.031918</td>\n",
       "      <td>11.966122</td>\n",
       "      <td>7.109267</td>\n",
       "    </tr>\n",
       "    <tr>\n",
       "      <th>2</th>\n",
       "      <td>62.283341</td>\n",
       "      <td>4.586212</td>\n",
       "      <td>6.274934</td>\n",
       "      <td>147.872159</td>\n",
       "      <td>16.887081</td>\n",
       "      <td>171.473806</td>\n",
       "      <td>9.353855</td>\n",
       "      <td>159.897687</td>\n",
       "      <td>15.302934</td>\n",
       "      <td>9.091722</td>\n",
       "    </tr>\n",
       "    <tr>\n",
       "      <th>3</th>\n",
       "      <td>43.258785</td>\n",
       "      <td>3.185346</td>\n",
       "      <td>4.358245</td>\n",
       "      <td>102.704349</td>\n",
       "      <td>11.728893</td>\n",
       "      <td>119.096832</td>\n",
       "      <td>6.496704</td>\n",
       "      <td>111.056658</td>\n",
       "      <td>10.628626</td>\n",
       "      <td>6.314639</td>\n",
       "    </tr>\n",
       "    <tr>\n",
       "      <th>4</th>\n",
       "      <td>55.720188</td>\n",
       "      <td>4.102937</td>\n",
       "      <td>5.613709</td>\n",
       "      <td>132.290021</td>\n",
       "      <td>15.107592</td>\n",
       "      <td>153.404627</td>\n",
       "      <td>8.368186</td>\n",
       "      <td>143.048350</td>\n",
       "      <td>13.690376</td>\n",
       "      <td>8.133675</td>\n",
       "    </tr>\n",
       "  </tbody>\n",
       "</table>\n",
       "</div>"
      ],
      "text/plain": [
       "           0         1         2           3          4           5         6  \\\n",
       "0  59.080988  4.350408  5.952303  140.269182  16.018817  162.657330  8.872919   \n",
       "1  48.702428  3.586186  4.906682  115.628562  13.204845  134.083858  7.314243   \n",
       "2  62.283341  4.586212  6.274934  147.872159  16.887081  171.473806  9.353855   \n",
       "3  43.258785  3.185346  4.358245  102.704349  11.728893  119.096832  6.496704   \n",
       "4  55.720188  4.102937  5.613709  132.290021  15.107592  153.404627  8.368186   \n",
       "\n",
       "            7          8         9  \n",
       "0  151.676406  14.516120  8.624263  \n",
       "1  125.031918  11.966122  7.109267  \n",
       "2  159.897687  15.302934  9.091722  \n",
       "3  111.056658  10.628626  6.314639  \n",
       "4  143.048350  13.690376  8.133675  "
      ]
     },
     "execution_count": 45,
     "metadata": {},
     "output_type": "execute_result"
    }
   ],
   "source": [
    "sc_data.head(5)"
   ]
  },
  {
   "cell_type": "code",
   "execution_count": 58,
   "metadata": {},
   "outputs": [
    {
     "name": "stdout",
     "output_type": "stream",
     "text": [
      "Real Interferences: 1.534385472582352e-11\n",
      "SC Interference 1.5343851824437012e-11\n",
      "[50, 50, 50, 50, 50, 50, 50, 50, 50, 50] [531.90576575 549.76173402 513.97838448 566.44866851 511.13690998\n",
      " 462.74801426 462.56889585 492.57516053 496.1328918  454.13215213]\n"
     ]
    }
   ],
   "source": [
    "check_Rx = 9\n",
    "p_known = [50 for i in range(gain_mat_mW.shape[1])]\n",
    "p_unknown = power_corr_mat.dot(p_known[Rx_idx_shift: Rx_idx_shift+gain_mat_mW.shape[1]])\n",
    "p = np.append(p_known, p_unknown)\n",
    "observed_interferences = simulator.Rx_interference(p)[Rx_idx_shift: Rx_idx_shift+gain_mat_mW.shape[1]]\n",
    "print('Real Interferences:', observed_interferences[check_Rx])\n",
    "print('SC Interference', sc[check_Rx].predict(pd.DataFrame(observed_interferences).drop(check_Rx, axis=0)[0]))\n",
    "print(p_known, p_unknown)"
   ]
  },
  {
   "cell_type": "code",
   "execution_count": 56,
   "metadata": {},
   "outputs": [
    {
     "name": "stdout",
     "output_type": "stream",
     "text": [
      "[30, 30, 30, 30, 30, 30, 30, 30, 30, 30] [319.14345945 329.85704041 308.38703069 339.86920111 306.68214599\n",
      " 277.64880856 277.54133751 295.54509632 297.67973508 272.47929128]\n"
     ]
    }
   ],
   "source": []
  },
  {
   "cell_type": "code",
   "execution_count": 235,
   "metadata": {},
   "outputs": [
    {
     "data": {
      "text/plain": [
       "array([0.11111111, 0.11111111, 0.11111111, 0.11111111, 0.11111111,\n",
       "       0.11111111, 0.11111111, 0.11111111, 0.11111111])"
      ]
     },
     "execution_count": 235,
     "metadata": {},
     "output_type": "execute_result"
    }
   ],
   "source": [
    "sc[0].coef_"
   ]
  },
  {
   "cell_type": "code",
   "execution_count": 182,
   "metadata": {},
   "outputs": [
    {
     "data": {
      "text/html": [
       "<div>\n",
       "<style scoped>\n",
       "    .dataframe tbody tr th:only-of-type {\n",
       "        vertical-align: middle;\n",
       "    }\n",
       "\n",
       "    .dataframe tbody tr th {\n",
       "        vertical-align: top;\n",
       "    }\n",
       "\n",
       "    .dataframe thead th {\n",
       "        text-align: right;\n",
       "    }\n",
       "</style>\n",
       "<table border=\"1\" class=\"dataframe\">\n",
       "  <thead>\n",
       "    <tr style=\"text-align: right;\">\n",
       "      <th></th>\n",
       "      <th>0</th>\n",
       "      <th>1</th>\n",
       "    </tr>\n",
       "  </thead>\n",
       "  <tbody>\n",
       "    <tr>\n",
       "      <th>0</th>\n",
       "      <td>7.456463e-10</td>\n",
       "      <td>1.610943e-10</td>\n",
       "    </tr>\n",
       "    <tr>\n",
       "      <th>1</th>\n",
       "      <td>2.319765e-09</td>\n",
       "      <td>5.455820e-10</td>\n",
       "    </tr>\n",
       "    <tr>\n",
       "      <th>2</th>\n",
       "      <td>2.005248e-09</td>\n",
       "      <td>4.594665e-10</td>\n",
       "    </tr>\n",
       "    <tr>\n",
       "      <th>3</th>\n",
       "      <td>2.417994e-09</td>\n",
       "      <td>5.494061e-10</td>\n",
       "    </tr>\n",
       "    <tr>\n",
       "      <th>4</th>\n",
       "      <td>1.627052e-09</td>\n",
       "      <td>3.620518e-10</td>\n",
       "    </tr>\n",
       "    <tr>\n",
       "      <th>...</th>\n",
       "      <td>...</td>\n",
       "      <td>...</td>\n",
       "    </tr>\n",
       "    <tr>\n",
       "      <th>495</th>\n",
       "      <td>1.860165e-09</td>\n",
       "      <td>4.008460e-10</td>\n",
       "    </tr>\n",
       "    <tr>\n",
       "      <th>496</th>\n",
       "      <td>2.142029e-09</td>\n",
       "      <td>4.933615e-10</td>\n",
       "    </tr>\n",
       "    <tr>\n",
       "      <th>497</th>\n",
       "      <td>1.491186e-09</td>\n",
       "      <td>3.328793e-10</td>\n",
       "    </tr>\n",
       "    <tr>\n",
       "      <th>498</th>\n",
       "      <td>1.852419e-09</td>\n",
       "      <td>4.246364e-10</td>\n",
       "    </tr>\n",
       "    <tr>\n",
       "      <th>499</th>\n",
       "      <td>1.956014e-09</td>\n",
       "      <td>4.487330e-10</td>\n",
       "    </tr>\n",
       "  </tbody>\n",
       "</table>\n",
       "<p>500 rows × 2 columns</p>\n",
       "</div>"
      ],
      "text/plain": [
       "                0             1\n",
       "0    7.456463e-10  1.610943e-10\n",
       "1    2.319765e-09  5.455820e-10\n",
       "2    2.005248e-09  4.594665e-10\n",
       "3    2.417994e-09  5.494061e-10\n",
       "4    1.627052e-09  3.620518e-10\n",
       "..            ...           ...\n",
       "495  1.860165e-09  4.008460e-10\n",
       "496  2.142029e-09  4.933615e-10\n",
       "497  1.491186e-09  3.328793e-10\n",
       "498  1.852419e-09  4.246364e-10\n",
       "499  1.956014e-09  4.487330e-10\n",
       "\n",
       "[500 rows x 2 columns]"
      ]
     },
     "execution_count": 182,
     "metadata": {},
     "output_type": "execute_result"
    }
   ],
   "source": [
    "pd.DataFrame(interferences_list)"
   ]
  },
  {
   "cell_type": "code",
   "execution_count": 234,
   "metadata": {},
   "outputs": [
    {
     "data": {
      "text/plain": [
       "1.403759419951393"
      ]
     },
     "execution_count": 234,
     "metadata": {},
     "output_type": "execute_result"
    }
   ],
   "source": [
    "i = 5\n",
    "sc[i].mse / observed_interferences[i]"
   ]
  },
  {
   "cell_type": "code",
   "execution_count": 184,
   "metadata": {},
   "outputs": [
    {
     "data": {
      "text/plain": [
       "array([20.        , 20.        , 47.24219135])"
      ]
     },
     "execution_count": 184,
     "metadata": {},
     "output_type": "execute_result"
    }
   ],
   "source": [
    "p"
   ]
  },
  {
   "cell_type": "code",
   "execution_count": 185,
   "metadata": {},
   "outputs": [
    {
     "data": {
      "text/plain": [
       "array([[0.93465383, 1.42745574]])"
      ]
     },
     "execution_count": 185,
     "metadata": {},
     "output_type": "execute_result"
    }
   ],
   "source": [
    "power_corr_mat"
   ]
  },
  {
   "cell_type": "code",
   "execution_count": 201,
   "metadata": {},
   "outputs": [
    {
     "data": {
      "text/plain": [
       "[0.0, 3.538825118782888e-11, 6.570757626109276e-10]"
      ]
     },
     "execution_count": 201,
     "metadata": {},
     "output_type": "execute_result"
    }
   ],
   "source": [
    "simulator.Rx_interference([50,0,0])"
   ]
  },
  {
   "cell_type": "code",
   "execution_count": null,
   "metadata": {},
   "outputs": [],
   "source": []
  }
 ],
 "metadata": {
  "kernelspec": {
   "display_name": "Python 3.9.7",
   "language": "python",
   "name": "python3"
  },
  "language_info": {
   "codemirror_mode": {
    "name": "ipython",
    "version": 3
   },
   "file_extension": ".py",
   "mimetype": "text/x-python",
   "name": "python",
   "nbconvert_exporter": "python",
   "pygments_lexer": "ipython3",
   "version": "3.9.7"
  },
  "orig_nbformat": 4,
  "vscode": {
   "interpreter": {
    "hash": "92c6059857cd90f886057b6540f3fbd9cbe057fa31156affeeed8e9dc40e6663"
   }
  }
 },
 "nbformat": 4,
 "nbformat_minor": 2
}
