{
 "cells": [
  {
   "cell_type": "code",
   "execution_count": 71,
   "metadata": {},
   "outputs": [],
   "source": [
    "import numpy as np\n",
    "import pandas as pd\n",
    "import math\n",
    "import seaborn as sns\n",
    "import matplotlib.pyplot as plt\n",
    "\n",
    "import warnings\n",
    "warnings.filterwarnings(\"ignore\")\n",
    "\n",
    "from src.path_loss import PathLossInHIndoorOffice, PathLossInHShoppingMalls\n",
    "from src.network_sim import NetworkSimulator\n",
    "from src.algorithm import weighted_minimum_mean_square_error\n",
    "from src.sc import SyntheticControl\n",
    "\n",
    "%reload_ext autoreload\n",
    "%autoreload 2\n",
    "%aimport src"
   ]
  },
  {
   "cell_type": "code",
   "execution_count": 2,
   "metadata": {},
   "outputs": [],
   "source": [
    "frequency_Hz= 50 * 1e9 # Hz\n",
    "distance_m = 50\n",
    "sample_size = 10"
   ]
  },
  {
   "cell_type": "code",
   "execution_count": 3,
   "metadata": {},
   "outputs": [
    {
     "data": {
      "text/html": [
       "<div>\n",
       "<style scoped>\n",
       "    .dataframe tbody tr th:only-of-type {\n",
       "        vertical-align: middle;\n",
       "    }\n",
       "\n",
       "    .dataframe tbody tr th {\n",
       "        vertical-align: top;\n",
       "    }\n",
       "\n",
       "    .dataframe thead th {\n",
       "        text-align: right;\n",
       "    }\n",
       "</style>\n",
       "<table border=\"1\" class=\"dataframe\">\n",
       "  <thead>\n",
       "    <tr style=\"text-align: right;\">\n",
       "      <th></th>\n",
       "      <th>PathLossInHIndoorOffice</th>\n",
       "      <th>PathLossInHShoppingMalls</th>\n",
       "    </tr>\n",
       "  </thead>\n",
       "  <tbody>\n",
       "    <tr>\n",
       "      <th>0</th>\n",
       "      <td>-112.772957</td>\n",
       "      <td>-98.548980</td>\n",
       "    </tr>\n",
       "    <tr>\n",
       "      <th>1</th>\n",
       "      <td>-118.301760</td>\n",
       "      <td>-109.886204</td>\n",
       "    </tr>\n",
       "    <tr>\n",
       "      <th>2</th>\n",
       "      <td>-132.653355</td>\n",
       "      <td>-106.489039</td>\n",
       "    </tr>\n",
       "    <tr>\n",
       "      <th>3</th>\n",
       "      <td>-121.169680</td>\n",
       "      <td>-102.471876</td>\n",
       "    </tr>\n",
       "    <tr>\n",
       "      <th>4</th>\n",
       "      <td>-135.580905</td>\n",
       "      <td>-94.089869</td>\n",
       "    </tr>\n",
       "    <tr>\n",
       "      <th>5</th>\n",
       "      <td>-116.983048</td>\n",
       "      <td>-93.675827</td>\n",
       "    </tr>\n",
       "    <tr>\n",
       "      <th>6</th>\n",
       "      <td>-121.841991</td>\n",
       "      <td>-102.468280</td>\n",
       "    </tr>\n",
       "    <tr>\n",
       "      <th>7</th>\n",
       "      <td>-139.698003</td>\n",
       "      <td>-120.477607</td>\n",
       "    </tr>\n",
       "    <tr>\n",
       "      <th>8</th>\n",
       "      <td>-136.520968</td>\n",
       "      <td>-107.222331</td>\n",
       "    </tr>\n",
       "    <tr>\n",
       "      <th>9</th>\n",
       "      <td>-99.984742</td>\n",
       "      <td>-116.563339</td>\n",
       "    </tr>\n",
       "  </tbody>\n",
       "</table>\n",
       "</div>"
      ],
      "text/plain": [
       "   PathLossInHIndoorOffice  PathLossInHShoppingMalls\n",
       "0              -112.772957                -98.548980\n",
       "1              -118.301760               -109.886204\n",
       "2              -132.653355               -106.489039\n",
       "3              -121.169680               -102.471876\n",
       "4              -135.580905                -94.089869\n",
       "5              -116.983048                -93.675827\n",
       "6              -121.841991               -102.468280\n",
       "7              -139.698003               -120.477607\n",
       "8              -136.520968               -107.222331\n",
       "9               -99.984742               -116.563339"
      ]
     },
     "execution_count": 3,
     "metadata": {},
     "output_type": "execute_result"
    }
   ],
   "source": [
    "pd.DataFrame({\n",
    "    'PathLossInHIndoorOffice':[PathLossInHIndoorOffice().in_dBm(frequency_Hz=frequency_Hz, distance_m=distance_m) for i in range(sample_size)],\n",
    "    'PathLossInHShoppingMalls': [PathLossInHShoppingMalls().in_dBm(frequency_Hz=frequency_Hz, distance_m=distance_m) for i in range(sample_size)],\n",
    "})"
   ]
  },
  {
   "cell_type": "code",
   "execution_count": 149,
   "metadata": {},
   "outputs": [],
   "source": [
    "simulator = NetworkSimulator(Tx_radius=100, Rx_radius=25, num_Tx_known=3, num_Rx_per_Tx_known=5, num_Tx_unknown=2, num_Rx_per_Tx_unknown=3)"
   ]
  },
  {
   "cell_type": "code",
   "execution_count": 150,
   "metadata": {},
   "outputs": [
    {
     "data": {
      "image/png": "[encoded data removed]",
      "text/plain": [
       "<Figure size 504x504 with 1 Axes>"
      ]
     },
     "metadata": {},
     "output_type": "display_data"
    }
   ],
   "source": [
    "simulator.plot_network()"
   ]
  },
  {
   "cell_type": "code",
   "execution_count": 151,
   "metadata": {},
   "outputs": [
    {
     "data": {
      "text/html": [
       "<div>\n",
       "<style scoped>\n",
       "    .dataframe tbody tr th:only-of-type {\n",
       "        vertical-align: middle;\n",
       "    }\n",
       "\n",
       "    .dataframe tbody tr th {\n",
       "        vertical-align: top;\n",
       "    }\n",
       "\n",
       "    .dataframe thead th {\n",
       "        text-align: right;\n",
       "    }\n",
       "</style>\n",
       "<table border=\"1\" class=\"dataframe\">\n",
       "  <thead>\n",
       "    <tr style=\"text-align: right;\">\n",
       "      <th></th>\n",
       "      <th>0</th>\n",
       "      <th>1</th>\n",
       "      <th>2</th>\n",
       "      <th>3</th>\n",
       "      <th>4</th>\n",
       "      <th>5</th>\n",
       "      <th>6</th>\n",
       "      <th>7</th>\n",
       "      <th>8</th>\n",
       "      <th>9</th>\n",
       "      <th>...</th>\n",
       "      <th>11</th>\n",
       "      <th>12</th>\n",
       "      <th>13</th>\n",
       "      <th>14</th>\n",
       "      <th>15</th>\n",
       "      <th>16</th>\n",
       "      <th>17</th>\n",
       "      <th>18</th>\n",
       "      <th>19</th>\n",
       "      <th>20</th>\n",
       "    </tr>\n",
       "  </thead>\n",
       "  <tbody>\n",
       "    <tr>\n",
       "      <th>0</th>\n",
       "      <td>-103.863133</td>\n",
       "      <td>-92.791364</td>\n",
       "      <td>-99.343280</td>\n",
       "      <td>-93.545275</td>\n",
       "      <td>-75.332640</td>\n",
       "      <td>-131.972010</td>\n",
       "      <td>-125.711019</td>\n",
       "      <td>-120.740906</td>\n",
       "      <td>-119.029620</td>\n",
       "      <td>-128.668743</td>\n",
       "      <td>...</td>\n",
       "      <td>-144.073747</td>\n",
       "      <td>-130.795843</td>\n",
       "      <td>-124.081061</td>\n",
       "      <td>-123.446567</td>\n",
       "      <td>-115.540755</td>\n",
       "      <td>-116.152414</td>\n",
       "      <td>-104.740089</td>\n",
       "      <td>-78.202034</td>\n",
       "      <td>-90.816763</td>\n",
       "      <td>-86.202553</td>\n",
       "    </tr>\n",
       "    <tr>\n",
       "      <th>1</th>\n",
       "      <td>-108.216925</td>\n",
       "      <td>-131.984670</td>\n",
       "      <td>-134.487939</td>\n",
       "      <td>-126.841600</td>\n",
       "      <td>-122.307716</td>\n",
       "      <td>-99.421814</td>\n",
       "      <td>-87.853537</td>\n",
       "      <td>-99.068763</td>\n",
       "      <td>-94.570876</td>\n",
       "      <td>-94.941991</td>\n",
       "      <td>...</td>\n",
       "      <td>-111.220274</td>\n",
       "      <td>-97.062124</td>\n",
       "      <td>-103.842096</td>\n",
       "      <td>-85.736070</td>\n",
       "      <td>-111.623714</td>\n",
       "      <td>-107.316205</td>\n",
       "      <td>-116.194303</td>\n",
       "      <td>-132.649945</td>\n",
       "      <td>-118.706421</td>\n",
       "      <td>-118.470364</td>\n",
       "    </tr>\n",
       "    <tr>\n",
       "      <th>2</th>\n",
       "      <td>-122.703850</td>\n",
       "      <td>-129.113026</td>\n",
       "      <td>-145.216946</td>\n",
       "      <td>-126.410670</td>\n",
       "      <td>-131.695762</td>\n",
       "      <td>-92.428656</td>\n",
       "      <td>-90.447219</td>\n",
       "      <td>-120.934299</td>\n",
       "      <td>-119.217384</td>\n",
       "      <td>-98.993944</td>\n",
       "      <td>...</td>\n",
       "      <td>-98.709816</td>\n",
       "      <td>-90.969826</td>\n",
       "      <td>-100.344066</td>\n",
       "      <td>-87.256899</td>\n",
       "      <td>-127.779074</td>\n",
       "      <td>-119.139941</td>\n",
       "      <td>-120.578899</td>\n",
       "      <td>-127.564643</td>\n",
       "      <td>-137.029651</td>\n",
       "      <td>-117.974778</td>\n",
       "    </tr>\n",
       "    <tr>\n",
       "      <th>3</th>\n",
       "      <td>-113.764392</td>\n",
       "      <td>-121.183023</td>\n",
       "      <td>-104.533302</td>\n",
       "      <td>-119.702029</td>\n",
       "      <td>-118.195688</td>\n",
       "      <td>-117.118959</td>\n",
       "      <td>-108.634758</td>\n",
       "      <td>-111.265756</td>\n",
       "      <td>-97.423413</td>\n",
       "      <td>-101.378929</td>\n",
       "      <td>...</td>\n",
       "      <td>-130.436594</td>\n",
       "      <td>-117.765768</td>\n",
       "      <td>-111.829683</td>\n",
       "      <td>-117.179975</td>\n",
       "      <td>-104.332120</td>\n",
       "      <td>-97.090044</td>\n",
       "      <td>-87.180253</td>\n",
       "      <td>-105.055670</td>\n",
       "      <td>-113.060675</td>\n",
       "      <td>-116.903087</td>\n",
       "    </tr>\n",
       "    <tr>\n",
       "      <th>4</th>\n",
       "      <td>-89.140533</td>\n",
       "      <td>-103.839461</td>\n",
       "      <td>-99.577892</td>\n",
       "      <td>-97.122210</td>\n",
       "      <td>-84.211831</td>\n",
       "      <td>-112.867891</td>\n",
       "      <td>-135.842937</td>\n",
       "      <td>-119.169275</td>\n",
       "      <td>-121.146332</td>\n",
       "      <td>-113.952903</td>\n",
       "      <td>...</td>\n",
       "      <td>-134.444065</td>\n",
       "      <td>-128.055104</td>\n",
       "      <td>-129.118929</td>\n",
       "      <td>-128.899234</td>\n",
       "      <td>-121.244946</td>\n",
       "      <td>-120.817394</td>\n",
       "      <td>-111.351619</td>\n",
       "      <td>-88.609064</td>\n",
       "      <td>-103.080243</td>\n",
       "      <td>-97.205151</td>\n",
       "    </tr>\n",
       "  </tbody>\n",
       "</table>\n",
       "<p>5 rows × 21 columns</p>\n",
       "</div>"
      ],
      "text/plain": [
       "           0           1           2           3           4           5   \\\n",
       "0 -103.863133  -92.791364  -99.343280  -93.545275  -75.332640 -131.972010   \n",
       "1 -108.216925 -131.984670 -134.487939 -126.841600 -122.307716  -99.421814   \n",
       "2 -122.703850 -129.113026 -145.216946 -126.410670 -131.695762  -92.428656   \n",
       "3 -113.764392 -121.183023 -104.533302 -119.702029 -118.195688 -117.118959   \n",
       "4  -89.140533 -103.839461  -99.577892  -97.122210  -84.211831 -112.867891   \n",
       "\n",
       "           6           7           8           9   ...          11  \\\n",
       "0 -125.711019 -120.740906 -119.029620 -128.668743  ... -144.073747   \n",
       "1  -87.853537  -99.068763  -94.570876  -94.941991  ... -111.220274   \n",
       "2  -90.447219 -120.934299 -119.217384  -98.993944  ...  -98.709816   \n",
       "3 -108.634758 -111.265756  -97.423413 -101.378929  ... -130.436594   \n",
       "4 -135.842937 -119.169275 -121.146332 -113.952903  ... -134.444065   \n",
       "\n",
       "           12          13          14          15          16          17  \\\n",
       "0 -130.795843 -124.081061 -123.446567 -115.540755 -116.152414 -104.740089   \n",
       "1  -97.062124 -103.842096  -85.736070 -111.623714 -107.316205 -116.194303   \n",
       "2  -90.969826 -100.344066  -87.256899 -127.779074 -119.139941 -120.578899   \n",
       "3 -117.765768 -111.829683 -117.179975 -104.332120  -97.090044  -87.180253   \n",
       "4 -128.055104 -129.118929 -128.899234 -121.244946 -120.817394 -111.351619   \n",
       "\n",
       "           18          19          20  \n",
       "0  -78.202034  -90.816763  -86.202553  \n",
       "1 -132.649945 -118.706421 -118.470364  \n",
       "2 -127.564643 -137.029651 -117.974778  \n",
       "3 -105.055670 -113.060675 -116.903087  \n",
       "4  -88.609064 -103.080243  -97.205151  \n",
       "\n",
       "[5 rows x 21 columns]"
      ]
     },
     "execution_count": 151,
     "metadata": {},
     "output_type": "execute_result"
    }
   ],
   "source": [
    "pd.DataFrame(simulator.gain_mat_dBm)"
   ]
  },
  {
   "cell_type": "code",
   "execution_count": 152,
   "metadata": {},
   "outputs": [
    {
     "data": {
      "image/png": "[encoded data removed]",
      "text/plain": [
       "<Figure size 1152x274.286 with 2 Axes>"
      ]
     },
     "metadata": {
      "needs_background": "light"
     },
     "output_type": "display_data"
    }
   ],
   "source": [
    "simulator.plot_gain_mat()"
   ]
  },
  {
   "cell_type": "code",
   "execution_count": 153,
   "metadata": {},
   "outputs": [
    {
     "data": {
      "text/plain": [
       "66.83090746276778"
      ]
     },
     "execution_count": 153,
     "metadata": {},
     "output_type": "execute_result"
    }
   ],
   "source": [
    "simulator.weighted_sum_rate_Gnats(Rx_powers_mW=[250 for i in range(len(simulator.x_Rx))], Rx_weights=np.ones(len(simulator.x_Rx)))"
   ]
  },
  {
   "cell_type": "code",
   "execution_count": 154,
   "metadata": {},
   "outputs": [
    {
     "name": "stdout",
     "output_type": "stream",
     "text": [
      "[0.0, 0.0, 0.0, 0.0, 105.92493169564823, 0.0, 0.0, 0.0, 0.0, 0.0, 0.0, 363.29520754787836, 0.0, 0.0, 0.0, 250, 250, 250, 250, 250, 250]\n",
      "Weighted Sum Rate: 90.70548067835638\n",
      "Round 5000 0.0011934044052254197\n",
      "\t Power: [0.0, 0.0, 0.0, 0.0, 105.92493169564823, 0.0, 0.0, 0.0, 0.0, 0.0, 0.0, 363.29520754787836, 0.0, 0.0, 0.0, 250, 250, 250, 250, 250, 250]\n"
     ]
    }
   ],
   "source": [
    "part = 'known'\n",
    "gain_mat_mW = simulator.get_gain_mat(part=part, unit='mW')\n",
    "\n",
    "if part == 'unknown':\n",
    "    Tx_idx_shift = len(simulator.x_Tx) - gain_mat_mW.shape[0]\n",
    "    Rx_idx_shift = len(simulator.x_Rx) - gain_mat_mW.shape[1]\n",
    "else:\n",
    "    Tx_idx_shift = 0\n",
    "    Rx_idx_shift = 0\n",
    "\n",
    "\n",
    "powers_list = weighted_minimum_mean_square_error(\n",
    "    simulator = simulator, \n",
    "    gain_mat_mW = gain_mat_mW,\n",
    "    Rx_powers_mW = [250 for i in range(len(simulator.x_Rx))],\n",
    "    Rx_max_powers_mW = [500 for i in range(gain_mat_mW.shape[1])],\n",
    "    Rx_weights=np.ones(len(simulator.x_Rx)),\n",
    "    Tx_idx_shift=Tx_idx_shift,\n",
    "    Rx_idx_shift=Rx_idx_shift,\n",
    ")"
   ]
  },
  {
   "cell_type": "code",
   "execution_count": 178,
   "metadata": {},
   "outputs": [
    {
     "ename": "TypeError",
     "evalue": "can't multiply sequence by non-int of type 'float'",
     "output_type": "error",
     "traceback": [
      "\u001b[0;31m---------------------------------------------------------------------------\u001b[0m",
      "\u001b[0;31mTypeError\u001b[0m                                 Traceback (most recent call last)",
      "\u001b[0;32m/var/folders/hk/dwm_95gd3tl97t5ry9zm2gzm0000gn/T/ipykernel_31916/2817267558.py\u001b[0m in \u001b[0;36m<module>\u001b[0;34m\u001b[0m\n\u001b[1;32m      1\u001b[0m \u001b[0minterferences_list\u001b[0m \u001b[0;34m=\u001b[0m \u001b[0;34m[\u001b[0m\u001b[0;34m]\u001b[0m\u001b[0;34m\u001b[0m\u001b[0;34m\u001b[0m\u001b[0m\n\u001b[1;32m      2\u001b[0m \u001b[0;32mfor\u001b[0m \u001b[0mp\u001b[0m \u001b[0;32min\u001b[0m \u001b[0;34m[\u001b[0m\u001b[0mnp\u001b[0m\u001b[0;34m.\u001b[0m\u001b[0mrandom\u001b[0m\u001b[0;34m.\u001b[0m\u001b[0muniform\u001b[0m\u001b[0;34m(\u001b[0m\u001b[0;36m0\u001b[0m\u001b[0;34m,\u001b[0m\u001b[0;36m500\u001b[0m\u001b[0;34m,\u001b[0m \u001b[0mlen\u001b[0m\u001b[0;34m(\u001b[0m\u001b[0msimulator\u001b[0m\u001b[0;34m.\u001b[0m\u001b[0mx_Rx\u001b[0m\u001b[0;34m)\u001b[0m\u001b[0;34m)\u001b[0m \u001b[0;32mfor\u001b[0m \u001b[0mi\u001b[0m \u001b[0;32min\u001b[0m \u001b[0mrange\u001b[0m\u001b[0;34m(\u001b[0m\u001b[0;36m5000\u001b[0m\u001b[0;34m)\u001b[0m\u001b[0;34m]\u001b[0m\u001b[0;34m:\u001b[0m\u001b[0;34m\u001b[0m\u001b[0;34m\u001b[0m\u001b[0m\n\u001b[0;32m----> 3\u001b[0;31m     \u001b[0mobserved_interference\u001b[0m \u001b[0;34m=\u001b[0m \u001b[0msimulator\u001b[0m\u001b[0;34m.\u001b[0m\u001b[0mRx_interference\u001b[0m\u001b[0;34m(\u001b[0m\u001b[0mp\u001b[0m\u001b[0;34m)\u001b[0m\u001b[0;34m[\u001b[0m\u001b[0mRx_idx_shift\u001b[0m\u001b[0;34m:\u001b[0m \u001b[0mRx_idx_shift\u001b[0m\u001b[0;34m+\u001b[0m\u001b[0mgain_mat_mW\u001b[0m\u001b[0;34m.\u001b[0m\u001b[0mshape\u001b[0m\u001b[0;34m[\u001b[0m\u001b[0;36m1\u001b[0m\u001b[0;34m]\u001b[0m\u001b[0;34m]\u001b[0m \u001b[0;34m*\u001b[0m \u001b[0;36m1e6\u001b[0m\u001b[0;34m\u001b[0m\u001b[0;34m\u001b[0m\u001b[0m\n\u001b[0m\u001b[1;32m      4\u001b[0m     \u001b[0minterferences_list\u001b[0m\u001b[0;34m.\u001b[0m\u001b[0mappend\u001b[0m\u001b[0;34m(\u001b[0m\u001b[0mobserved_interference\u001b[0m\u001b[0;34m)\u001b[0m\u001b[0;34m\u001b[0m\u001b[0;34m\u001b[0m\u001b[0m\n",
      "\u001b[0;31mTypeError\u001b[0m: can't multiply sequence by non-int of type 'float'"
     ]
    }
   ],
   "source": [
    "interferences_list = []\n",
    "for p in [np.random.uniform(0,500, len(simulator.x_Rx)) for i in range(5000)]:\n",
    "    observed_interference = simulator.Rx_interference(p)[Rx_idx_shift: Rx_idx_shift+gain_mat_mW.shape[1]]\n",
    "    interferences_list.append(observed_interference)"
   ]
  },
  {
   "cell_type": "code",
   "execution_count": 156,
   "metadata": {},
   "outputs": [],
   "source": [
    "sc = []\n",
    "for i in range(gain_mat_mW.shape[1]):\n",
    "    sc_i = SyntheticControl().fit(X=pd.DataFrame(interferences_list).drop(i, axis=1), y = pd.DataFrame(interferences_list)[i])\n",
    "    sc.append(sc_i)"
   ]
  },
  {
   "cell_type": "code",
   "execution_count": 165,
   "metadata": {},
   "outputs": [
    {
     "name": "stdout",
     "output_type": "stream",
     "text": [
      "Real Interferences: 8.728921480223268e-08\n",
      "SC Interference 5.752654888188169e-07\n"
     ]
    }
   ],
   "source": [
    "check_Rx = 2\n",
    "p = [200 for i in range(len(simulator.x_Rx))]\n",
    "observed_interferences = simulator.Rx_interference(p)[Rx_idx_shift: Rx_idx_shift+gain_mat_mW.shape[1]]\n",
    "print('Real Interferences:', observed_interferences[check_Rx])\n",
    "print('SC Interference', sc[check_Rx].predict(pd.DataFrame(observed_interferences).drop(check_Rx, axis=0)[0]))"
   ]
  },
  {
   "cell_type": "code",
   "execution_count": 173,
   "metadata": {},
   "outputs": [
    {
     "data": {
      "text/plain": [
       "array([0.07142857, 0.07142857, 0.07142857, 0.07142857, 0.07142857,\n",
       "       0.07142857, 0.07142857, 0.07142857, 0.07142857, 0.07142857,\n",
       "       0.07142857, 0.07142857, 0.07142857, 0.07142857])"
      ]
     },
     "execution_count": 173,
     "metadata": {},
     "output_type": "execute_result"
    }
   ],
   "source": [
    "sc[0].coef_"
   ]
  },
  {
   "cell_type": "code",
   "execution_count": null,
   "metadata": {},
   "outputs": [],
   "source": []
  }
 ],
 "metadata": {
  "kernelspec": {
   "display_name": "Python 3.9.7",
   "language": "python",
   "name": "python3"
  },
  "language_info": {
   "codemirror_mode": {
    "name": "ipython",
    "version": 3
   },
   "file_extension": ".py",
   "mimetype": "text/x-python",
   "name": "python",
   "nbconvert_exporter": "python",
   "pygments_lexer": "ipython3",
   "version": "3.9.7"
  },
  "orig_nbformat": 4,
  "vscode": {
   "interpreter": {
    "hash": "92c6059857cd90f886057b6540f3fbd9cbe057fa31156affeeed8e9dc40e6663"
   }
  }
 },
 "nbformat": 4,
 "nbformat_minor": 2
}
